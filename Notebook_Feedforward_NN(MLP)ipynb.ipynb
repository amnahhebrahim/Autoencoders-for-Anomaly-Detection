{
  "nbformat": 4,
  "nbformat_minor": 0,
  "metadata": {
    "colab": {
      "provenance": [],
      "gpuType": "T4",
      "mount_file_id": "1tm0rCw5BYPC0BQQ9lzFB77kPXGgywGra",
      "authorship_tag": "ABX9TyNX0PF1d9qDJW3nGDhKy4G3",
      "include_colab_link": true
    },
    "kernelspec": {
      "name": "python3",
      "display_name": "Python 3"
    },
    "language_info": {
      "name": "python"
    },
    "accelerator": "GPU"
  },
  "cells": [
    {
      "cell_type": "markdown",
      "metadata": {
        "id": "view-in-github",
        "colab_type": "text"
      },
      "source": [
        "<a href=\"https://colab.research.google.com/github/amnahhebrahim/Autoencoders-for-Anomaly-Detection/blob/main/Notebook_Feedforward_NN(MLP)ipynb.ipynb\" target=\"_parent\"><img src=\"https://colab.research.google.com/assets/colab-badge.svg\" alt=\"Open In Colab\"/></a>"
      ]
    },
    {
      "cell_type": "code",
      "source": [
        "# !git init\n",
        "!ls -la\n",
        "\n"
      ],
      "metadata": {
        "colab": {
          "base_uri": "https://localhost:8080/"
        },
        "id": "A7eK2q1PNVJ7",
        "outputId": "74d9063d-66b5-4fb7-8181-50d29e580cd7"
      },
      "execution_count": 19,
      "outputs": [
        {
          "output_type": "stream",
          "name": "stdout",
          "text": [
            "total 24\n",
            "drwxr-xr-x 1 root root 4096 Oct 25 11:51 .\n",
            "drwxr-xr-x 1 root root 4096 Oct 25 11:42 ..\n",
            "drwxr-xr-x 4 root root 4096 Oct 23 13:40 .config\n",
            "drwx------ 5 root root 4096 Oct 25 11:43 drive\n",
            "drwxr-xr-x 7 root root 4096 Oct 25 11:51 .git\n",
            "drwxr-xr-x 1 root root 4096 Oct 23 13:40 sample_data\n"
          ]
        }
      ]
    },
    {
      "cell_type": "markdown",
      "source": [
        "## Import Necessary Libraries and Dataset:"
      ],
      "metadata": {
        "id": "Z74pezgxs6Y0"
      }
    },
    {
      "cell_type": "code",
      "execution_count": 1,
      "metadata": {
        "id": "7UovHN3FvVd1"
      },
      "outputs": [],
      "source": [
        "# Necessary imports\n",
        "import numpy as np\n",
        "import pandas as pd\n",
        "import xgboost as xg\n",
        "from sklearn.model_selection import train_test_split\n",
        "from sklearn.metrics import mean_squared_error as MSE"
      ]
    },
    {
      "cell_type": "code",
      "source": [
        "from google.colab import drive\n",
        "drive.mount('/content/drive')"
      ],
      "metadata": {
        "id": "DHji7gLN33uo",
        "colab": {
          "base_uri": "https://localhost:8080/"
        },
        "outputId": "67b730fa-7ded-4e6e-e594-9eb6fe9f36d7"
      },
      "execution_count": 2,
      "outputs": [
        {
          "output_type": "stream",
          "name": "stdout",
          "text": [
            "Drive already mounted at /content/drive; to attempt to forcibly remount, call drive.mount(\"/content/drive\", force_remount=True).\n"
          ]
        }
      ]
    },
    {
      "cell_type": "code",
      "source": [
        "!pip install scikit-learn\n",
        "!pip install --upgrade pip setuptools\n"
      ],
      "metadata": {
        "id": "1pSORrST0o-J",
        "colab": {
          "base_uri": "https://localhost:8080/"
        },
        "outputId": "f98ae1e0-ccf2-4160-a1f3-6ce93978bfca"
      },
      "execution_count": 3,
      "outputs": [
        {
          "output_type": "stream",
          "name": "stdout",
          "text": [
            "Requirement already satisfied: scikit-learn in /usr/local/lib/python3.12/dist-packages (1.6.1)\n",
            "Requirement already satisfied: numpy>=1.19.5 in /usr/local/lib/python3.12/dist-packages (from scikit-learn) (2.0.2)\n",
            "Requirement already satisfied: scipy>=1.6.0 in /usr/local/lib/python3.12/dist-packages (from scikit-learn) (1.16.2)\n",
            "Requirement already satisfied: joblib>=1.2.0 in /usr/local/lib/python3.12/dist-packages (from scikit-learn) (1.5.2)\n",
            "Requirement already satisfied: threadpoolctl>=3.1.0 in /usr/local/lib/python3.12/dist-packages (from scikit-learn) (3.6.0)\n",
            "Requirement already satisfied: pip in /usr/local/lib/python3.12/dist-packages (25.3)\n",
            "Requirement already satisfied: setuptools in /usr/local/lib/python3.12/dist-packages (80.9.0)\n"
          ]
        }
      ]
    },
    {
      "cell_type": "markdown",
      "source": [
        "### Import Data:"
      ],
      "metadata": {
        "id": "yUXkB0z4tKpE"
      }
    },
    {
      "cell_type": "code",
      "source": [
        "df_all=pd.read_csv(\"/content/drive/MyDrive/Colab Notebooks/Masters' Work/Dataset/Full dataset/Combined/all_runs_combined.csv\")"
      ],
      "metadata": {
        "id": "0kGrGER6H8lS"
      },
      "execution_count": 4,
      "outputs": []
    },
    {
      "cell_type": "code",
      "source": [
        "print(\"The size of the dataset is as follows:\", df_all.shape)"
      ],
      "metadata": {
        "id": "qDqchsJrEH8v",
        "colab": {
          "base_uri": "https://localhost:8080/"
        },
        "outputId": "edef5d26-7bf4-43f6-8057-48ac16bbc0a6"
      },
      "execution_count": 5,
      "outputs": [
        {
          "output_type": "stream",
          "name": "stdout",
          "text": [
            "The size of the dataset is as follows: (10570581, 39)\n"
          ]
        }
      ]
    },
    {
      "cell_type": "code",
      "source": [
        "print(\"Number of Cycles (max):\", df_all.Cycle.unique().max())\n",
        "print(\"Number of Cycles (min):\", df_all.Cycle.unique().min())\n",
        "# print(\"Number of Cycles (unique):\", len(df_all.Cycle.unique()"
      ],
      "metadata": {
        "id": "afZGsDWWPv6K",
        "colab": {
          "base_uri": "https://localhost:8080/"
        },
        "outputId": "1912673f-3d53-4092-b668-7ea13f104b1b"
      },
      "execution_count": 6,
      "outputs": [
        {
          "output_type": "stream",
          "name": "stdout",
          "text": [
            "Number of Cycles (max): 1000.0\n",
            "Number of Cycles (min): 1.0\n"
          ]
        }
      ]
    },
    {
      "cell_type": "code",
      "source": [
        "df_all.run_name.unique()"
      ],
      "metadata": {
        "id": "o5SdvljjMgol",
        "colab": {
          "base_uri": "https://localhost:8080/"
        },
        "outputId": "0613865e-26ad-4674-8dbe-d7e47825c29c"
      },
      "execution_count": 7,
      "outputs": [
        {
          "output_type": "execute_result",
          "data": {
            "text/plain": [
              "array(['group_run_611_22072025', 'group_run_605_22072025',\n",
              "       'group_run_606_22072025', 'group_run_609_22072025',\n",
              "       'group_run_607_22072025', 'group_run_608_22072025',\n",
              "       'group_run_610_22072025'], dtype=object)"
            ]
          },
          "metadata": {},
          "execution_count": 7
        }
      ]
    },
    {
      "cell_type": "code",
      "source": [
        "\n",
        "list_of_runs=[\"group_run_611_22072025\",\"group_run_605_22072025\"]\n",
        "df=df_all[df_all[\"run_name\"].isin(list_of_runs)].copy()\n",
        "\n",
        "print(\"Size of new df\", df.shape)"
      ],
      "metadata": {
        "id": "LLk6B3NxM-lm",
        "colab": {
          "base_uri": "https://localhost:8080/"
        },
        "outputId": "631d1cbb-1500-4327-e2c1-f27a111e9bd1"
      },
      "execution_count": 8,
      "outputs": [
        {
          "output_type": "stream",
          "name": "stdout",
          "text": [
            "Size of new df (3019360, 39)\n"
          ]
        }
      ]
    },
    {
      "cell_type": "code",
      "source": [
        "del df_all #hopefully to avoid ram crash"
      ],
      "metadata": {
        "id": "lIooooSFOfZe"
      },
      "execution_count": 9,
      "outputs": []
    },
    {
      "cell_type": "code",
      "source": [
        "\n",
        "pd.set_option('display.max_columns', None)\n",
        "df.head()"
      ],
      "metadata": {
        "id": "KzjG9qr9THX7",
        "colab": {
          "base_uri": "https://localhost:8080/",
          "height": 243
        },
        "outputId": "e465b673-a126-4c27-99ec-e821d2c9f69a"
      },
      "execution_count": 10,
      "outputs": [
        {
          "output_type": "execute_result",
          "data": {
            "text/plain": [
              "   Unnamed: 0  Link_ID  Cycle  Time_Tag_int  rx_timetag2  Elink  FE_id  \\\n",
              "0        1071     14.0    1.0        3460.0   49325760.0    0.0  291.0   \n",
              "1        1072     14.0    1.0        3460.0   49325760.0    0.0  291.0   \n",
              "2        1073     14.0    1.0        3460.0   49325760.0    0.0  291.0   \n",
              "3        1074     14.0    1.0        3460.0   49325760.0    0.0  291.0   \n",
              "4        1075     14.0    1.0        3460.0   49325760.0    0.0  291.0   \n",
              "\n",
              "   DM_position  FE_position  chipID  channelID      time_raw      time_end  \\\n",
              "0          7.0         10.0     1.0       20.0  1.616307e+12  1.616307e+12   \n",
              "1          7.0         10.0     1.0       27.0  1.616307e+12  1.616307e+12   \n",
              "2          7.0         10.0     1.0       31.0  1.616307e+12  1.616307e+12   \n",
              "3          7.0         10.0     1.0        1.0  1.616307e+12  1.616307e+12   \n",
              "4          7.0         10.0     1.0        4.0  1.616307e+12  1.616307e+12   \n",
              "\n",
              "     time_end_q  t1fine  t2fine  qfine  tacID  t1coarse_int  t2coarse_int  \\\n",
              "0  1.616307e+12   724.0   770.0   55.0    4.0       16387.0           3.0   \n",
              "1  1.616307e+12   762.0   772.0   74.0    6.0       16387.0           3.0   \n",
              "2  1.616307e+12   729.0   740.0   47.0    2.0       16387.0           3.0   \n",
              "3  1.616307e+12   702.0   740.0   57.0    0.0       16387.0           3.0   \n",
              "4  1.616307e+12   733.0   709.0   72.0    0.0       16387.0           3.0   \n",
              "\n",
              "   qcoarse_int  pcoarse_int       qT1          time        t0         a0  \\\n",
              "0          3.0       1008.0  1.359904  1.616307e+12 -0.080208  55.085861   \n",
              "1          3.0       1008.0  1.331692  1.616307e+12 -0.038042  72.999390   \n",
              "2          4.0       1008.0  1.297821  1.616307e+12  0.004154  53.364655   \n",
              "3          3.0       1008.0  1.276364  1.616307e+12 -0.001499  71.845001   \n",
              "4          3.0       1008.0  1.348136  1.616307e+12 -0.062096  53.248604   \n",
              "\n",
              "          a1        a2       qT2       timeEnd     t0_t2      a0_t2  \\\n",
              "0  494.82889 -2.166073  1.335641  1.616307e+12 -0.068721  68.102737   \n",
              "1  520.62048 -2.427774  1.327599  1.616307e+12 -0.056609  61.857349   \n",
              "2  520.60498 -0.010001  1.267041  1.616307e+12 -0.001199  68.898949   \n",
              "3  494.87213 -0.909650  1.260108  1.616307e+12 -0.007957  86.302727   \n",
              "4  508.13696 -2.908567  1.300361  1.616307e+12 -0.061212  58.781258   \n",
              "\n",
              "       a1_t2     a2_t2     energy       TOT       tqT       tqE  \\\n",
              "0  526.52130 -0.754562 -14.240576  0.012451  1.279541  1.267090   \n",
              "1  535.01447 -0.080675  11.739983  0.022705  1.293701  1.270996   \n",
              "2  529.67285 -0.010000 -15.025755  0.036133  1.302002  1.265869   \n",
              "3  518.77533 -0.010000  -5.445229  0.022949  1.274902  1.251953   \n",
              "4  500.78253 -0.579224   9.505785  0.047119  1.286133  1.239014   \n",
              "\n",
              "                 run_name  \n",
              "0  group_run_611_22072025  \n",
              "1  group_run_611_22072025  \n",
              "2  group_run_611_22072025  \n",
              "3  group_run_611_22072025  \n",
              "4  group_run_611_22072025  "
            ],
            "text/html": [
              "\n",
              "  <div id=\"df-c42fc5ab-a472-4bde-840e-153265a44f9b\" class=\"colab-df-container\">\n",
              "    <div>\n",
              "<style scoped>\n",
              "    .dataframe tbody tr th:only-of-type {\n",
              "        vertical-align: middle;\n",
              "    }\n",
              "\n",
              "    .dataframe tbody tr th {\n",
              "        vertical-align: top;\n",
              "    }\n",
              "\n",
              "    .dataframe thead th {\n",
              "        text-align: right;\n",
              "    }\n",
              "</style>\n",
              "<table border=\"1\" class=\"dataframe\">\n",
              "  <thead>\n",
              "    <tr style=\"text-align: right;\">\n",
              "      <th></th>\n",
              "      <th>Unnamed: 0</th>\n",
              "      <th>Link_ID</th>\n",
              "      <th>Cycle</th>\n",
              "      <th>Time_Tag_int</th>\n",
              "      <th>rx_timetag2</th>\n",
              "      <th>Elink</th>\n",
              "      <th>FE_id</th>\n",
              "      <th>DM_position</th>\n",
              "      <th>FE_position</th>\n",
              "      <th>chipID</th>\n",
              "      <th>channelID</th>\n",
              "      <th>time_raw</th>\n",
              "      <th>time_end</th>\n",
              "      <th>time_end_q</th>\n",
              "      <th>t1fine</th>\n",
              "      <th>t2fine</th>\n",
              "      <th>qfine</th>\n",
              "      <th>tacID</th>\n",
              "      <th>t1coarse_int</th>\n",
              "      <th>t2coarse_int</th>\n",
              "      <th>qcoarse_int</th>\n",
              "      <th>pcoarse_int</th>\n",
              "      <th>qT1</th>\n",
              "      <th>time</th>\n",
              "      <th>t0</th>\n",
              "      <th>a0</th>\n",
              "      <th>a1</th>\n",
              "      <th>a2</th>\n",
              "      <th>qT2</th>\n",
              "      <th>timeEnd</th>\n",
              "      <th>t0_t2</th>\n",
              "      <th>a0_t2</th>\n",
              "      <th>a1_t2</th>\n",
              "      <th>a2_t2</th>\n",
              "      <th>energy</th>\n",
              "      <th>TOT</th>\n",
              "      <th>tqT</th>\n",
              "      <th>tqE</th>\n",
              "      <th>run_name</th>\n",
              "    </tr>\n",
              "  </thead>\n",
              "  <tbody>\n",
              "    <tr>\n",
              "      <th>0</th>\n",
              "      <td>1071</td>\n",
              "      <td>14.0</td>\n",
              "      <td>1.0</td>\n",
              "      <td>3460.0</td>\n",
              "      <td>49325760.0</td>\n",
              "      <td>0.0</td>\n",
              "      <td>291.0</td>\n",
              "      <td>7.0</td>\n",
              "      <td>10.0</td>\n",
              "      <td>1.0</td>\n",
              "      <td>20.0</td>\n",
              "      <td>1.616307e+12</td>\n",
              "      <td>1.616307e+12</td>\n",
              "      <td>1.616307e+12</td>\n",
              "      <td>724.0</td>\n",
              "      <td>770.0</td>\n",
              "      <td>55.0</td>\n",
              "      <td>4.0</td>\n",
              "      <td>16387.0</td>\n",
              "      <td>3.0</td>\n",
              "      <td>3.0</td>\n",
              "      <td>1008.0</td>\n",
              "      <td>1.359904</td>\n",
              "      <td>1.616307e+12</td>\n",
              "      <td>-0.080208</td>\n",
              "      <td>55.085861</td>\n",
              "      <td>494.82889</td>\n",
              "      <td>-2.166073</td>\n",
              "      <td>1.335641</td>\n",
              "      <td>1.616307e+12</td>\n",
              "      <td>-0.068721</td>\n",
              "      <td>68.102737</td>\n",
              "      <td>526.52130</td>\n",
              "      <td>-0.754562</td>\n",
              "      <td>-14.240576</td>\n",
              "      <td>0.012451</td>\n",
              "      <td>1.279541</td>\n",
              "      <td>1.267090</td>\n",
              "      <td>group_run_611_22072025</td>\n",
              "    </tr>\n",
              "    <tr>\n",
              "      <th>1</th>\n",
              "      <td>1072</td>\n",
              "      <td>14.0</td>\n",
              "      <td>1.0</td>\n",
              "      <td>3460.0</td>\n",
              "      <td>49325760.0</td>\n",
              "      <td>0.0</td>\n",
              "      <td>291.0</td>\n",
              "      <td>7.0</td>\n",
              "      <td>10.0</td>\n",
              "      <td>1.0</td>\n",
              "      <td>27.0</td>\n",
              "      <td>1.616307e+12</td>\n",
              "      <td>1.616307e+12</td>\n",
              "      <td>1.616307e+12</td>\n",
              "      <td>762.0</td>\n",
              "      <td>772.0</td>\n",
              "      <td>74.0</td>\n",
              "      <td>6.0</td>\n",
              "      <td>16387.0</td>\n",
              "      <td>3.0</td>\n",
              "      <td>3.0</td>\n",
              "      <td>1008.0</td>\n",
              "      <td>1.331692</td>\n",
              "      <td>1.616307e+12</td>\n",
              "      <td>-0.038042</td>\n",
              "      <td>72.999390</td>\n",
              "      <td>520.62048</td>\n",
              "      <td>-2.427774</td>\n",
              "      <td>1.327599</td>\n",
              "      <td>1.616307e+12</td>\n",
              "      <td>-0.056609</td>\n",
              "      <td>61.857349</td>\n",
              "      <td>535.01447</td>\n",
              "      <td>-0.080675</td>\n",
              "      <td>11.739983</td>\n",
              "      <td>0.022705</td>\n",
              "      <td>1.293701</td>\n",
              "      <td>1.270996</td>\n",
              "      <td>group_run_611_22072025</td>\n",
              "    </tr>\n",
              "    <tr>\n",
              "      <th>2</th>\n",
              "      <td>1073</td>\n",
              "      <td>14.0</td>\n",
              "      <td>1.0</td>\n",
              "      <td>3460.0</td>\n",
              "      <td>49325760.0</td>\n",
              "      <td>0.0</td>\n",
              "      <td>291.0</td>\n",
              "      <td>7.0</td>\n",
              "      <td>10.0</td>\n",
              "      <td>1.0</td>\n",
              "      <td>31.0</td>\n",
              "      <td>1.616307e+12</td>\n",
              "      <td>1.616307e+12</td>\n",
              "      <td>1.616307e+12</td>\n",
              "      <td>729.0</td>\n",
              "      <td>740.0</td>\n",
              "      <td>47.0</td>\n",
              "      <td>2.0</td>\n",
              "      <td>16387.0</td>\n",
              "      <td>3.0</td>\n",
              "      <td>4.0</td>\n",
              "      <td>1008.0</td>\n",
              "      <td>1.297821</td>\n",
              "      <td>1.616307e+12</td>\n",
              "      <td>0.004154</td>\n",
              "      <td>53.364655</td>\n",
              "      <td>520.60498</td>\n",
              "      <td>-0.010001</td>\n",
              "      <td>1.267041</td>\n",
              "      <td>1.616307e+12</td>\n",
              "      <td>-0.001199</td>\n",
              "      <td>68.898949</td>\n",
              "      <td>529.67285</td>\n",
              "      <td>-0.010000</td>\n",
              "      <td>-15.025755</td>\n",
              "      <td>0.036133</td>\n",
              "      <td>1.302002</td>\n",
              "      <td>1.265869</td>\n",
              "      <td>group_run_611_22072025</td>\n",
              "    </tr>\n",
              "    <tr>\n",
              "      <th>3</th>\n",
              "      <td>1074</td>\n",
              "      <td>14.0</td>\n",
              "      <td>1.0</td>\n",
              "      <td>3460.0</td>\n",
              "      <td>49325760.0</td>\n",
              "      <td>0.0</td>\n",
              "      <td>291.0</td>\n",
              "      <td>7.0</td>\n",
              "      <td>10.0</td>\n",
              "      <td>1.0</td>\n",
              "      <td>1.0</td>\n",
              "      <td>1.616307e+12</td>\n",
              "      <td>1.616307e+12</td>\n",
              "      <td>1.616307e+12</td>\n",
              "      <td>702.0</td>\n",
              "      <td>740.0</td>\n",
              "      <td>57.0</td>\n",
              "      <td>0.0</td>\n",
              "      <td>16387.0</td>\n",
              "      <td>3.0</td>\n",
              "      <td>3.0</td>\n",
              "      <td>1008.0</td>\n",
              "      <td>1.276364</td>\n",
              "      <td>1.616307e+12</td>\n",
              "      <td>-0.001499</td>\n",
              "      <td>71.845001</td>\n",
              "      <td>494.87213</td>\n",
              "      <td>-0.909650</td>\n",
              "      <td>1.260108</td>\n",
              "      <td>1.616307e+12</td>\n",
              "      <td>-0.007957</td>\n",
              "      <td>86.302727</td>\n",
              "      <td>518.77533</td>\n",
              "      <td>-0.010000</td>\n",
              "      <td>-5.445229</td>\n",
              "      <td>0.022949</td>\n",
              "      <td>1.274902</td>\n",
              "      <td>1.251953</td>\n",
              "      <td>group_run_611_22072025</td>\n",
              "    </tr>\n",
              "    <tr>\n",
              "      <th>4</th>\n",
              "      <td>1075</td>\n",
              "      <td>14.0</td>\n",
              "      <td>1.0</td>\n",
              "      <td>3460.0</td>\n",
              "      <td>49325760.0</td>\n",
              "      <td>0.0</td>\n",
              "      <td>291.0</td>\n",
              "      <td>7.0</td>\n",
              "      <td>10.0</td>\n",
              "      <td>1.0</td>\n",
              "      <td>4.0</td>\n",
              "      <td>1.616307e+12</td>\n",
              "      <td>1.616307e+12</td>\n",
              "      <td>1.616307e+12</td>\n",
              "      <td>733.0</td>\n",
              "      <td>709.0</td>\n",
              "      <td>72.0</td>\n",
              "      <td>0.0</td>\n",
              "      <td>16387.0</td>\n",
              "      <td>3.0</td>\n",
              "      <td>3.0</td>\n",
              "      <td>1008.0</td>\n",
              "      <td>1.348136</td>\n",
              "      <td>1.616307e+12</td>\n",
              "      <td>-0.062096</td>\n",
              "      <td>53.248604</td>\n",
              "      <td>508.13696</td>\n",
              "      <td>-2.908567</td>\n",
              "      <td>1.300361</td>\n",
              "      <td>1.616307e+12</td>\n",
              "      <td>-0.061212</td>\n",
              "      <td>58.781258</td>\n",
              "      <td>500.78253</td>\n",
              "      <td>-0.579224</td>\n",
              "      <td>9.505785</td>\n",
              "      <td>0.047119</td>\n",
              "      <td>1.286133</td>\n",
              "      <td>1.239014</td>\n",
              "      <td>group_run_611_22072025</td>\n",
              "    </tr>\n",
              "  </tbody>\n",
              "</table>\n",
              "</div>\n",
              "    <div class=\"colab-df-buttons\">\n",
              "\n",
              "  <div class=\"colab-df-container\">\n",
              "    <button class=\"colab-df-convert\" onclick=\"convertToInteractive('df-c42fc5ab-a472-4bde-840e-153265a44f9b')\"\n",
              "            title=\"Convert this dataframe to an interactive table.\"\n",
              "            style=\"display:none;\">\n",
              "\n",
              "  <svg xmlns=\"http://www.w3.org/2000/svg\" height=\"24px\" viewBox=\"0 -960 960 960\">\n",
              "    <path d=\"M120-120v-720h720v720H120Zm60-500h600v-160H180v160Zm220 220h160v-160H400v160Zm0 220h160v-160H400v160ZM180-400h160v-160H180v160Zm440 0h160v-160H620v160ZM180-180h160v-160H180v160Zm440 0h160v-160H620v160Z\"/>\n",
              "  </svg>\n",
              "    </button>\n",
              "\n",
              "  <style>\n",
              "    .colab-df-container {\n",
              "      display:flex;\n",
              "      gap: 12px;\n",
              "    }\n",
              "\n",
              "    .colab-df-convert {\n",
              "      background-color: #E8F0FE;\n",
              "      border: none;\n",
              "      border-radius: 50%;\n",
              "      cursor: pointer;\n",
              "      display: none;\n",
              "      fill: #1967D2;\n",
              "      height: 32px;\n",
              "      padding: 0 0 0 0;\n",
              "      width: 32px;\n",
              "    }\n",
              "\n",
              "    .colab-df-convert:hover {\n",
              "      background-color: #E2EBFA;\n",
              "      box-shadow: 0px 1px 2px rgba(60, 64, 67, 0.3), 0px 1px 3px 1px rgba(60, 64, 67, 0.15);\n",
              "      fill: #174EA6;\n",
              "    }\n",
              "\n",
              "    .colab-df-buttons div {\n",
              "      margin-bottom: 4px;\n",
              "    }\n",
              "\n",
              "    [theme=dark] .colab-df-convert {\n",
              "      background-color: #3B4455;\n",
              "      fill: #D2E3FC;\n",
              "    }\n",
              "\n",
              "    [theme=dark] .colab-df-convert:hover {\n",
              "      background-color: #434B5C;\n",
              "      box-shadow: 0px 1px 3px 1px rgba(0, 0, 0, 0.15);\n",
              "      filter: drop-shadow(0px 1px 2px rgba(0, 0, 0, 0.3));\n",
              "      fill: #FFFFFF;\n",
              "    }\n",
              "  </style>\n",
              "\n",
              "    <script>\n",
              "      const buttonEl =\n",
              "        document.querySelector('#df-c42fc5ab-a472-4bde-840e-153265a44f9b button.colab-df-convert');\n",
              "      buttonEl.style.display =\n",
              "        google.colab.kernel.accessAllowed ? 'block' : 'none';\n",
              "\n",
              "      async function convertToInteractive(key) {\n",
              "        const element = document.querySelector('#df-c42fc5ab-a472-4bde-840e-153265a44f9b');\n",
              "        const dataTable =\n",
              "          await google.colab.kernel.invokeFunction('convertToInteractive',\n",
              "                                                    [key], {});\n",
              "        if (!dataTable) return;\n",
              "\n",
              "        const docLinkHtml = 'Like what you see? Visit the ' +\n",
              "          '<a target=\"_blank\" href=https://colab.research.google.com/notebooks/data_table.ipynb>data table notebook</a>'\n",
              "          + ' to learn more about interactive tables.';\n",
              "        element.innerHTML = '';\n",
              "        dataTable['output_type'] = 'display_data';\n",
              "        await google.colab.output.renderOutput(dataTable, element);\n",
              "        const docLink = document.createElement('div');\n",
              "        docLink.innerHTML = docLinkHtml;\n",
              "        element.appendChild(docLink);\n",
              "      }\n",
              "    </script>\n",
              "  </div>\n",
              "\n",
              "\n",
              "    <div id=\"df-253e1282-cf51-479e-82b6-4a5368d7d040\">\n",
              "      <button class=\"colab-df-quickchart\" onclick=\"quickchart('df-253e1282-cf51-479e-82b6-4a5368d7d040')\"\n",
              "                title=\"Suggest charts\"\n",
              "                style=\"display:none;\">\n",
              "\n",
              "<svg xmlns=\"http://www.w3.org/2000/svg\" height=\"24px\"viewBox=\"0 0 24 24\"\n",
              "     width=\"24px\">\n",
              "    <g>\n",
              "        <path d=\"M19 3H5c-1.1 0-2 .9-2 2v14c0 1.1.9 2 2 2h14c1.1 0 2-.9 2-2V5c0-1.1-.9-2-2-2zM9 17H7v-7h2v7zm4 0h-2V7h2v10zm4 0h-2v-4h2v4z\"/>\n",
              "    </g>\n",
              "</svg>\n",
              "      </button>\n",
              "\n",
              "<style>\n",
              "  .colab-df-quickchart {\n",
              "      --bg-color: #E8F0FE;\n",
              "      --fill-color: #1967D2;\n",
              "      --hover-bg-color: #E2EBFA;\n",
              "      --hover-fill-color: #174EA6;\n",
              "      --disabled-fill-color: #AAA;\n",
              "      --disabled-bg-color: #DDD;\n",
              "  }\n",
              "\n",
              "  [theme=dark] .colab-df-quickchart {\n",
              "      --bg-color: #3B4455;\n",
              "      --fill-color: #D2E3FC;\n",
              "      --hover-bg-color: #434B5C;\n",
              "      --hover-fill-color: #FFFFFF;\n",
              "      --disabled-bg-color: #3B4455;\n",
              "      --disabled-fill-color: #666;\n",
              "  }\n",
              "\n",
              "  .colab-df-quickchart {\n",
              "    background-color: var(--bg-color);\n",
              "    border: none;\n",
              "    border-radius: 50%;\n",
              "    cursor: pointer;\n",
              "    display: none;\n",
              "    fill: var(--fill-color);\n",
              "    height: 32px;\n",
              "    padding: 0;\n",
              "    width: 32px;\n",
              "  }\n",
              "\n",
              "  .colab-df-quickchart:hover {\n",
              "    background-color: var(--hover-bg-color);\n",
              "    box-shadow: 0 1px 2px rgba(60, 64, 67, 0.3), 0 1px 3px 1px rgba(60, 64, 67, 0.15);\n",
              "    fill: var(--button-hover-fill-color);\n",
              "  }\n",
              "\n",
              "  .colab-df-quickchart-complete:disabled,\n",
              "  .colab-df-quickchart-complete:disabled:hover {\n",
              "    background-color: var(--disabled-bg-color);\n",
              "    fill: var(--disabled-fill-color);\n",
              "    box-shadow: none;\n",
              "  }\n",
              "\n",
              "  .colab-df-spinner {\n",
              "    border: 2px solid var(--fill-color);\n",
              "    border-color: transparent;\n",
              "    border-bottom-color: var(--fill-color);\n",
              "    animation:\n",
              "      spin 1s steps(1) infinite;\n",
              "  }\n",
              "\n",
              "  @keyframes spin {\n",
              "    0% {\n",
              "      border-color: transparent;\n",
              "      border-bottom-color: var(--fill-color);\n",
              "      border-left-color: var(--fill-color);\n",
              "    }\n",
              "    20% {\n",
              "      border-color: transparent;\n",
              "      border-left-color: var(--fill-color);\n",
              "      border-top-color: var(--fill-color);\n",
              "    }\n",
              "    30% {\n",
              "      border-color: transparent;\n",
              "      border-left-color: var(--fill-color);\n",
              "      border-top-color: var(--fill-color);\n",
              "      border-right-color: var(--fill-color);\n",
              "    }\n",
              "    40% {\n",
              "      border-color: transparent;\n",
              "      border-right-color: var(--fill-color);\n",
              "      border-top-color: var(--fill-color);\n",
              "    }\n",
              "    60% {\n",
              "      border-color: transparent;\n",
              "      border-right-color: var(--fill-color);\n",
              "    }\n",
              "    80% {\n",
              "      border-color: transparent;\n",
              "      border-right-color: var(--fill-color);\n",
              "      border-bottom-color: var(--fill-color);\n",
              "    }\n",
              "    90% {\n",
              "      border-color: transparent;\n",
              "      border-bottom-color: var(--fill-color);\n",
              "    }\n",
              "  }\n",
              "</style>\n",
              "\n",
              "      <script>\n",
              "        async function quickchart(key) {\n",
              "          const quickchartButtonEl =\n",
              "            document.querySelector('#' + key + ' button');\n",
              "          quickchartButtonEl.disabled = true;  // To prevent multiple clicks.\n",
              "          quickchartButtonEl.classList.add('colab-df-spinner');\n",
              "          try {\n",
              "            const charts = await google.colab.kernel.invokeFunction(\n",
              "                'suggestCharts', [key], {});\n",
              "          } catch (error) {\n",
              "            console.error('Error during call to suggestCharts:', error);\n",
              "          }\n",
              "          quickchartButtonEl.classList.remove('colab-df-spinner');\n",
              "          quickchartButtonEl.classList.add('colab-df-quickchart-complete');\n",
              "        }\n",
              "        (() => {\n",
              "          let quickchartButtonEl =\n",
              "            document.querySelector('#df-253e1282-cf51-479e-82b6-4a5368d7d040 button');\n",
              "          quickchartButtonEl.style.display =\n",
              "            google.colab.kernel.accessAllowed ? 'block' : 'none';\n",
              "        })();\n",
              "      </script>\n",
              "    </div>\n",
              "\n",
              "    </div>\n",
              "  </div>\n"
            ],
            "application/vnd.google.colaboratory.intrinsic+json": {
              "type": "dataframe",
              "variable_name": "df"
            }
          },
          "metadata": {},
          "execution_count": 10
        }
      ]
    },
    {
      "cell_type": "markdown",
      "source": [
        "\n",
        "\n",
        "![image.png](data:image/png;base64,iVBORw0KGgoAAAANSUhEUgAABMwAAAHfCAYAAACszkTxAAAAAXNSR0IArs4c6QAAAARnQU1BAACxjwv8YQUAAAAJcEhZcwAADsMAAA7DAcdvqGQAAP+lSURBVHhe7N1/fBN1nj/wF6VCoKiREoiiJQKFCggRXKhWpYhVkEW2u2f3WM66hd3elt3tbdn74pW7q5Y7YeutsPQWOboH2ioL7cpWqC7YqhQ3lVZxk2qR9IcSpGhoCqQYIIXQ+f5hZu4zk8lk0k7TH7yfj0cejzYzmXzm83veM5kZwnEcB0IIIYQQQgghhBBCCAAgSvoGIYQQQgghhBBCCCHXMwqYEUIIIYQQQgghhBDCoIAZIYQQQgghhBBCCCEMCpgRQgghhBBCCCGEEMKggBkhhBBCCCGEEEIIIQwKmBFCCCGEEEIIIYQQwqCAGSGEEEIIIYQQQgghDAqYEUIIIYQQQgghhBDCoIAZIYQQQgghhBBCCCEMCpgRQgghhBBCCCGEEMKggBkhhBBCCCGEEEIIIQwKmBFCCCGEEEIIIYQQwqCAGSGEEEIIIYQQQgghDAqYEUIIIYQQQgghhBDCoIAZIYQQQgghhBBCCCEMCpgRQgghhBBCCCGEEMKggBkhhBBCCCGEEEIIIQwKmBFCCCGEEEIIIYQQwqCAGSGEEEIIIYQQQgghDAqYEUIIIYQQQgghhBDCoIAZIYQQQgghhBBCCCEMCpgRQgghhBBCCCGEEMIYwnEcJ30zkqqqqrB7927hf7PZjOzsbNE6ZPBZuXIlACA5ORnp6enSxYPO9ba/va2mpgY7duwAAKxatQpJSUnSVcgAQW1j4Fu/fj0cDgdMJhPy8vKki0k/V1JSgurqagDAzp07pYs1Fan2HqnvGYyqqqpw6NAhOJ1OAIDRaMR9992HpUuXSlclA5TL5cLu3btht9vh9Xqh0+mQkJCAxYsXIz4+Xro6IYQMKuHOW/v8CrPjx4+L/rfb7XC5XKL3CCGERJbNZsOaNWuwevVqVFVVSRf3G0VFRVi5ciXWr18vXUQIISQMFRUV2L17txAsAwCn04ny8vJ+PQ4Q9VwuFzZv3gybzQav1wsA8Hq9sNlsePnllwfM2E8IIZHSpwEzl8sFm80mes/r9aK2tlb0HiGEkMh6//334Xa74fV6ceTIEenifqG5uVkYLxwOB2pqaqSrEEIIUaG5uRnl5eWA/6qy5cuXo6CgAKmpqUhISEBKSor0I2QAYgOiycnJyM3NRXZ2NhISErBkyZIBMfYTQkgk9WnA7NChQ8LfiYmJwt/UQRNCSN8yGo2yf/cn8fHx0Ol0AACdToexY8dKVyEDxMqVK7Fy5UqUlJRIFxEiqKmpEeoKBci1ZbVahb8zMjKQkpICg8GApUuXYu3ataJ1ycBlt9sB/y1w0tPTER8fD7PZjLVr1yIpKWlAjP2EkO6huVb39GnAjL2SjD+DBf/l39IrzwghhEROWloaUlNTkZqaiszMTOnifiMnJwfJycnIycmhe68QQkg3ORwOAIBer6e+dJBif4Z55513ShcDA2jsJ4SQSOmzgFlNTQ3cbjfgP8thMBhwzz33CMvff/99Zm1CCCGRtnTp0n5/o+f4+HjhLDkhhJDu4QMper1euogMEhcvXhT+Hj16tGgZayCM/YQQEil9FjD7+OOPhb/nzJkDAEhJSREGarr5PyGEEEIIIYQQQgjpE1wfaGtr4zIyMriMjAwuJydHtKy4uFhYtn//ftGynti/fz9XUFDAZWVlib67oKBA9fe0tbVx+/fv5/Lz80Xbyc3N5bZv3841NTVJPxJUW1sbV1paGrCtnJwcbsuWLZzFYpF+JEBTUxO3fft2Ljc3V/h8RkYGl5+fryo9bF7z+G3m5OQEpCnU9jjJfvGfz8rK4goKCkT7xC8rLi4Wfb675L6XLxs1+WmxWITP8Ou2tbUJeZGfny/9CMcF+d6e7G9TUxNXXFwcsB/5+flcaWkp19bWJv2ICP85Nr2VlZVcQUGBaN/Uktse35ak6VPbjrgg+ZbRw/LiOE6ot7m5uaL1lbD7wtdxue3zaWbbm1xZK+mNNmuxWLgtW7YI/UhWVha3ZcuWgLpisVhEfSC/XrDvlMsDOfw+SctSbV/Grx+qbQQjV0eltOj/gwkn/ZFKa0/7EZZceqTtXc1+yZGmT+4VTE/bkhpy+yXt/3JycmTLnp8rSNdTk/da7hvfP7Bjem5urigtcv1KMFarlduyZYtsP6imfvKfkcszJWw+yL2kdU/ue9TUZSVazgGDkatzasbw7qaNLftgr2Df2Rt1gR1jg+lp/yaXx9JxNEOmnYTC1y+2rYWTH90tQzXYfJJ7SfOCf1+u7Hsr//h6Lnf8IZeOcMmlOxL9uVblys6b2e2EU8d6Mrbw68rlj5RcXvPkxhu+L8nKylLcfk/qiFy95vOD3V5BQQFntVpFn21qagoYRwvCmPv3Rl8prbsZCuMZW3eDvbqLb/vSOqWmfsuViRbHWmrGeqU6Kmfoc88995w0iNbb3nrrLbS0tAD+J7RMnz5dWDZy5EhYLBYAgNvtxsKFC4Vl3eFyufDiiy+itrYW7e3t8Pl8wjKv14v29nbY7XbU1dUhNjY26A0ua2pqUFRUBJvNBrfbLdqOx+NBa2srLBYLOjo6MGvWLNFnpWpqalBYWAi73R6wLa/XC6fTCavVijNnziAuLg4xMTGizwNASUkJXnvtNbS2tsLj8YiWud1uVempr68X7lmxbNky0Tb5S/PBpOno0aMYP3580Dyy2Wx48cUXhf3i+Xw+tLe3w2q14uTJk5g3bx727dsHADCZTEHTp1ZVVRW2bdsW8L3wlw2fn42NjZgyZYpsfp46dUq44e3s2bPR2NiIbdu2weFwwOv1Qq/XY/78+aLPaL2/ZWVl2LNnD1paWgL2w+12o6WlBRaLBcOGDcOkSZNEy3mHDx+G2+2GXq/HtGnTsHXrVlRXV6O9vR3w71tcXJz0Y0FJt8e2JZbb7VbVjtBL5cXv05kzZ+BwOODxeDBmzJiQ+9rc3Iw33ngD8P80/PHHHwdkts/XB7vdLmpvbFlHRUVh6tSpwjIprdvs/fffj127dqGiogJOp1PoR3w+H5xOJywWC+bOnYtLly5h69atqKqqEvWB/HpHjx7FlClTEBsbK/ouaR5I89LlcmHXrl3Ys2cPWltbA8pS2pfxVxJLqWkbStg6Km2jWvX/SsJJfyTSqkU/An96nn/+eRw9ejQgPWx7nzlzJo4ePRp0v5Tw+aFk2bJl0rc0aUtqsOV12223YevWrQH9n9frhcPhQH19PebPnw+bzYbCwkIhT6TrNTQ0KM5rtNy3wsJCHDhwAE6nUzSmezweOBwOWCwWjB8/Xug3ESS/wbT3vXv3wul0yvaDaupnOO2FxX8uGGndY7+H4zihTILVZX6sDkbLOaAS6ZirZgzvSdrYMSUY6Xf2Rl3gy8hmswnbk6uLWvRvcnlcVVUlGkfBtJOGhgbMnDlTdi4C/zzixRdfFOoX29bY/Kivr8dtt90WMNaih2WoRjjtJ9TY3xv5t3XrVlgsloD8Y+cRSnNCNfqiP9eqXMvKyvDKK6/IHjdK69i0adNk86iiogKvvvqqMEdmqRlbwum7leY6cseepaWlQv2R274WdURar2tra7Fnzx7hOI/X3t6Ouro64RiCH5Ol42i7f+4/cuTIoH1Nb/aVfH/DCjaedXeupYQvk0OHDgXsG5j6ffToUXR1dckeH0nLpKfHWr06b5VG0CKBjdDKRefZiKk0yhsudltsBLqtrY2zWCzc9u3bhQhksChjZWWlKMpZXFzMWSwWrq2tjbNarQFnHrZs2SLdhGD//v3Cevx3lpaWchaLhbNYLFxxcbEoqiq3rS1btoi2sWXLFq6yspKzWCzc/v37ZZfLYaP8/Gf4syZseqQRdTlWq1UUyVXaDps+pTMJasjl5/79+zmLxcJVVlaKyjfDH/GWq3NslJvNF/4MmTRir/X+bt++XbQtfh84f9pKS0tF5SBND4+NmPN/Z/mvJCouLlaM9Mvht5GbmyvUS7bOyuVxVlaWbB5zvVRefD5xkqtXg9V7Fpvv7HbY7fPll5WVxW3fvl1oa9Ir5LKyskTbZsm1yZ62Wb5vY/NQWk+2bNkiqhNK60kFy2Mem2ZpP2bx963sPgWrs/zyYG0jFHb/pLTo/0MJJ/29nVat+pG2traAs3vB6r60bwiH1WoV6ot03/mXlFxb6U5bUoPdR7Y/579P2l+VlpYK/yutFyzf5dLe3X2TW5evD+y2svxnbvn1gmHrQ35+PldZWclZrVbZ+pmVlRV07sZvQ017YfH1obS0VNgG2+dIv49fhz3LzOZBZWVlQB7J1TdO4zlgKGwfwf+dpTCG9zRtTU1NQh7yZZybmyu8x2+LpXVdYNfPycnhtm/fLls/tOrfgvVdSvOa0tJS6WY4TsVcsLS0VNS+ciS/quE0KEM12PSw+8S/z5aRJcTYr2X+NTU1idbb4u//m5qauKampoB2GmxOqEak+3OtynU/M2+W1i++TKV5KGW1WkXb2L9/v9CXyKVFrtz5ZXJtU4rtx6TYeax0TsvvG0urOsLWa75N5uTkCPVWmgd8XqtZLxit+8pg4xk7pvMvdlvWbsy1QpEeQ/Bpsfj7AOnVb9Kxi9P4WKu3560RD5hJM0cO28kEW0cN9uBZqYG3tbVxBTKXYHKShhqsEfLYgaiyslK6WLStrKws2XV4paWl3BaZn1Wx35GbmytbATmZQVzuu9iOKkNhQGtraxM1DDlsJVUqMzb9GSHKJRR2AMjKygra4KWNaPv27dJVRPUyg5kwBqPl/qqt721tbaIORa7s2U6F/z5pHQqHtJMKlifSPJbbj94qL+l22EFDLo9YfBuRdpjS+iDXFnnsoCBNC9cHbbatrU20nWB53dTUJEqXlFIec/7vyc/Pl13GY/cp2KSC/w65tqFGsImZFv2/Gmq+g9ebadWyH2EPTJXGPYvFIqpr0v0Kh5r917ItqaGm/5P2FcHSxR70yPVpWu6b9EBNrr5w/j6A7WszgozvbH0IdnDISbYn16dwKstZSah+icfuU25ubtA8YPNdrly0nAOqEc4YrnXagvVPrN6oCxn+eqq0PS37NzXtmpPMWYLlCdt+lOq0xWLh8vPzA9KjdRmGoqb9hFqnN/JPqZ/iJGONXDtVQ026terPtS7XghA/3ZPOm6Vp5tttlsIJbc7fzoK1L37bSvWcp9SXSOexBQUFAellaVVHpGUbbF4v7YPl5tmciot/equvDFYnOUldClZOoZarZfHf5iVYWjhJO5GrV2rLhFNxrNXb89aI3/Rf7mb/Ulrd/L+pqUn4+9ZbbxUtYxkMBqxduxZms1m6CAcOHIDX64VOp0NGRgYMBoN0FUFaWhoSEhIA/+ekysvLhcs5V6xYgZSUFOkqgrS0NGRnZwd8X3V1NQBAp9MhJycn6JPhzGYzMjMzodPpgCDpYaWmpiItLU36NuDPHzZvampqRMv5S7EBICEhAdnZ2aLlLP5x1VqorKwU/l6xYgWSkpJEy3kGgwE5OTnCpa61tbVobm6WriYwGo3IyckJuj2t95cvG6PRqLgtg8GA5cuXQ6/Xw+v1qirT9PT0gDrUHTqdDpmZmUHzhM9jvt3abLaAPO6t8pJ66KGHhL+PHDkiWsaqqKgQ2iP7hF4ps9ks2xZ57H58/vnnomXogzZrMBhgMpmE/4OVW3x8vLAeX5/DYTAYkJeXJ7ttntlsFvqOUJeDa02L/j9StEirVv2Iy+VCbW0t4P+ZTk5OjmLdZ+tsb+utthSKUv+XlJQkfA+fX3LpYp84J9fetNy3Q4cOCX9nZmbK1hf4+wC2r5XT3Nws1IfExETFJ+fFx8cLfZLT6URFRYV0lYjjx/NgecD2oXLlouUcMFyhxvBIp6236gLfvpS2p1X/xlJq1/C3NX6MlPvZallZmVBnkpOTkZ6eLl1FkJSUhLy8vIB2Heky1FJP84+/nQT8dT1YG4U//5KTk4FuzAmllNKtVX+udbmuXbtWsX0YDAYsWLBA+L+trU20nE+jXq9XTEtKSopi+9Ka2WzG2rVrZfMYvVhHlOb1fFkAwKJFi2Tn2fBvg8fO4dCLfSU/ngXLLzatcm1OS0lJSYplB3874ecXoY4BlMoEIY61IjFvjWjAzOVywWazAf4dkuuseHxF9Hq9QiaEi93+oUOHFBuPHDa9ZrNZsVLwHn30UcBfMfjPwr8tu90O+H+DrLTvwVRVVQkH+ImJiUErA88sOViVBrpYSo0ZAG655RbpW4Ljx48Lf/P7ryTUd6kRbn5KBxOlQMqSJUsU81bL/a2qqhI6ETZ9wRgMBiQmJgL+YHIwJpNJ8XvDZTQaFQcqyOQx/7t09HJ5SbGTNKW+g9+mXq9XzKtggX3e2LFjpW8J+qrNsgfAocqtt7GDEtsn9rae9v+R1NO0atmPsG1GbZ1VCrhopTfbUiih+j9+/0MdjASj5b41NzeLTugopRv+usAeIEixwbdQJ3/gTxu/PXas7CsJCQkh85M9wcDScg4YrlBjeF+krbfqQmJiomI91bJ/Y4Vq1/C36WD4PNTpdFi8eLF0cUh9UYZa6mn+8XMwo9GoeAEBLy0tTZhPsPPLcIVKd0/7874q15EjRwp/nz59WrSMPTlaVlYmWtaXQgXnequOKM3rx48fL/t3OHqrr1Qznim1ub7Al4dcYJmlVCYIcawViXlrRANmbAXiB7Ng7rvvPuHvcA6Wpfhos9PpxMaNG7Fu3TqUlJSgqqoq5JVrbMT4zjvvFC0Lhu2E2c+zfytNTpV8/fXXwt8zZ84ULQuGfaCCNCIbjtGjR0vfEvATGb1erzgIaak7+cl2tj2JvGu5v2yZqt0W34F7vd5uD6y9hS0LtnOMdHnxV4x5vV7ZszU1NTVC+tTmezBKk6G+bLOR4HK5UFJSgnXr1mHlypVYuXIlVq9ejRdeeEE23y9evCh9q1f1pP+PtJ6kVct+5Pz588LfSldeRtpgbkta7ht7ZcFdd90l/N1dfD9pNBpDTkJ5/EQ03H67v9FyDqi1vkhbX9UFLfu3cCkdfPL5YTKZVOcHqy/KMNLU5p9aWtSn3tZb5VpRUYH169cLc62VK1di/fr1KCsrC5gj8CdgeIsXLxYCFwcPHsTq1atRWFiIsrKyHrWP3jZQ60hf9ZUI0ea01tzcjMLCQqxZs0aok2vWrEFhYWHASUppnQyX0rFWJOatEQ2YsY0y1Fmi+Ph44cDa6XR2u0Gnp6dj0aJFoghndXU1du/ejWeeeQbr1q2T7WwgidDv3r1b1EkpvXhs5WC31d2INRuAUDtpmDJlivQtzfHp6mkjrampCchL6YvX3fwMN6IsR6v9haRMn3nmmYD9lXvt2LFD+EykAxChsB0ae/ltpMtr6dKlQvnIBdz5n4Z398ywWv21zWrBZrPh2WefRXV1tahN6PV62O12lJeXY/369T0eJHuiJ/1/pPUkrVr2I+y2lCYokTaY25KW+8b2tUonutTi0+Z0OgPqULAX//PSvmz7WtByDqi1vkhbX9UFLfs3rbDHJN2dp/RFGfYXbP7V1tYG7GOwFx9M6M/7rnW5ulwurFu3DuXl5cL+63Q6mEwmOBwOHDx4EBs3bgy4qoxl8N/qhA888YHkgwcPorCwUAigSYMcfWkg15G+6isjqaKiAhs3boTN/wRYMH2hzWbDjh07UFRUJPlU74jEvDViATObzRb2oMdeSv3+++8Lf4crLS0NL730EpYvX47ExERRpNrpdOLgwYN49tlnux2Uu94NlMatlettfwcq/sDT6XQG/GSJb+tqLm8mgVwuF4qKioS2kJycjIKCAmzatAkbNmzAzp07sXz5cnh78JN6rQyk/r8/pJX6t4GNyo8QQgaPbdu2CcfPCQkJyM3NxUsvvYS8vDzs3LkT2dnZMBqNOHjwoPSjIvHx8cjLy0Nubi4WLVqEhIQE4cQyH0DbsWMHCgsLpR8lRKSmpgbl5eWAP3ibmpqKnTt3YsOGDdi0aRMKCgqQmpoKm83W4yvm1IjEvCdiAbOeBLzQw5v/81JSUpCZmSl0MsuXLxcOqr1eL4qKikTfwV4Jw1eGcF7sDUDZbSmdBVDCnsVSe8AU7NJeLfEHdewVRd0xZcoUrFq1SvHF625+skHb7tJqfyEp09zc3IA6FOoV6l5gkcbee4ndt74oL/bKMfZhI+wVZ715dRn6cZvtqdraWmGAWrRokeyNqVNSUrBhw4awLqXvTeH2/30p3LRq2Y+w5RXuvdR602BtS9B43yZNmiT8fe7cOdGy7uDTptfrA+qNmtdApuUcUGt9kba+qgta9m9aYa8E7e48pS/KsL9g889sNgfsW6hXXl6eaHv9iZbl2tzcLAQcEhISZG+ybvbfOJ+/rUMo/E3m165di02bNgkBND54ZrPZUFJSIv1YxA3kOtJXfWWksMdUcg9sMRgMWLp0KfLz88O+uX53RGLeGpGAmYu54Tf8VyOoffGVrjeuVOCfBsLfkE/6HexPHk6cOCH83R3stpRuQqqEfXraJ598IloWzLFjx4S/2Ym0lvhOtic3q4S/gSUlJSm+eN3Jz6qqKuHvnhzEa7W/kJSp2v3oz9h9YH+y2hflZWCe7mqz2YQAA19mJpMpYOKhtf7aZnuKvV9AqJ/Xd6fsIiFU/x+u3jzDFSqtWvYj7ANelG6aG2mDtS1B431jb4yrdPNgtfg5mNvt7rWJaH+l5RxQa32Rtr6qC1r2b1ri88PhcHTrZEtflGF/wubfYKJlubL3pAx1b6bujnF8AC03N1coE6Vjm96c60gN1DrSV31lpLA/wVS6jYTBYBCd8OgtkZi3RiRgxl6NkJCQgPT0dNWv7j4pLxxsZJQ9EDQwT4+y2WyKHUgo7MG7w+Ho1u/EU1JShEhtbW1tyAHaZrOJHrPaG2fZILmxcGVlpWiZHLmbgYeLLRs1+elyuUSPa2YfKhEuLfeXLdNDhw6FLNO+4lRxH0GXyyV6sAc7uPdVeT300EPC3wcOHEBFRYXQ0S9cuJBZs3f01zarJemVZQNNsP4/XKGuMrBJbkvQHcHSqmU/wj6QR22d7el+qTGY25KW+xYfHy9MUO12u6p+WykIMXfuXOFv/icY1wst54Ba64u09VVd0LJ/0xI/L/F6vaL5ilp9UYb9CX9M5Ha7+9WTG3uqt8qVfQpmb2DTrfQLmlDjvZZzgoFaR/qqr4y0SFw9pkYk5q0RCZixga5QEXIpdqB0Op1hR2r5p4AoYQMa7Jks+C+n5b+/qKgoZMdXVlYW9Pff7FNKdu3apRg04LcjLXT+kluv14vNmzcHzQ+bzSa62V5v/vQsJSVFuJrIbrcH3X/490urzoN/DDNC5KfL5cLmzZuFASAxMbFHVxZpvb/8VSNutxubN28OKHOWy+VCYWGhYhCuN/A/A2Ov+mJJ89gs8yjtvigvs9ksXOFks9mEMw/Sg8ze1B/bbE+xZ3NC9a99eWawp/2/GuwZ0GDjQ01Njeieb3J6mlat+hH25E6obanZr3Ap1ZfB2JZ4Wu4be4JBad7S3NyMzZs3K04czWazMBkNNd7Bv83169cH/U4tReLJp1rOAbUW6bT1ZV3Qqn/T0tKlS4X+v7q6WrH/rqmpwfr16wPadaTLsD9JS0sT8u/gwYMhy4vPQ6Wy7y+0Klf2iuFgc2aeUn9os9lk658Un065q4K0muuEY6DWkb7sK9VSmmuFwh8DK9UF+PtipfmFViIyb+V6mdVq5TIyMriMjAwuKytLuliV7du3C9vYvn27dHFQpaWlwudycnK40tJSzmKxcG1tbRzHcZzFYuGKi4tF68jZv3+/sE5GRga3ZcsWrrKykrNarVxbWxtnsVi40tJSLjc3V1insrJSuhmOk9lWfn6+kC4+Pex2tmzZIt0Et2XLFmF5VlaWkB6LxcLt379ftDzYNjiOE+17KBaLRVjXYrFIF3NWq5XLysoS1snJyeGKi4tF+5WTkyOkh1+vuLhYuqmwSPOzoKCA279/P2exWLjKykpu+/btonTl5uYK5c8KtX9SWu+vtEy3b9/OWSwWrqmpiWtqauIsFgu3fft2YZsZGRmy+5Gfn89l+OuVFvjt5ebmCvWSrbNyeZyVlSWbNq6Pykv6nRkZGdz+/fulq4mEs32O44R11ZZvb7dZtevx5Su3nlIetLW1iepicXFxQDlVVlaK+jK57XAq8i6UYHVeq/4/FHYbbNu1+MeFYG2IpVVapfWsu/1IW1ubqOz4bfF1Vu1+hYP9Pr4v3bJlC2e1WkXrSfexu21JjWB1S0rtenyagq2n5b7Jrcv3tey2srKyuIKCAmE9OdL6IK2jVquVq6ys5LZs2SL037m5udLNcJwG7b2trU2UR/v37+cqKyu5goIC0XrhfE+o8pOOIXy5dGcOGEqotEhpmTY1392XdUHaPrrbv6nZT16osTTUXLC0tFTUvuT6bi3LMBSLwrjOC7VOb+Zffn6+0E9x/rTs379flIfhHAey1KZb7XpsmuVoVa7svhcUFHBNTU2i5VarVbROhkybYvOYTQfHcVxTU1PAfE1ujqzFXEe6HTW0qiOh6jVP7Xrsfsit11d9Zaj6q3aupcQqie1I60tbWxu3f/9+UbllyJS32rzmKeWDNL+1nrf2esCMHeCUJndKpAUTju1MsE3plZOTo1hZLBaLaBAO9pKrOFIWiyWgEsm9tm/fLjvYc5KGGuyVlZXFlZaWSj8qCKfTUlOppZ2a3IuvA/z/cpU+XJWVlSG/NyNEfqrZPymt97e0tDTk9jJC1NVQHWW42O1JOyO5V25ubtC08fqivNi2m6UQ0OOFu31+XaXyjWSbVbseX75y64XKA6vVGtAn5uTkiOrIli1bRH2w3Hb4ZUp5p0SpzmvV/ytR0y4KCgq4tra2iKRVi36EU7lfuf6AttJ+qRWsfcjNG4Kty75CtSU11O6X2vX4tCmtp+W+sfMvuVdWVhZntVpV9RdtbW2q6yg/Xsjh1+lue+ck/Rb7Yude4XyPmvLTcg6oRE1apLRKm9rv7su6oEX/pnY/OZVjaVNTU8i+kv8+abCDp1UZhhJqXOdUrNMb+ResTUtfcoEQtdSmW+16fJqU1tOiXNkxll2ffS83N1cUoJO2Kbn5WrBXsDxWMydQM9dRUyektKgjoeo1T+167H4EW68v+kqlvOcU5hhycy0lcgGx3NxcUT1jg1QZMuWtNq95/LrB8kFNHe3uvHXoc88995z0qjOtuFwuvP766/D5fIDk0spwGI1GHD58GF6vFz6fD1FRUZg6dap0NVlz5szBtGnTMGrUKPh8PmEb8P/2dvLkyXjwwQeFx/IGExcXh9mzZ+PGG28EAHg8HtF2br/9diQmJiIjIyPkz07j4uIwd+5cREdHB6RJr9cjISEBS5YsQWpqKmJiYqQfBwDMmjUL06ZNg8/ng8/ng8fjEZaZTCaYzWY8+eSTons4SdXX1wuXZC5btky6WOTUqVPCz9lmz56NuLg46SowGo2i/eJ/Usfn87Jly/Dkk08CAPbt2wf40zpr1izRdsI1adIk2e+FP02TJ09GWloalixZEjQ/1eyflNb7O336dEyZMkWoq+x+6PV6mEymkHX18OHDcLvd0Ov1mD9/vnRx2NjtPf7441i4cCGioqLg9XpF6TOZTFiwYAFWr14dNG28viivM2fOCHX9gQcewP333y9dRSTc7asp30i2WbXr8eULmfVC5YHRaMTs2bOFPszj8Qh9GVv/jx07JqRFbjtq8k6JUp3Xqv9XEhMTg5kzZ4ryAZJ+YPny5YiJiYlIWrXoR+DfL769QzLmse091H6pNWvWLHR0dMDtdguXyickJODhhx8OSKcWbUkNtfuldj2+riutp+W+zZs3D2PGjAHHcfB6vUK+Go1G3HvvvfjpT3+KSZMmqeovYmJiMGfOHEyYMAFDhgwJSBvfdy9ZsgRPPfVU0L67p+0dAKZNm4b29na43W74fD7odDrMmDEDixcvFr43nO9RU35azgGVqEmLlFZpU/vdfVkXtOjf1O4nVI6lsbGxor6S778h6bszMzMRGxsr+fS3tCrDUEKN62rW6Y38mz9/PkaOHIno6GhRXwV//UhISMBTTz0lurVHuNSmW+16avpzLco1JiYG8+fPF829+brPjsXt7e1CuUnblNFoxGOPPSbkMfxpYZfPmDFDMY+1muuoqRNSWtSRUPWap3Y9dj+CrdcXfaVS3iPMuZaSqVOnYsqUKcLcn68TOp0OCQkJyMjIwEMPPdSj4wypUPnQm/PWIRzHcdI3CSEEANavXw+HwwGTydSnj2juqZKSElRXVwP+x9J3955ohBBCCCGEEEKuDxG56T8hhPQVl8slPFFO7mEEhBBCCCGEEEKIFAXMCCGD2oEDB4TLjufMmSNdTAghhBBCCCGEBKCAGSFkUKmpqUFZWZnw6GD+p5gmkwlJSUnS1QkhhBBCCCGEkAAUMCOEDCqff/45Dh48iB07dgg/xTQajcjKypKuSgghhBBCCCGEyKKAGSFkULnllluEv/V6PZKTk5GTkwODwSBajxBCCCGEEEIICYaekkkIIYQQQgghhBBCCIOuMCOEEEIIIYQQQgghhEEBM0IIIYQQQgghhBBCGBQwI4QQQgghhBBCCCGEQQEzQgghhBBCCCGEEEIYFDAjhBBCCCGEEEIIIYRBATNCCCGEEEIIIYQQQhgUMCOEEEIIIYQQQgghhEEBM0IIIYQQQgghhBBCGBQwI4QQQgghhBBCCCGEQQEzQgghhBBCCCGEEEIYFDAjhBBCCCGEEEIIIYRBATNCCCGEEEIIIYQQQhgUMCOEEEIIIYQQQgghhEEBM0IIIYQQQgghhBBCGBQwI4QQQgghhBBCCCGEQQEzQgghhBBCCCGEEEIYFDAjhBBCCCGEEEIIIYQxhOM4TvomIX1t/fr1cDgcMJlMyMvLky4OS1VVFQ4dOgSn0wkAMBqNuO+++7B06VLpqoQoqqmpwY4dO6Rvh23nzp3C3yUlJaiurg54n5CBSss6bbPZUFlZCbvdDgDQ6/Uwm81YvHgxDAaDdHUyCNhsNpSVlWHJkiVISkoS3i8sLAQAZGdnM2trh623PRFq3lJRUYHy8nLRe6tWrRLtq81mw/79++FwOGA0GpGWlgaz2SwsKykpgdvthslkwhNPPCEsI+HTcr7Z21auXAkASE5ORnp6unTxdYPygajVk7rSk8+SwYWuMCODWkVFBXbv3i0EywDA6XSivLwcFRUVWL9+PVauXImSkhLR564HFRUVWL16NdasWYPm5mbpYkII6VM2mw1FRUVCsAwA3G43qqurUV5ejqKiIqxcuRLr168Xfe56YLPZsGbNGqxevRpVVVXSxQOWy+USgkGskpIS2Gw2YZ2BSi5YJqekpAQOhwPwz1mKioqE/S4qKhLyx+FwiJap5XK5ruv5DyH9Ac3D+xbl/7eu57mUWhQwI4NWc3OzMDE1Go1Yvnw5CgoKkJqaioSEBMA/2QSgyVnlgebQoUPwer1wu904cuSIdDGRMXbsWCQnJwd98fR6fcAyufUIIcGVlJTA6/VCp9MhNTUVBQUFWL58OUwmE+bOnYva2lrA34/X1NRIPz6ovf/++3C73fB6vYOq/z5w4ADcbjcWL14sXHHV3NyM6upqGI1GZGdnD9grC9UGy2w2W0DA0Ov14tChQ6ipqYHX6w1YxrcFtWpra6/r+Q8h/QHNw/sW5f+34+v1PJdSiwJmZNCyWq3C3xkZGUhJSYHBYMDSpUuxdu1a3HHHHcJyo9Eo/D0Y8GeOlc4WsPt86623ipYRefHx8UhPTw/64un1+oBlcusR0h1q2vdAxwYNFi9ejKVLl8JgMCAlJQV5eXkwm83Q6XQAAJ1Oh7Fjx0q2MHCVlJRg5cqVws9B5LD992Aav2pra2E0GkW3TOAPZBYsWMCsObCoDZYBwPjx46VvAf7AWLB6fv78eelbigbz/If0TE1NjdD/0MFz76J5eN+6HvKfb8vBriSOj48ftHMpLVHAjAxa/NlTvV6P+Ph46WKYzWasWrUKixYtQk5OjnTxoJeRkYFFixZh1apVSElJkS4mhJA+09TUJPzNXxEslZOTg+TkZOTk5Mj28YNZWloaUlNTkZqaiszMTOniAam5uVk4279+/XrhJ5j8WH7kyBEUFRVJPqWd++67D6tWrZJ9yQWVpOvwryeeeEK0XjjBMgAwGAxITU2Vvg34D24SExOlbwsHPGpd7/MfQvoDmof3Lcr/b13Pcym1KGBGBi3+Zwt6vV66SJCUlIS0tLQB+xOPnjAYDEhLSxPdaJgQQvoD9mdnwSZw/BWfwZYPdkuXLh2UD6/xer1wOByorKwUve9wOFBbWysE0rQWHx+PpKQk2ZdcQEq6Dv9ib8AfbrCMt3TpUhQUFGDRokXCe/wVEJmZmcjNzRX9vH/KlCnC32pdz/MfQvoDmof3Lcr/b13vcyk1KGBGCCGEEEL6VHx8vOgEFx+kkl5hGBMTI/q/v5ILlul0uoD9CcZgMAjBQZ1OJ7oCQq/XC8v4J8cSQgghpBdwEZKRkcFlZGRwxcXFHMdxXFtbG1daWsrl5uYKy3Jzc7nKykrR59ra2rji4uKA9fbv3y9aLxir1cpt2bJF9PmsrCyuoKBA9TY4juMsFkvAdvi0bN++nWtqapJ+JAC/jZycHFFa8vPzudLSUq6trU36EY7jOK64uFhYPxSLxSKsa7FYpIuFZXw5cBwnKodgmpqauOLiYi4/P1+0/6HSLmf//v1cQUEBl5WVJdoOWx789+Tn54s+GwqbV8FebL7w77H5wZPL96amJm779u2iMszJyeG2bNmiqg5wGtZJqXD3XW7/WPyySLdZLetapLFpVUuuHPh6xuZhf6lnwfDtWtq/qf0+uX3m81JNHyuXj3weZGVlidq4XD/Z1tYmtG2l8tMyX4ONK3J1Pdz2zWpra+P279/P5efni/rdcMYvntw4lpubyxUXFwvplSsLNdhyCfZiy1FpnAhWxtI+jC+7YHkn1Vv9U7j7Lrd/LLm84dso/7mcnBzZsY+vK9L11OxbT+taU1MTt2XLFm7Lli2i7ystLeUKCgoCxhuW3NiTlZXFbdmyRcgjuXJTQ/q5DBV1W9qus7KyOKvVKtuW5cpwy5YtwvLS0lLh/ba2NtG2lfJECf95uTrAMe1Fuu+5ubmiPNVCT8YPNp1snVP7ebm2Ekx30hlOfxiqXYcqM64H+cGvF+yllD9ajYtydU6uj1aTD0rCKXM15cfXCza/c3JyQu5/qG3L7ae0H+f3Q+l7WL05hssJVh/5Oa1cPWfxc0NpP6T283J5yAu1n9LPyo0xatMh913B5qgsuT4nI8ScQ5pXci+59dW0h+7WdR7/GS3rdCQMfe65556TBtF6w759+wAAJpMJHo8HRUVFaGhogMfjEdbxeDxoaGhAR0cHZs2ahaqqKmzbtg0tLS0B69ntdpw5cwZz5swR3me5XC7s2rULe/fuhdPpFH3e5/Ohvb0ddrsddXV1iI2Nlb0/Bfz31Ni6dSsOHToUsB3409La2oqjR4+iq6sLU6dOFS3nFRUVoaKiAk6nU/RTE5/PB7fbjZaWFlgsFgwbNgyTJk0Sfba+vl64h8eyZctEy6ROnTol3Ox+9uzZiIuLEy1ny4HjOBQWFsJmswn7Jbf9srIy7NmzBy0tLQFPbgqVdpbL5cLzzz+Po0ePor29HT6fT1jmdruF8pg5cyaOHj0Kt9sNvV6P+fPni7ajhM2rYNh8YfNj1qxZovWk+V5SUoLXXnsNra2tojL0er1wOp04evQoxo8fH7QuaVUngwl336X7JxXpNgsN61pf4fMsnHorLQe2nrF52F/qmVRzczNefPFFoV1L+zf+++rr63HbbbchNjZW9Hn4b3Iut8/wl3trayssFotQz+TI5WNpaSmcTid8Pp+ojUv7ycbGRmzbtg0OhwNer1e2/LTMV5fLhR07duDAgQMB2wJT148ePYpRo0YhLi4u7PbNq6mpQVFRkXATfbbf5cevUHnLKywsFNLMlrPH44HD4YDFYsH48eNx5swZxb4lGLZcgmHL8fDhw0HHiWBlbLfbZcvOarUiKioq6BiOXu6fwt136f5Jy53Nm9tuuw1bt25FbW0t2tvbhXX4nz7W19dj/vz5sNlsKCwsFMZf6XoNDQ1YuHCh8L6UFnUtNjYW8+bNw7x580RXkk2fPh1JSUlB87WiogJ/+MMfAsYen88Hp9MJq9WKM2fOwOPxiPZNru7I4fOTFapuz5w5UxgzdTodMjMzYTabZduytAzLyspgsVgA//3G2AdA7Nq1C3a7XVj2ox/9SFgWDqX5j81mw9atW9HQ0BCw3x6PR8jTxsZGTJkypdtX/fV0/CgrK8Mrr7wCu90eUOekn582bZpsOpX6EV5P0ikdm5SEatdKZYYe5ge/7WDk8kfLcdFms+HFF18U0s5j++iTJ09i3rx5IfMhFDVlzlMqP5fLhRdffFHoW9n89nq9IfdfadsIcszG10GW238MxedPML09hkvV1NSgsLBQtj7yc1q+b46LixPVR75u7dmzB62trQH9kPTzwY4tlOpKuPn/4osvBowxbDqU8l/6XUpzVPjz7ne/+x1sNltAnwPJPHHcuHGiuiU3Xkmx+6umPbDzg+7UdZ40T3tapyNGGkHrLXzEkI8gZmVlcdu3b+csFgtXWVkpOpOWkZHB7d+/X9V6wc5WstHf/Px8rrKykrNarVxbWxtnsVi47du3C9FR/qyfHDaiu2XLFm7//v2cxWIR0iONiMqlp7S0NCAtfETYYrFwpaWlwvdkZWUFRIvlotLBqD07xe5/Tk4Ot337dtno9vbt24XP5OTkCPvPyaQ9w19ucqRnRPlyraysFLbDR7hzc3OFddVEu1lNTU1C+fDbyM3NFd6zWCyi/OXTI7fvbL7z9Y4/085vq7i4WLT/BQUF0s0ItKqTwYS776HqFbtPfJqU2mJP26xWda0v8WkLp96qqWfSfVfafm/XM5bVag04yyRNN9tH5uTkSDcRUD+2bNki9Av79++XXS6HzUf274KCAiFNPAvTT7Lr8mdZ5eqWVvkaqi/k95nN16amprDbN8dxXGVlpeh7+Hxoa2vjrFYrt19yJVGwvOWClBPfRtlyyvJfDcCvFw4+Ly3+M+D8Nth9ZPsPpbOibBmzaQs27vDLg+nt/incfWf3j08Hix1P+XSxbYutrxn+K5j4/5XWC7ZfWta1cLHfHe5Lru7IYdPOv9Roa2vj8vPzRf0B2+fwL7ky3L59e9B82uK/Cq8n+O+Wzn/a2tpEc9Li4mIh/U1NTQHjuvTzavV0/ODnHHKf5T/Pbj9Yfin1I5wG6WTLO5RQ7ZpfJpfnPc0Pdj1+ndLSUuF9uTFNq3ExVB4XM3NtLepeqDJnKZUfW+5bmKuM5PZf7ruUts1J5uFs/yw39vKvYHksXS/YdrJ6MIaz2PqY4d9/tj4VS67UktZHNr3Sz/J5y24/2NjEL5erKz3Nf2lfKLcfPPa72L/l5qhNTU3C8izJvIUvLzbvpH2O1WoV1mXTxeYfK1R7kGuf0rJk5z9KbZ3db7k8DadOR1LEA2YZ/gmc3EEzW4H4DJQeAHCSRlQpcyk624iCNSDOXyHZAw85FouFKygokE0vj+0U5BoK/x3BKiKvuLiYK2Uuu2ff57cfCts4pA2Ck5RDVlaWYv6wk1C5/eK1tbWJOlq5vGLLJDc3V7ZcOX/62UYZKs+UhOoAuDA60gzJTyJY7OQyI0gZaVkn1VCz76HqFbvvvd1mtaxrfYnfB6V8l5LmoVxd5GTqmVw+R7qesQN2sHRz/nadn58fUF7sxDxYHeNkBmu5OiTNR6V+m+0n+e+W6y95WuYru62CggLZcuT828rPz5dNl5r23dTUJOSZUp/LScpBLm+lwZBgkxd2//lXd4Xqn7gQ+SAt42B9Eyc56JHL70j3T2r2PdRYz+cNnxa5daR5FKwNsnOc7du3SxdrWtfC1dbWJuobpK98yc+ApC+5uiOHzU/+1V3SviojSBn2Nv67pX03W9+V0mW1WhX7sFB6On5w/rar1Ce3SU5QyG1DqR/hNEinmvbMC9WuQ6VDi/wIlQaeluMimyalPpbtP5TyIZRQZc4KVn5tbW2q0tHW1sYVFBTIjpvBts1j9zVY/8xJ8kUuLWwfHokxnB0TsrKyFPv60tJS2fG5zX+yQakOsnNDadCIp5Qv4eZ/sHyzWq2ifJNrD9J+X2mOyvnXLw5xKwT22EruO7kQ+89Tag/SY49gx8KcJD3B2jqbBz2p05EW8Zv+G43GoI8tnTlzpvB3QkICsrOzZZ/ew152+fXXX4uWNTc3o7a2FgCQmJio+ASp+Ph4pKWlAQCcTicqKiqkqyApKQlr166VTS9v6dKlwqWHcpdAOp1OwL/vStLT04X09Db+5wFK+XPgwAHAn+7s7GzpYoHBYMDy5cuh1+vh9XqFz/FcLpdQJnq9Hjk5ObLlCn9+Z2Zmyj6Rqi+lpqYGLRuDwSC64W5NTY1oudZ1MtJ6u81Cw7o20KWmpiI9PV36NiBTz5qamkTLI13PysrKhL4tOTk5aLrhb9d5eXkBdai6uhrw90fB6hj8Pzti+4VQ5W42m0P22zy+fgd7SpKW+Wqz2YRtmUwmrF27Vra9wL+tvLy8oOkK5cCBA/B6vdDpdMjIyAj6PQCQlpYm3IhcLm8PHTok/M3/rExOfHw8cnJyQo51kWY2m4P2TfDXT97nn38uWoYB3j/xY71cPUpinv7Ij81ybYat83ybZ2lZ18J16NChgJ+q6HQ6pKamYufOncjLy8NLL72E7OxsmEwm0XpEHjtGKz19k+9nlco7GC3GDwBYu3atYp9sMBiwYMEC4f+2tjbR8lC0Smek9HZ+8LQcF6uqqoQ85ueRwaSlpSE1NVX6dp9g52D8E2zlGAwGrF27Nui4qYbSPBz+fOFJf+4NAEeOHBH+jsQYXl5eLvTLK1asED2wRCotLU12fDYYDCHnQGazWdgXueNvrfD5HyzfzGazqAzYOZMcNXPU9PR0pKenB+QLa/ny5cLf58+fFy3TyqFDh4S8TU5ODnosDADZ2dlCHsm1dVZP63SkRTxglpCQELTw2YrY3cbKVlI1narZbBYmb8ePH5cuVo2fdMpNJvlJms1mCwim9JXExMSgDR/+AYxvIOzgGozBYEBiYiIACPfW4PGDKvzfG6z8eWazudvl31uUJgMAcMstt0jfEvRVndRKb7dZLevaQBeqngW7fw/6oJ6xT29bvHixdHFIVVVVwoRKbb/AToyU+lKlCbfUkiVLFL9by3z98MMPhb+V7gXVUy6XSygfs9kcdELCevTRRwF/3vKfhf/AiD2YURo34G+fap8CGCnB7m3CGzt2rPQtwUDvn4xGo2KZ8f22Xq9XbAfBaFnXukMuj1esWBHQl5rNZuTl5XV7nLqesOPM7t274XK5RMu10NPxIxwjR44U/j59+rRoWSiRTGek9CQ/eFqOi+z/fN+gRNq2+wobyDl06BCam5tFy7WkNA/n6ZknDLMiPYa7XC6hXzaZTIoBLy2wF1j0dDwJRk3+S+eoSmkJZ46qhE2TXPxBC+H2gWwQT+m+rGryNFid7gsRD5j1NvZqrlAFweMnUMEimM3NzSgsLMSaNWuwcuVKrFy5EmvWrEFhYWHAQZv0TCeYAyOv14sdO3ZgzZo1wkMAerOD7Qn2DGOozpU3fvx4wL+fbEfBRr3vuece4e/BZPTo0dK3BL1RJwcTLeva9SzS9Yz/PpPJpPr7WGy5s1cqKpk+fbrwt9yVQL1By3zlt6XT6Xp1Esme+b7zzjtFy4Jh2x77efYKhLvuukv4ezBRCvJQ/6RMy7rWHdKDBKPRqNi2+tvV6/1RUlKS6ETvM888gxdeeAElJSUBc97u6un4waqoqMD69euF+fnKlSuxfv16lJWVBQT75OboSrRMZ6T0Zn7wtBwX+RMSer1edR/bXyQnJwP+/Ni4cSPWrVuHkpISVFVVBeR1bwsWXIj0GM726T0JvMEffCspKcG6deuEurx69Wq88MILslcvXbx4UfpWRLH5q0X519TU4IUXXsDq1auF/V+3bh2KiooC4gfdbcuhhNsHGgwGYfyQtvVwBavTfWHQBsycTqdosFB68T8LkqtsFRUV2LhxI2z+pz6B6fRtNht27NiBoqIiyafEkpKSsGrVKqHg3W43amtrUV5ejo0bNwoBNGnl70vsJPSZZ54JyDO5144dO4TPsJ0Wuy2lA5PBSus6OdhoWdeuZ5GsZ2wQoLtXbLDlrnaSrPTzoN6iZb6yBxm9ib1qYPfu3QHpC/biselmt6V0YmCwov5JmZZ1rTukn+/pARr5VlZWlnClJPxX8lVXV2PHjh1YuXJl0ANWNbQYP+A/IF23bh3Ky8uFAzOdTgeTyQSHw4GDBw9i48aN3b6KSqt0Rkpv5werN8bF/nRwrFZ6ejoWLVok+pVRdXU1du/ejWeeeQbr1q2TDVRGEntyMRJjOFu/+JNH3WGz2fDss8+iurpaVEf0ej3sdjvKy8uxfv36gPrUl9irN+VuPxOOwsJC7NixA3a7XdhHk8kkxBA2b97c7T5Yre72geGsO1AMuoCZlmpqalBeXg5I7omxYcMGbNq0CQUFBUhNTYXNZgsZRU1KSsKmTZuQnZ2N5ORkmEwmoYPlK//GjRt7vfL3hf7UmRFCCFGP+m9Crj8GgwGZmZnCPNcsuVUGf8C6bt26PgsGbNu2TTiQTkhIQG5uLl566SXk5eVh586dyM7OhtFoxMGDB6UfHZQGan4M9DEmLS0NL730EpYvX47ExETRvRKdTicOHjyIZ599dtBfbawll8uFoqIioW4kJyejoKAAmzZtwoYNG7Bz504sX74cXq9XdNufwaKkpESoL0ajEatWrRLdkzM3NxeJiYlCjIL0vkEXMOMHdL1ej507d4b9Yn388cfC33I3yDcYDFi6dCny8/NVX+ZvNpuRnp4uuhFtYmKi8Pny8nLNLnnvCXZilJubG5BPoV7sTyLYwaM/XUUXKVrWycFIy7p2PYtkPWOvCGOvwAkHW+5qJ5I9/flWd2iZr/y2uptnarFndfkTPeG82Btbs/czOnfunPD39YL6J2Va1rXukM695O5pRrqPn+dmZ2djw4YNQgCNn9c5nU5s27ZN+jFFWowfzc3NwonqhIQE2Rtom/031uZ/NhcuLdIZKZHID5aW4yJfl3rzpu2RkJKSgszMTCFAuXz5cqEOeb1eFBUV9UlwOdJjODsmdPdqxtraWiFYtmjRItmb36ekpGDDhg2iY8y+dunSJeFvpXtbh8LPifmH8UjnEfHx8UhPT8eqVatE72utu31gOOsOFIM2YOZ2u3scnGF/gqn0kyGDwSCaVIfD7H/6G/sEODZQJxWpzpZ94ktPJ6Bsp6F0A8DBSss6ORhpWdeuZ5GuZ/z3ORyObvVLbLl/8sknomXBHDt2TPhb6QEIWtIyX/lteb3eXj0xwv509cSJE6Jl4WJviC+9WfP1gPonZVrWte6QHiw5nU7FtjXQr2bpa3wALS8vT5gXOxyOsPvGno4f7H2ZQt0btydjRU/TKaXFNuREKj94Wo6L7O1q1J4800pv9gcpKSnIzs4WHorQV1dDsWN4JPpodkzo7pjJ3vs61MN2pGNAX2LnSHfccYdoWTj4+EOoG+NLA2m9Idw+0OVyCcH7/lQ2PTXoAmZz584V/tbqUkXpGczewF7urnSWJdQVFkrBtnCkpKQI+33o0CFVjSQY9j4YtbW1Ibdls9kGVXS6N+rkYKJlXbueRbqe3XfffYB/EnjgwAHp4pDYclfbL/CTTb1eH5GJAjTOV3bi9+6774qWacnAPOXKZrP16CAkPj5eGJvsdnvIbbmYJ2QNBtQ/KdOyrnWH3E2sd+3aFXB7C5vNhvXr1w+quUVfY58+ywZs1Ojp+MFi7xukNS3TiQjN4XszP3hajotsG66srBQtkyNt2z0Rqj/QYjxjf53EBoIihR3D1fTRPd1ng8EgCqYrncBQQylgFCl2uz3k2M/mrVYPsIhE/CEU9ipJNX3gyy+/LPwdKng/kAy6gJnZbBY90r2wsFC6ikhzczPWr18v24HwZz0cDofscp7L5VLsdMvKykJeisteTi29Wo09wx2s43G5XCgsLFRMZ7j4syJutxubN29WTD///XIDGdt5htpWTU2N6Hfrg4GWdTJcoe6t119oVdcAoKqqCuvXr0dJSYl00aAW6Xq2dOlSoa+qrq5GWVmZdBVBTU0N1q9fH3Ammv9piNfrxebNmwOW82w2m+jhKmoeba0VLfM1Pj5e2JbD4UBhYWHQus5vJ1ifjxDtOzU1VZhsFRUVyaaHVVZWFnTf+INGhNhWc3MzNm/erDgeDkRa9k/hUir//kLLuhYu9pYWPK/Xi/Lycqz0Px1w9erVKCwsVGwv5P+4XK6QfQ8kwZ1wH8jS0/GDvWomVDp78kTlnqYTEZrD91Z+BFtXy3ExJSVFON4Kta2ysrIeB+ggOc4KVqZqxrPCwsKgn+exYwFbFyKJPVmn1Eer2Wc1Fi9eLPTLu3btUqyT/HjAjqvsL5NC5W8k+nWn0xnWHDXUVXGh8O3BZrMpzjeU8lWqu/m0YMECIT2h+sDCwkIh2Go0GgNuZTWQDX3uueeek77ZG/bt2wf4L8+bNWuWdLFAzXqnTp0Sftont15cXBwaGhrg8XjgdDpx+PBhdHR0wO12Y8SIEWhubsann36Kt956C2+++Sba29tx8uRJLFy4ULSd4cOHo66uDgBQX1+Prq4uTJ06VVjucrnw3nvv4Q9/+IMowLNs2TLhb5vNhl27dqG1tRUWiwWnT5+G1+tFZ2cnYmNjYbPZ8NFHH+HVV1+Fz+cDADz11FOIjY0VtnHTTTfBYrHA5/Ohvb0d9fX1uHDhAtrb29HY2Ih3330Xe/bsQWtrK8xms9DRzZ49G3FxccJ2oDJ/eZMmTcLJkyfhdDrh8XgC0n/u3DnY7XYcPHgQb7zxBhwOB+x2O+6//37ExMSItjVx4kShTNhtnTt3Dk6nE7W1tdi7dy8OHTqEMWPGYNSoUfB4PNDr9Zg/f75oW2odPnwYbrdbcRtK+VFfXy90MGyZymHrpFy+a1Un1WpsbERra6vwN/wd3ZdffinU4VD7p5Q3LDXrhWqzWtW15uZmbNu2DW63Gw6HA52dnZg+fbrou3oTnxdKdU4qVDmw+ls9i42NRX19PXw+H1paWnD48GGcOXMGHo8Hp06dQm1tLd566y1UVVXB7XajoaEBjz32mPD56dOni8r96NGj+Pzzz3HhwgU4nU7U19fj7bffxr59+4T+0Ww240c/+hGTim9pmY9SWuardFvSvpDfZ347VqsV06ZNE40Jatp3bGwsurq6YLfb4fP5UFdXh5MnT+LChQv45ptvMHToUNj8V+3t2rULNv+VvSNHjgz4yc7UqVOFcmK31dbWJoxJb7/9Nl5//XX4fD5MnjwZ7e3tgIqyCEZNeSr18eGWsVI/plX/pFZbWxsaGhoA/5O2urq68Nlnn+Hw4cPCVT2h9k8pb1hq11Pq27Ssa+GKiYnBsGHDhPyScrvdQt8hR25/5PD5xApWL0Nh6zZPrgx7W7A6v3XrVrS0tMBqtYrmm3FxcXC5XLDZbNizZ4+Q52azGQ8//LDwebV6Mn7ExsaisbER7e3twlx47Nixon7SZrOhpKQER48eFd6T7itUtIGepBMRmsNrmR8jRozAO++8A/gDBV1dXfjyyy+xd+9e0ZXd0rGsJ+PiuHHjhDzmt8XmcXV1NYqLi9HQ0CDKI7n0q+H1eoX+s6WlReiv2DE41HhWVlYGi8Ui1Al232NiYlBTU4Pq6mrhIQt6vR6rV68WPg8V41yw8pajVI/ZMUzaRzudTjQ2NuKtt94Kuc9qSccEvi85c+YM3G63UKalpaXCeNDe3o558+YB/qd5Hj16FF6vFy0tLejo6MBtt90mGk+rqqqwY8cOYS6EMNsMwsj/hIQEOP1PQJWb+7Bz1ISEBNGToHmhvovV0dGBlpYWeL1eNDQ0QKfTifarubkZb731lih4LFfuAFBXVwePxwO3242Ojg54PB688cYbGD58uBA4Vqo7MTExovbZ0tKCuro6nD17VlSWxcXFwv7pdDqkp6cHXACEEOUhpZSuSBuUAbOYmBjMnDkTHo8Hra2tQoOzWq145513UFdXh4aGBqHjMJlM+OUvfxkwsTUajYiKioLD4YDX64Xdbse+fftQV1cnDAB2ux2PPPIIfD6fMJliG4J0G62trbBarbBYLMK2+A5Fp9Nh6dKlorP58O8P3/HAPwG02+2wWq1oaGhAa2sroqOj8eSTT2LChAmKk2g1+cuaN28eOjs7hXxk02+xWGC1WoVler0emZmZshNgvkz4wdXn86G1tRUNDQ2wWq1oaWmB2+2G0WhETk4ObDZbjxuJmoamlB/hdG6hDl60qpNqsZMB/qDb4XDA6XQKE7lQ+6eUNyw164Vqs9Corp06dUoIcgPA7bffLvtdvUXpoDKYUOXA6m/1zGg0YsqUKWhpaYHH44HX64XD4YDVahXaNT/pMplMyMjIEE3g4S/3jo4OOBwOYbLM9wt2u12YGOt0OjzyyCOyExFonI9SWuYrv6329nZhfbYv5PfZ5/NBr9djxYoVAZf2q2nf8Ae6xowZgxMnTsDr9Qp5W1dXh3feeUcoI4/HI4w/wa7emzdvnjDhhv9Aih+H+DTrdDpkZmbi4sWLqssiGDXlqdTHh1vGofoxLfontdgDbI/Hg4aGBtjtdrS2tgrB01D7p5Q3LLXrherbtKxr4Zo0aZIwz+IPWuQkJiYiOjpamKtBYX+krqeAGd+nu91u0Xxz3759QllK+3W5vi6Uno4fbDrb29thsVjw9ttv4+OPP0ZxcTHq6uoQHR2NlJQUYf4s3VeoaAM9TWek5vBa5UdMTAzq6+vh9geb7XY7Ghoa0N7ejqioKOGkjJbjotFoxPjx44WDcmke88dQZrMZ2dnZivmgRlxcXMB4Jh2DjUYj0tPTg45n06dPx5kzZ2T3fd++fUK64e9n5AIIoca5cPYzVD2WG8P5febLSa/XY+XKlUH3ORz8mHD8+HHhGJnPIz5vPB4P4O+bn3zySaFuxPiDNI2NjUJdeOedd3D48GEcPnwYu3btQkNDAyZPngyTyYRWf9As3DajNv9nzJiBxx9/HI2NjXD4T4ixdYVnNpvx1FNPydbxUN/FYuuWx+OB1d//1tfXo7S0FNXV1XA6nXj66aeF/iJYuZ8+fVr4Xr5NOZ1OdHZ2CgHKUHWHb58nT56Ex3/hi7Qsvf4Lh0wmE376058GvVhBqTykQqUrkgZlwAz+xjZnzhxMmDABQ4YMESaePKPRiMmTJ2PJkiVBKzf8DX7KlCnCIOn1eoUJX0JCAjIyMvDQQw+JJlPShjB16lTMnTsXN954IwAIgwHPZDIhMTERGRkZQX/vy3c8ly9fhscfcIJ/P+6991789Kc/xd133x1yEq0mf6WmT5+OKVOmYNSoUUKnx9Pr9TCZTHjwwQeFR1YHExMTg4ULFyIq6ttfArP7YTKZsGDBAqxevRoxMTGaNBI121DKj3A6t1D5Dg3rpBpxcXEYOXIk2tvbhe8wGo1ISUkRDuJC7Z9S3rDUrKemzUKDumY0GoVBxmQyYfny5T3Kx3DxeaFU56RClQOrv9Uz+M8ksu2a7d90Oh0mT56MBx98EJmZmQHBMt6sWbMwbdo0+Hy+gPSaTCaYzWY8+eSTeOihh0SfY2mdj1Ja5mtMTAzmzZuHMWPGgOM4wN8f8vgx4amnnhLuD8VS077ZdWfPni2MP2y/q9PpcPvtt4ccf3hsmvnxEJJxaNKkSWGVRTBqtqHUx4dbxmr6sZ72T2rFxMRg/Pjx6OjoEA7E9Xo9EhMThSt5Qu2fUt6w1K6npm/Tsq6Fi59n8f0P3y74PmjZsmVITU0NCHwp7Q9L+jko1MtQ+nvALCYmBvPnzxf6OrkgY0JCgqq+LpSejB98OqOiouD1euH2B3jcbrdoTsmfVIDMvkJlG+hJOhGhObxW+QEA06ZNQ3t7u7ANnU6HGTNmYPHixaLy1nJcNBqNmDt3LqKjo0X9K9uGn3zySSBEPqg1b948UV7x2LwyGo2KY9GcOXMwbdo0YUzwer2iPo+vF8HGBKVtI8z9VFOPlcbwBx54AE899ZRmYzj8YwJbpmz+sP1IampqQN0wGo2YPXu2qE/nP8/Wh2PHjglpDbfNhNpP9rOPPfYYZs+ejejoaHj8QSPI1E/pfvBCfZfUnDlzAvoMt9uNMWPGCH1GQkJCyLF51qxZwtWPfHknJCTg4YcfFuqkmrpjNBqDHsPz85+UlBSsXLlStg/kKZWHlJp0RcoQjp+tE0IIIYQQMkitX79eFKwymUzIy8sTrUMIIdczvp/U6/XYtGmTdDEh151Bd9N/QgghhBBCCCGEqOdyuYSTCnJXxRFyPaKAGSGEEEIIIYQQMggVFRUpPuEQ/mDZ5s2bhf/ZhzwQcj2jn2QSQgghhJBBj36SSQi53tTU1GDHjh2Av89LSEjA+PHjMXbsWOj1ejQ1NeH06dOora0V7ufGP2CBEEIBM0IIIYQQch2ggBkh5HpUUlKC6upq6duyEhMTkZmZKX2bkOsW/SSTEEIIIYQQQggZhNLT05Gbm4vExESYTCbpYpj8T+fOzc2lYBkhEnSFGSGEEEIIIYQQQgghDLrCjBBCCCGEEEIIIYQQBgXMCCGEEEIIIYQQQghhUMCMEEIIIYQQQgghhBAGBcwIIYQQQgghhBBCCGFQwIwQQgghhBBCCCGEEAYFzAghhBBCCCGEEEIIYVDAjBBCCCGEEEIIIYQQBgXMCCGEEEIIIYQQQghhUMCMEEIIIYQQQgghhBAGBcwIIYQQQgghhBBCCGFQwIwQQgghhBBCCCGEEAYFzAghhBBCCCGEEEIIYVDAjBBCCCGEEEIIIYQQBgXMCCGEEEIIIYQQQghhUMCMEEIIIYQQQgghhBAGBcwIIYQQQgghhBBCCGEM4TiOk75Jusdms6GyshJ2ux0AoNfrYTabsXjxYhgMBmG9kpIS2Gw2uN1uAEBCQgKSkpKQlJQkrEP6t6qqKlitVmRkZIjKtje4XC4cOnQIdrsdDodDeN9kMuGee+7B0qVLResPFDabDUVFRfB6vQCAnTt3Slfpd/iycDgccDqdQhvW6XQwGo1ISEjAggULer1OdFdzc7Mo/fCn3WQyheyDbDYbysrKkJOT02/3L1LWr18Ph8MBk8mEvLw86WLNROp7COlrK1euBAAkJycjPT1dulg1l8uF3bt3w263w+v1QqfTISEhAYsXL0Z8fLx0dUJCqqioQHl5uei9VatWKY6XoTQ3N+PAgQNCPQUAo9EIs9mMtLQ0VFVV4cCBA3C73TCZTMjKyrrux11CCOkrQ5977rnnpG+S8PEH//xBKAB4vV44HA54PB7MmTMHAFBYWIja2lphgASA9vZ2WK1WJCQk4KWXXkJxcTE6Ojowa9YsYR0tuFwuvPjii722/euFy+XCtm3b4HQ6ceONN2Lq1KnSVTRTVVWFbdu2wW63C8EZntvtht1uR11dHWJjY2E0GkXL+zOXy4WtW7fC4/EI7y1btky0Tn/icrmwa9cuvPLKK2hpaUF7e7uoDft8PrjdbrS0tMBisWDYsGGYNGmSaBt9raSkBK+99hpaW1tF+e7z+YQ+qLGxEVOmTEFMTIzoswBQVFSE1tZWtLa29uhAYTA4fPgw3G439Ho95s+fL12smUh9DyF9bd++fYD/RFB35yYulwubN29GS0sLfD4f4O/fnE4nWlpaEBsbixdeeAH79u3rl310bysqKsLWrVtRX19P/YlKcsEyAJg9ezbi4uKkb6tSU1MjjKd8PQUAj8eDlpYW1NXVwWazCeO02+1Ge3s75s2bx2yFEEJIpNBPMjVSUlIinM1MTU1FQUEBli9fDpPJhNTUVMA/8NpsNsB/VVl2djZyc3ORnJyM5ORkNDU1CVcQVVdXi7avhdra2l7d/vVi9+7d8Hq90Ov1vXp1V0VFhfBd8F+xmJiYiOTkZJjNZuh0OgCA0+lEUVGRULf6O/6gRhoA7K/49NbW1grv8VeP8m2XLQ+v14vdu3ejoqKC2UrfKiwsFLV5o9EopD0hIUF43263Y/PmzXC5XMJ7vIULFwrr1NTUSBcTQkif2r17t3DSMjk5Gbm5ucjOzkZCQgKWLFmC999/H263G16vF0eOHJF+fFBrbm4WxjCHw0F9uArBgmU9wZ98Y0+4SZlMpoDlA2W+RAghgxEFzDTA/rxy8eLFWLp0KQwGA1JSUpCXlydcRn38+HHAf7C9du1amM1mxMfHIz09Henp6bjjjjuEbfbG1UK9vf3eUlJSgpUrVwo/2ehLzc3NQmBqwYIF0sWa4S/X5y1atAibNm1CZmYm0tPTkZ2djfz8fJjNZsAfpCkpKZENdPQnfPCJvRKzvztw4ICQXpPJhFWrVmHTpk3Izs4W2q60PPjP9WZ58G2ipKREukikqqpKqLM6nQ6rVq3Chg0bhLSvXbsWubm5Qp/gdDrx8ssvS7YCJCUlwWQyAQDeeust6WISJrXlRwhRh78dhtlsRnp6OuLj42E2m7F27VokJSWJ5j0DaQ4USk1NjdCfBAuExcfHCyd1dDodxo4dK11lUOPzJ1Q+8XojWAb/vEAaDEtISBBOvPG3dZDiy44QQkjkUcBMA01NTcLf7NUaUvzVXfxBp5TZbMaqVauwaNEi5OTkSBf3WG9v/3rAB7F0Oh0SExOlizXDXlm2aNEipKWlSVeBwWBAdna2EKRxu92iIFt/xP+UFYBw5WV/l56ejkWLFsFsNiMvLy/ozxH58uD7AK/Xi0OHDklXiyiXyyWa9GdmZsqmPz4+Hjk5OcJBZLCryO655x7AH1STW04IIX3BZrMJY+add94pXQwASEtLQ2pqKlJTU5GZmSldPOjl5OQgOTkZOTk5dD83Bb0VLANzHMAzmUxYu3atcOJt7dq1iI+PR2pqqhAkMxqNA2a+RAghgxEFzDTAni1SmoSwP60LJikpCWlpab12c8/e3v5g5nK5hCt1zGZzr+WhzWYTBVflgmWs5cuXCxOr2traXr2qqScKCwuF/UpMTOzVn7NqLS0tDdnZ2dK3ZbEBKf6Kh75y6NAhod/hz2AHYzAYsGTJEuH/d999V7QcAJYuXSrUNQqYEUL6i4sXLwp/jx49WrSMtXTp0gE19miJ/0WD0jz1etebwTL4Tzaxgp1AX7p0KV566SXk5uZiw4YNVGaEENKHKGBGiErsPazmzp0rWqalDz/8UPibv6JHicFgEP00k01nf+FyuYRgmdlsHtRn9+Wu4Oor7H3t7rvvPtEyOezPlhwOB5qbm6WrCFfQ2e122eWEEELIQCMXLOOfsqoV6c8xQ6FAGSGE9L0hHMdx0jd7W01NDT7++GM4nU7R2RaTyST8fl/p6h2Xy4VDhw7BbreLLm82Go0wGo2YM2dOWAetVVVVsFqtcDqdwr3I9Ho9TCZT0G3V1NRgx44d0rdFkpOT4XA4Ai7Bltq5c6fwt9pHq7N54HQ6RVevKaU7nO3X1tYK+cJv32g0wmQyYcGCBYoDeUlJiXCTcX7/mpubhTRL81n6yHe1+SvdB75uORwO4Tt0Oh2MRqOquqXkhRdegN1uh06nw0svvSRdLFJRUYHjx4+L6hRU1vF169YJ7aKgoCDoeiw2v8xms+qrocIVrN7pdDqYTCbcddddQc/e22w27N+/X/R4dPa+dGw70Bpf95xOp6g9hmov3WGz2VBYWAj4yzsvL0+6SretX79edX/icrnwzDPPAP52u2HDBsma8ti2m5qaGlCeVVVV2L17N6Dwc2G1go0FavoZts6vWrUKSUlJQv202WzC9vi6mZSUpKqM+bbrcDiE+m0ymXDPPfcIecGXQ7jlG075Icj3yPVxfP+2ePFiVf1Fd8a8cMj1/3y67XY7vP4H5CQkJGD58uWiNNfU1KCmpkbIf3496RgRjFb71pM+HD2cp8iVezByec0L1kbKy8tht9uh1+uDbt9ms+H9998XtU01/byUXD7ItUm1cxOpUPc2lbYdaX6w5PJdWm/Rj9pbOPuOIPvHk8sbuTlbQkICHn30UdHVyvw9V9k+KSEhQXWf21v5o6a/BZNP7NwL/nqamZmJTz75JOBBWXL1J5hw0wGZz0jbhdwceefOnbLtDWHW2WDzJTXjMgCUlZWhuroaXq8XiYmJg/oEKSHk+jD0ueeee076Zm9xuVzYsWOHcBNt/pHJPLfbjZaWFhw9ehSjRo2SfWRzVVUVtm3bJhrAeR6PB06nE1arFY2NjZgyZQpiYmJE67Cam5uxdetWWCwWtLe3i878eL1exW2dOnUKVqtV+F+OyWSC2+0OSKfUsmXLhL/VPFq9pqYGhYWFQh6wj6Vm033mzBnExcWJ0q12+/xTF6Xb93g8aG1thcViQUdHR9Bt1NfXCwPtsmXLUFJSgtdeew2tra2y+Xz06FGMHz9euLpFbf6y319UVISKigo4mUAO/I+V5+uWxWLp9uPk+cnJ5MmTg06Uampq8Lvf/Q42my2gTkFSx8eNGyfsL2vXrl2Af3LyxBNPSBfLiouLE8oWzBMNtVRWVoZXXnlFtt75fD60t7fDbrejvr4e06ZNC2h7RqMR8+fPl62PkLQDrbj8T6Tas2cPWltbA9qitL3MmTNHtLw7PvroI9j9P8VMSEjQZJu8w4cPB+yDFJ+PNptNaEMzZsxQnQ6PxyN8Tq/XB3xu0qRJQrlFR0cHbQtK+L6Xn5RLxwK+nzl69Ci6urowdepU0XJI+ojZs2ejsbFRGBvY7fF102q1IioqSnZb8NeV559/HkePHkV7e7uofrvdbtjtdtTV1WHmzJk4evQo3G439Ho95s+fL9qOknDKD8z6er0e06ZNw9atW1FVVRXQx3k8HjgcDjQ0NGDmzJkBbY/XkzEvHGz/f//992PXrl1C38znq8/ng9PphMViwdy5c3Hp0iVh/9j859c7evQopkyZgtjYWNF38bTaNy36cJvNhq1bt6KhoSGgvNXMU9hyD1W/pGMtK1gb4YORctvn+8y9e/cGtE22n6+rq0NsbKzs/vNsNhtefPHFgPka2yZPnjyJefPmqZqbyGHHEDnsPkrzQzrHVGpv0nlQf2hv4ew7QtQrad7U1tZiz549Ql3htbe3o66uDmPGjEFcXJwwt5P2SXz5jhw5Muh8q7fzR01/CyafZs6ciYaGBng8HiFYZjabRW2MJ1d/ggk3HZD5jLRdyM2Ro6Ki8Ic//CGgvSGMOsvO1eW2wc//Ozs7MX36dNFy+I/R3njjDaG9tLa2Kh4rEELIQBCxgJnL/3S8lpYWwH/m5t5778WDDz6IefPmwWQyQafTwe12Cwds06ZNE02OKyoq8Kc//UnoiPkzHUlJSUhISMCoUaOEiXZ7e7viwNDc3IzNmzejvb0d8F+Vs2TJEixatAgPPvgg7rjjDkRHR8PpdMpua8SIEZgwYQJmz54NjuPg9J+VWrVqFWbPno3Zs2cjISEBEydOxIwZMzB79mxhcOO/i1+PHXRDTRorKirwxz/+UZQHiYmJmD9/PmbPno2bb74ZXq9XGNja29sxb9484fOhtl9VVYWSkhJ4/Wf2H3jgASxcuBB///d/j2nTpuG2226D1+uF2+2Gw+EQJrtS7ATj5MmTqK2thV6vR2JiIhYuXCik1e1/xLvP50NHR4dw8K02f/n6wZ/Rgn/fFi9ejKeeego/+tGPMGbMGIwbNw7t7e3weDxoaWnB3LlzZetFMDU1NUL5zZgxQzbvmpubUVhYKOQdW79nz54tBFA9Hg+8Xi8aGxvx2GOPibbBfs+YMWMCJrVK3n77bfh8Png8noADp56qqKjAm2++CZ/PF1COs2fPxrhx49Da2gqfPzgprXfB9HbAbMeOHTh69Cgg01Zmz56N4cOHo7W1FfBP7JQCKmpt375dmPh///vfVzygDNfNN9+suj+prq4W2uDkyZNl66ycc+fOoa6uDvAHxOTqYF1dHTweDzwej+i+Z2o9//zzQps2m8247777kJSUJLRrvg/3+Xyw2+0BYwEkBwwcx+Gdd95BdHS0qN2NGzdOqJPw/8xULr38+MSnSdp++e20traioaFBaGdyB55Kwik/MAdNOp0OtbW1cPivDmHr8fDhw4W88ng88Pl8smXd0zEvHGz/39raCpvNJhqv+f6Y7/vb29thsVjQ0tKiuJ7H45HtV7TaNy36cJfLha1btwrl9sADD+CJJ57AP/7jP2LatGkBaZErL6XAhpTagNnNN98s9OFGoxH33nsv7rzzzoD+7vnnnxcC/vxY+vDDD+P73/8+JkyYINQ3t9uN+vp60Ykuls1mQ1FRkdAXSscNfvzn5xF82ws2NwlmzJgxwhjEzy8XLVoktI+7775b9kSctK1BRXuTzjM9Hg+io6NlAwda1Ukl4ew7QtQrNm8uX76M2tpajBo1CsnJyZg/fz5MJpMw9wOAEydO4MyZM6iuroZerw+6Xmtra0AbQYTyRxp0CobPj5iYGMycORMtLS340Y9+JFxFN1ACZna7HT4msCtHaYwoLCxUfUuPlpYW2ZOMe/fuFcqUJa1vhBAykEQsYLZr1y7RVRc5OTl46KGHMGnSJMTFxWHq1KmYN28epkyZgtbWVvzgBz8QXfJts9lQXFwM+A9mnn76aTz11FOYOnUq4uLiMGnSJMyZMwdz584VzhDxL2mHDgAvvviiMDFavXo1li1bhri4OMTGxiI2NhaTJk3CvHnzMGbMGBw/flyYJPPbiomJQVxcHOLi4tDY2CgMpr/85S+F9/mzr/z/fHAgISEBS5cuFd5nKQW0mpub8eqrr8Ln80Gn0+HJJ5/EypUrMX36dGFbs2bNwsKFC9HZ2YlRo0Zh+fLloglGqO2//PLLwoQ6NzcX999/P+L8V6kZjUZMnToV8+fPR2dnJ1paWuB0OmXPILITDKfTiUWLFmHNmjWYNWuWKK2zZ8/G0aNH4fV60d7eLkz41eYvb9euXfB4PDD5L2mfNGmSsN9xcXGYPn06HnvsMXR0dGDy5Mlh34OstrZWmJAuXLgwoNwAIDY2Fh0dHTCZTPjpT38qqt9x/jq+cOFC4eDA6/UGBGjYSZDcpFbJxx9/LEywpAdOPTV16lQ0NjbiwQcfRHZ2tqgc+fxl257T6ZQNckj1dsBs4sSJaGlpwQ9+8AM89dRTorYSFxeHOXPmYMKECaivr4fPfyWL3ORerbKyMjQ0NAD+NvbDH/5QukqPhNOfsG1Qrr0HYzQahW0Hq4Mff/yxcNCoppylRo0ahcuXL+OnP/0pHn/8caEfj/P35UlJSYiKihLGDLlACdtWnE4nzGYzfvnLX4ra3fTp0zF//nw0NjYK6eWvjGCx4xPf98ltZ8yYMfjoo4+EdhYsf4IJp/zAHDTxBzlyff6cOXMwfvx4Icjp9XplrzDt6ZgXDrbutbe3Y9GiRVi9erVQztOnT8fs2bNhsViEduf1egPG9enTp2PixImwWCzCtntz37Towz/44AMhSP/0009j6dKlQtCCTcuECRPQ0dGBJ598MiAIoBTYkFIbMHM4HDAajfjhD3+IjIwMzJo1KyBYVlRUJLQD/kmSkyZNgtFoFMbkOXPmYMqUKWhpaYHb7cbJkydly6SwsFBoJ2b/E4al4/9jjz2Gzs5OUfmG01fBP77HxcXB7XYL+zp//nwkJSUhLi5OFDBSGzDj2xtfH/n2xs8z2fbm8/lky0irOqkknH1HiHrF5k17ezvMZjOysrIwd+5coe7Pnz8f9fX1cPtPdDocDmFux+cRv97hw4fh9Xrh9Xpx//33B9TxSORPY2MjoqOjodfrhbrIMxqNGDNmDPR6PYz+n0jDP/ecP3++KO96GjBTSgf//dJ0dCdgxuIDl3IBNLfbHTDPKSkpCQiW6fV6mM1mTJ48GSb/yQI+AA5/MFQ6/z927JhwEpJnNBq7dSU6IYT0FxG56b/NZhM6YpP/EcrBfkMfHx+PvLy8gM61srJS+HvFihUBy3kGgwE5OTnCYFdbW4tmyY2p+Z+GwD8pZANzUklJSUhOTgaCbCuSysvLhcFqxYoVSElJka4i4J/qFyyf5Rw4cEA4s56RkaH42bS0NCT4b4R64MAB6WKR1NTUoPc5Ym9YD/8VVt3Bl6d0giiVnp4eNC1K2EmCkvT0dKSnpyvm3fLly4W/z58/L1rWn61du1bxvjUGgwELFiwQ/m9raxMt7wsGg0G2P2GZzWahDkons+Gw2Ww4ePCg8L/an9MORGw76045JyUlYe3atYr3QWEDDaHKxey/b1+wdseW/+effy5axt+vEf4DhJycHMXtZGZmQud/Umik6Pw/DwrW55vNZpj8T1vj+0JWX455wfp/g8EgpBkAMjMzZdtpfHx8RPetp334119/Lfw9ZcoU0TKW2WxWnAtpzWg0IicnRzaP4T9hxreDUE8xjo+PF8rU6XSioqJCtJz/GSP8AWGle2qmpaUhNTVV+naf4ttbsLxi25s0kIJeqJORptSf8vM+hLiHJbvPTU1NomWRyp/MzEzk5eUF3K8NAJYsWSIs6+17bCmlw+wPJmuRDp1Oh9TUVOzcuRN5eXl46aWXsGrVqoDxSjqeNjc3B9yjzeg/cZSZmSn0iZs2bQooK+n8PzU1VfR9Op0Ojz76qGgdQggZaCISMGOf+id3JjIUl8sl+olAsEkMT3rgfuTIEdFy/n+j0Rj0AISVlpYmDABKZ3R6U7h5EC6XyyU8Uc9sNiseyPL4QdDtdguflaM08QaAW265RfpW2PjJq81m63bQTQk7Ke5p3rOTULkDwIFs5MiRwt+nT58WLevP2AmeUl0Ohv/5EW/RokUBE8vB6tKlS9K3NMOXS6h2Euqqg7Fjx0rfErBn1RMTE2UPEllmszlkYF5rRqMxZH1ig09SfTnmKfX/bD6G2r9g+mLflPpw9mqL3bt3w+VyiZb3lSVLlijW7UOHDgl/qwlgmc1mIXhy/Phx0TL2fzUHy0p1pC+oaW96vV76lqAv6qSWlPrT8ePHy/4djoGeP/1VZmZmQFtiA47BsG0f/nE32Imj7Oxs0VjjdrtRVVUl/G8wGJCfn49FixYhOTkZOTk5IdsSIYT0dxEJmPETSp1O161gA3t2ij27pYQdhKVnAPn0KB1gSPETe+m2IqU7eRAOdvt33nmnaFkwSmcQwzF69GjpW2HjA7Ferxc7duzAmjVrhIcAhHNGUgs1NTV44YUXsHr1aqxcuRIrV67EunXrUFRUFJAWtVeuqRGJullRUYH169cL+7Vy5UqsX78eZWVlAQeGWu5bT7hcLpSUlGDdunVCmlevXo0XXngh4MoIALh48aL0LUXSe/WYzeagZ90HAjUBZzbIzV5REw7+flFr1qwRymXNmjUoLCwMSENP65LSCQD2CqF77rlHtGywGIhjnlq9sW896cOTkpJEJ3CeeeYZvPDCCygpKQmo1/0Je5W23IGynGD5yF/Bwv+kazBSCpj1Rp0cTCh/ekewthYqsCkN+ickJCj2AdJjkBMnToj+NxgMSEtLQ3p6uuLYSwghA0VEA2bdPSvPXqkSquNnyX0fe/VIbW2t6MBf6cUP0tLJcaR0Nw/UYre/e/fugP0P9uL1Vb7wkpKSsGrVKmES63a7UVtbi/LycmzcuFEIoEkPdrRWWFiIHTt2wM48gt7kv/dDbW0tNm/eLBuk4bEBZell82rJ1fuecrlcWLduHcrLy4W2oNPpYDKZ4HA4cPDgQWzcuLHfXVVms9nw7LPPorq6WuiH9Ho99Ho97HY7ysvLsX79+m7XX7lgmdLPjyKJvdJF67rU0yB3RUUFNm7cCJv/Sbxgvstms2HHjh2iK/Z6E3uwMBgn9wN1zFOjN/atp304AGRlZSExMVH43263o7q6Gjt27MDKlSuDBuv7Et8OnE5nQH4Fe/E/45LmI9vXXm96o04OJpQ//Y80YGaz2QLyn32xt56AzOcJIWSwiUjAjJBISEpKwqZNm5CdnY3k5GSY/E9eBRNA27hxY68dqJSUlAiTQaPRiFWrVonuJZGbm4vExESUl5dLPyrCBw7cbnfAVVvBsFcuBAty9MS2bduESVFCQgJyc3Px0ksvIS8vDzt37kR2djaMRmPARKovuVwuUTArOTkZBQUF2LRpEzZs2ICdO3di+fLl8Hq9op/lqVVVVdVvg2WQ3D8pnAkte4+vW2+9VbSMd+7cOelbqtXU1AhtgL3nyoYNG7Bp0yYUFBQgNTUVNpstIlcT0AEY4WnVhxsMBmRmZgp1WfozXj5Yv27dOtV9/EBCbYoQQgghg0VEAmb8RDGcgzYWe0VVOFewyH0fe8my2WzGzp07w3rJ3bQzErqbB2qx2+cPYMN5paeni7bXl8xmM9LT04WDnOzsbCQmJgrBs/Ly8l75aQx/oMXfOFz68+P4+Hikp6dj1apVovel2J8pqA3kHDt2TPj7rrvuEi3rqebmZiFwkZCQIHuzdrP/Btah7pURSbW1tcKB26JFi2Rv5J2SkoINGzaE9dMQ+K+Q2r17d78NlsF/0M72vWqvruTvlQj/Pb3ksD9jDBZUC+bjjz8W/pa754rBYMDSpUuRn58fcLPi3sCWvdo8GkgG6pinhtb7plUfzuPrcnZ2NjZs2CAE0Pg653Q6sW3bNunH+gTfV+j1+oB8UvNi8fvX3StbBzKt6+RgQ/nT//TGSVZCCBlMIhow83q93QpUsFdKsAdzStibUEoPhvn0ROLqBa10Jw/CwW5fej+Cgc5sNiMzM1P0dDv2oF0Ntg4Fq8P8wUGo+z9ID8Kk5s6dK/yt5ga37AMbdDqdqpvohoN9CmKoezyxPwPsa2xQh30IiBxpH6GksLBQdIVJampqvwuW8diDE+nDT+TU1NSIriRUqsc89kEParA/wWTTJ8UG/HoTez82Ne1tIBqIY55aWu6bVn14MHwALS8vT6j7DocjaKA2kldqsVc2B0uPWuytEdif4F0vtKyTgxHlT/8iHWeNRmNAoFLpJQ1iulwulJWVoaSkpMd9CSGE9AcRCZixB6vvvvuuaJkaBoNBuMmkw+EIGrDguVwu0aOO77vvPtFyfqLqdrtRVlYmWtZfGQwG0QQ7VB6Ei81jm802KCe5ZuZnMeGe+Q7nSpdw1pVjljyyPlQdZa90CnZFkFbCDY70F0oHv2rx93Fjg5PLly8PuEKqP1mwYIFQH6urqxXbtcvlwltvvSX8rxQUYK/eVXoCpZKethOtsG2mtrY25E/kbDab7NXL/dlAHPPU6o19i0TdZJ9EyJ6UYIWqZ+zTs3uKPVET6ienobBXOVdWVoqWyemt2yT0ld6ok4NJf8gfdg59vQd1pCcUnU4nCgsLg46FNTU1WL9+vWy+uVwuPPvsszh48CCqq6uxefNmxXkHIYQMBBEJmMXHxwsHJQ6HQ7Ejbm5uxvr16wMCQuyjyXft2hWwnOdyubB582YhIJKYmBjw87G0tDQhcHLw4MGQkzV+cAiW5khZvHixMJFXygMAKCsrU8xnOampqcL2i4qKQg5y/HdEUrB9LisrQ1FRkeL+sj8tlJ5RC4X9ySp7jycWf1bdZrMppiPYPrCWL18ulMXBgwdlJ5UulwuFhYWinxEtXrxYuhrgT1NJSYnoyku12IBIqLQHy5vuqqqqEt1XKBzslUNy+ccKdabbZrNh48aNoptZZ2Zmdvtqvp7sl5RS2g0GA1JTU4X/i4qKZMuwubkZmzdvFl1dphQw4/tXnU4X0L+GwrcTh8OhuP8ulytkwEAL7MkIt9uNzZs3B22/NTU1ovvWaUGp/LQyUMc8NbTcNy36cJfLJTuHkWKvcmav8IZkfArWd0nbbE+ZzWZhnma320OO7fxcTa4Np6SkCHkZaltlZWU9DtD1N1rWyXBpPQb3hr7MH57dbseaNWuwevVqHDp0SLr4usIeo/Fs/gcmFRYWoqSkBCUlJSgqKsK6deuwY8cOOBwO2XZbXl4uGh+9Xq+qoDkhhPRnQ5977rnnpG/2hri4ODQ0NMDj8cDpdMJiseD06dM4d+4cnE4n6uvr8fbbb+PNN99Ee3s7rFYrpk2bhtjYWMA/gYyKioLdbofP54PVakVjYyPOnTuH9vZ2NDY24t1338WePXtEP/nJyMhATEyMJDVAbGws6uvr4fP5YLfbUV9fjwsXLqC9vR1xcXGoqalBfX099u3bh6qqKrjdbng8HtFZYV59fb1w0LNs2TLpYsG+ffsA/8+/Zs2aJV0MhFgnNjYWXV1dojyor6/HmTNn4Ha7cerUKVRXV6O0tFS4CqK9vR3z5s0TthHO9uvq6nDy5ElcuHAB33zzDYYOHQqbzYba2lrs2rVL+I6RI0cG/BRPbZ4AwKlTp4SfQs2ePRtxcXGi5W1tbWhoaAAAfP311+jq6sJnn32Gw4cPY86cObDZbNi1axdaW1uFeuX1etHZ2YnY2FjYbDZ89NFHePXVV+Hz+QAATz31lFC31IiLixPyTqfTyQYTOjo60NLSAq/Xi4aGBuh0OtG+NDc346233hJNMvR6PebPny/8z2PLAgBaWlpw+PBhnDx5EseOHcPhw4fx+uuvo7W1FfCnaeXKlQHlAP8B3IsvvoiWlhY0NDTIlpeS2NhYNDY2or29XWhrY8eOFeUfH5A7evSo8J5cHZPi8xQy9aSmpgYlJSVwOByor6/HlClTwiqz0aNH4+jRo/B6vWhpaUFHRwduu+02UX9QVVWFHTt2CPkImTpYUVGB0tJSeDwe4T2z2YyzZ8+ivr4+5EuaBz3dL15dXR08Hg/cbjc6Ojrg8XjwxhtvYPjw4aID7kmTJuHkyZNwOp1Cv1FXV4fTp0+j3t/vvvHGG8L+GY1GZGVlyfabvF27dgEAJk+eLNsWlAwfPhx1dXWAv5/o6urC1KlTheUulwvvvfce/vCHP4gm3tL6EarfkFLq+yZOnCiMTx6PJ2B8qq2txd69e3Ho0CGMGTMGo0aNgsfjCdp+1VBTfocPH4bb7Vb1PaH6XC3HvFBCpYWndj0+HxBkPa32TYs+fOvWrWhpaRHGZzYdLv/P5/fs2SOMaWazGQ8//LDwefgPMvm63dLSIozD7Fzp9ddfh8/nw+TJk9He3g7I5E24bUQ6Tzt8+DA6OjrgdrsxYsQINDc349NPP8Vbb70lzNVOnjyJhQsXSjeFcePGCWXCb+vMmTPweDzCXKW4uBgNDQ0wm81C4E+ufaqhZl9DrTNQ29uIESPwzjvvAP6rg7q6uvDll19i7969ov5Zaf9C5Q1P7Xps/sitF8n8AdPfsrxeL3w+HzweDx577DHRMha7Lzy5fVKDnfNAob6zfR5k1mPLgSdXD6Fy3Tlz5gjzBB7fdh0OBxwOB1pbW0V52N7ejjFjxojy4d133xX6I96oUaMC6hshhAwkEQuYxcTEYObMmWhvbxcO3FpbW9HQ0ACr1Qq73S68r9frsWLFioD720ydOhUjR45ES0sLfD4f2tvbYbfbYbVa0dDQgNbWViEgkpiYiIyMjKA/xTIajZgyZQpaW1vhdrvhdruFbe3bt09IE9/xJyYmIjMzU7oZQMXEiad0wMYLtc7UqVMxZswYHD9+HD6fD263W5icW61WOBwOYUBLTEzEk08+KTrwVbv9EydOwOv1wul0oqGhAXV1dXjnnXdgtVrR0tICj8cDnU6HpUuXyl7VpDZPoGICdtNNN8FisQgTm4aGBtjtdrS2tmLatGmYPn06oqKi4HA44PV60draCqvVCovFgn379qGurk4IAvJplv5MVw0+aOTxeLBkyRLpYkyfPh1nzpwRJhV8Xaqvr0dpaSmqq6vhdDrx9NNPC/srN3HlSes7v28Oh0NoK/BvY+XKlQHthdfc3Cy62sHj8QT9zmCmTJmClpYWuN1utLe3w2Kx4O2338bHH3+M4uJi1NXVITo6GikpKUKQL1gdYykFzGpra9HS0gL4J27R0dEht8eKiYnBuHHj0NjYCK/XC4fDgXfeeQeHDx/G4cOHsWvXLjQ0NGDy5MkwmUxC0ExaB0tLSwMmgHw5qHlpvV+806dPC23M4XDAarXC6XSis7NTFCQHgHnz5qGjo0NY3+PxCOlj981kMuGXv/xl0H4T/iAjf7B/7733Yvr06dJVFPEnPxz+9mq324V2yh+I2+12PPLII0IfB5n6EarfkFLq+/jxiQ8WSMcnvu4bjUbk5OTAZrMFPfBUS035KR3gSoXqc7Uc80IJlRae2vVCBcy02jct+nC2r5Smgx9D+XSYTCbZk3pxcXGig1d+HOb3w+l0wmg0Ij09HRcvXgyah+G2Eb4deDwetLa2CicbrFYr3nnnHdTV1aGhoUEYf/j+Qpp++Mtk/PjxQlCE74OtzFzF6/XC7H9gilL7VEPNvoZaZ6C2t5iYGNTX18PtdsPnD0A1NDSgvb0dUVFRwgkJpf0LlTc8teuFCphFMn/gP6nIp1vK6/WKTtBLXQ8BM8jME0IxmUy4++67RSfoLl26JMwPeGazWXYfCSFkoIjITzJ5BoMB2dnZWLVqleh+UjyTyYRFixYhNzc36FULKSkpyM/Px6JFi2CSuZk/P/nKzMxUPOiD/zLkvLw8LF++HGazWfgJAc9kMiExMRG5ubk9Gqi1lpSUJMoD9n4rer0eZrMZq1atUpUHcpKSkpCbm4vU1FQkJCSItq/T6YRyys/Pj8j9mwwGAzIzM4V7rMG/n8nJycLPwfin6vFplivLnqaZvy+L1+uV/RkK/E/9W7VqlSjfHA6HkN78/PygdVuOUn03mUxITU3Fpk2bggbL4J+ssHnXHQaDAXl5eaInvPEHQHw6NmzYgNGjR0s/2m0LFiwIKMdwmc1m5ObmIjk5Wehv+Ml5QkICVq1ahezs7Ijcs4inxX4BQHp6OpKTk0XbSkhIwEMPPSRaj5eeno7c3FwkJiaK+l6dTifkRV5eXsg+4/jx48LfoR4CEczSpUuRk5Mj6nf54ABfZmlpaZJP9S6DwYANGzbI9ntsHQ+VP2qFW35aGKhjnhpa7VtP+3C+r+Sfziztt9kxWqm9ZWdni/pbHlsXlfr97uLHWz790nkaP88KlX7427Lc+MX2Of31gSla0KpOqpGVlQWz2SzUWZ1OBzPzM9v+KJL5k5SUFNCu4a/P7FzyesfPE6RtFsz8PzExEdnZ2aKHl/BSUlKwaNEiIY8TExORnp4uWocQQgaaIRzHcdI3CSGBXC4XnnnmGcB/IDDQJvpVVVXYvXt3j8/URlpRURFqa2uxfPnybt8zrD8aqPu1evVqeL1eJCQkYO3atdLFhBBCCCGEEDIoRPQKM0IGMvbm4Ha7XdMb0EbCkSNHAJknIvVn/D1/9Hr9gAoqhTJQ96uiokK4r1h3ry4jhBBCCCGEkIGAAmaEhIG/X5vX60Vtba10cb9VWFgIh8OBRJmnxvZXLv8Tb71er+x98gaqgbxf/H1QBlqgjxBCCCGEEELCRQEzQsIQHx8vXGU2UB5F7nK54Ha7YTabB9RPMfmnnaampg6q4MxA3a+amhrhZsA/+MEPpIsJIYQQQgghZFChe5gREiaXy4Vnn31WCHp09yEChAwk69evh8PhoHuXEUIIIYQQQq4LdIUZIWEyGAzCk/T68xOoCNHSE088AaPRiIyMDOkiQgghhBBCCBl06AozQgghhBBCCCGEEEIYdIUZIYQQQgghhBBCCCEMCpgRQgghhBBCCCGEEMKggBkhhBBCCCGEEEIIIQwKmBFCCCGEEEIIIYQQwqCAGSGEEEIIIYQQQgghDAqYEUIIIYQQQgghhBDCoIAZIYQQQgghhBBCCCEMCpgRQgghhBBCCCGEEMKggBkhhBBCCCGEEEIIIQwKmBFCCCGEEEIIIYQQwqCAGSGEEEIIIYQQQgghDAqYEUIIIYQQQgghhBDCoIAZIYQQQgghhBBCCCEMCpgRQgghhBBCCCGEEMKggBkhhBBCCCGEEEIIIQwKmBFCCCGEEEIIIYQQwqCAGSGEEEIIIYQQQgghDAqYEUIIIYQQQgghhBDCoIAZIYQQQgghhBBCCCEMCpgRQgghhBBCCCGEEMKggBkhhBBCCCGEEEIIIQwKmBFCCCGEEEIIIYQQwqCAGSGEEEIIIYQQQgghDAqYEUIIIYQQQgghhBDCoIAZIYQQQgghhBBCCCEMCpgRQgghhBBCCCGEEMKggBkhhBBCCCGEEEIIIQwKmBFCCCGEEEIIIYQQwqCAGSGEEEIIIYQQQgghDAqYEUIIIYQQQgghhBDCoIAZIYQQQgghhBBCCCEMCpgRQgghhBBCCCGEEMKggBkhhBBCCCGEEEIIIQwKmBFCCCGEEEIIIYQQwqCAGSGEEEIGMU76BiGEEEIIISEN4TiOZpKEEEIIGbS6Ln4Np7MNn3/NYfSYURg5IhrooukPIYRoheM4REdH4+abb0ZMTAyio6OlqxBCyIBDATNCCCGEDGpn67ag+OUyrNsTjcXLZiJh4i2I6vTRtWeEEKKRq1ev4pZbbsH8+fMxY8YM3HzzzdJVCCFkwKGAGSGEEEIGsQs4+EIWXn65CtXDUvBoohETxg6H72qXdMXuGzIEQzAEQ4YAAAeO+/ZqC0IIuV5cvXoVo0ePxvz583H33XdTwIwQMihQwIwQQgghgxN3GXBX4V8yfod3PvFhQe4zuO/24Rg9jMOVaz2d/gxB1NBoDNMNB3flIq54vfD6hiAqWoeRI3UYNiwK1zov46qvC9fo55+EkEGuq6sLI0aMgMlkgtFoxPDhw6WrEELIgEMBM0IIIYQMSl2er3B6/zNYVXAW525fhNK3sjFJulKPcPBe6MBF72VcvdaFLm4IrlzqxJBhwzDipptx802jMJwer0QIIYQQMiDRNI4QQgghg1LHNydQ8od3cFU/DUmPL8NE6Qo90gnn8QPYsCIFP/v1C9j0pw9wtO4QXitYibQF9+I7D/4IL+x3ovUb6ecIIYQQQshAQAEzQgghhAw+XU1wffYeXq8dhXH3zMDi703AEOk6PfClpRyWvfvROe/HeGTpE1j2wCxMm3EPUpb/BN+dPx23n38fr73w/1D85t/QQkEz0pskvxXpunJV/AYhPRHwYyTp/4QQMnhRwIwQQgghg85F+8f47N1qnL55PmbMuxtJ46VrdFcXgHbUH3oLf9lzCGdGPYD7FixA0uwpmBw/DfMeXoFfZP0DfnT/KDQdeQ1lb/wVf23wSTdCiHaGAEAnznz2AT6tPwZ7+zXQbfOIVrgr53Dh9Mf4oPYYWk53oEvTUw+EENK/UcCMEEIIIYMIB+Ay6i1WvLuvBfc8mYZ506biRulq3XYNQDPOfNOO2mOn8Oe83+ODo5/hIrPGLXfEYdb870B3A9Bia0HTx83MUkK05oP34nH8Ke/n+N/tf8R7p6Ph0/AhsOT6xl124Mu/FePXP9uA/3nNgtN0jRkh5DpCATNCCCGEDB4cB7jfwZGPm/Dm6TikfG8GpkwZJV2rB4YCuAMT7piEuTOmYspD9+JWwy2IYVe5IRrDhg/DkCHA1StXcLVzMP9Ezgtc/QrHT5+D65sr0oUkAr765A3s+uVq1Nz0d4hf+Pf4+7ujcQPN8IlGom6ejgn3rsR//HQE3A0W/Ou/WnCBX0iRM0LIIEfDKSGEEEIGDQ5X4DhYgeNfXASmLcaCu2MxfoR0rZ6IAjAW05K+hxX//Ev8MmsB7p5wi2iNa+cvwPXll7h6BYi9bSzG3H6raPngcQVfNbyHvVt+jz/+uQEtrZekK5De1vFXHK2qROl7XZiUvATJD9+NMTpgCP1qrocoEvQtDhiiw423mvHID5dh1tizaPvra/jju61wXuT8PwcmhJDBiwJmhBBCCBkkunD1kgP7SmtxxjsaC374A0y/ORrR0tV6ihuG8bMfQcrTK/H0kimYaNCJFn/R2IyjdU2IumEkZs+bgbvNBtHywaMBNRUvY+O//Ba79x7DydNe6QqkV/nQUPEq3rd8ga8SfoEfPDIZM8SxW9JtQ4CuTly+0IYv7Mdx6sw5XBjMF4oGxUTExizF4ofvwMLbavE/m95Ebb2TXZEQQgYlCpgRQgghxH8z+y5cG8jXVlw9iUuNZfhj3TV4b7sbP1wxFUOHDZWu1XNKV1VcqcF7VW/hlcrLuD1xA1Y88QAWTZWuNJD9X+04sacEf/3LAXzcpQN3w1AMG6qUMURb3wAdb+H3L3+MI6cN+Enek5gQq+VPj4mv9X3UvPwTPLzwQazI3YPyj+gnx5MfWYyk789H13vP450PPkGt8NtMQggZnChgRgghhBA4P3oTB7eux38VH0dja6d08YDgaT2Jj8sP4NK4JEz7zoN4cAwQHckYju8Ydv9bPt764DJuW/Kv+Pfc7+ORe29FL4Ts+tAQABeBtv0o+mMV/mS5CERHY8iQIYpxRKKtzvPt+HB3CT45pUfMnQ9i8XeG4+bh0rVIT5w9fRrHa4/g5FdncfEahxtihklXuf4Mn4W4ux7Cg5PcOHaoFu8d/Fq6BiGEDCoUMCOEEEII2htrcaS8GH98swlfOi9LFw8AF+Fo/BRvvPE5Jj7wMO5/cA5GhrgYTDvXcKn9b3j/jTJU/PUcdJMW4ce/+iV+vPgOjB01+KZane0t+HDvHhxzXYZ7KDBkCBehfCa8s1/ZUfHau7g6ehbufvBhTL3h28dREO18deoMGj+9gCiMRsKU23DnndI1rkc34BbDdDyxZCrcjbX4a+V7aPU/O5gQQgajwTeLI4QQQkjYooePwPCRMbiB60QUNwAPfy69j+MNNdh7fAzmLZiGOXMi+PO0rs/w/t4S5Ofswbj032PNi/+Onz5yk3StQcKFxmOf4ncbW/HYovvxd39/D7grPnAD9ne8A1Ejzpw8jANHL2DsLDPufShBugLpkS4ArWht/QINx64hCjMRN34Mxg/WJh2mmJtvxAOLH8CoqM9w/LNDOHwCuDgAhwxCCFGDAmaEEEII+RYHDNTIR9OB92CtOQHd7OW4b4oRkzW/07+cLgCf4H+f3Y4Kiw+pW15F1pNzkXgbAFwCvnoVm7b9GS++Zpd+cID5vzrh/rAMLR8eRldaLubNnobpN3VJ1iC97eqJT3Diw1o0dk7GHVNuxV2TpWuQnokC0Iqv20/jcwzHmCkPYuodcYiTrna9GjEKo+75DhLGRuGGU1/gr4dO4ZKHImaEkMGJAmaEEEJITzHRgmsXTsD+0Xt4c++fsKfsDbx95HN8eX6AhBOGABgy0H5c5wO6juPtg0fxN8cNeGDFDzDptjAfFXitA6ca/op3//InlJb9CfsOfoBG17cPQAjuGrxn63FgawmONF5A1IQZuOc703HLkPO40NGBU02foGZfKY5YW3DSPdDyVGrIt8HBay14592T+PBzAxb/w0JMnTAaI7r656MDfRe/RsvH7+Iv+0pRWvZnHDxcj5PfSNcamL5u+hzN1lO4dqMZpgkG3DFSuoYMtgu6chrN1vfxlz+/jtLd5Xjj7c/Q/NV1fEN7zoeuy234qvUEmlocaGm248RfD+N40+dwYihuGK2Dt/1rnPrqS3z+uQNtFzrh/TZOfJ0aAdw8DdMmjMEY7zl8Wn0M5z0D876XhBASCgXMCCGEkJ4aAqDLiw5nMz6ursTBfa+jbE8pXv3jXrzxl8P44Gg9vnJ9Cfsnx3HiyzZ0XKUrcjRz9TwufVaKats5OHUz8P20abjllhukawXhg/fClzh+9DCq9r+BP5e9hj2lu/GnNw6g+oNjaDjuwFeOJnxyvBXnvukUlVnXN/Wo+8sf8dw/F+PrG27CjRNi0HjwNZS//jrK/vw6yv5Ujpd2vI8rQ3WInzaB+eTAxF05i/MfleDwydH4+uYn8EPzMNwYw+HSlX5Wk7u88JxthvWDd3Hgjb14vexV/LGsDH9+613U1H2B5uYWnPyiBQ1NX8PTeW2AtUMOwCV8eeI0mhs7MSbubsQZbsFo6WpyhgDo8sHjOoFjtW/jwJt/xp7dZfjjq2Uoe70K1UdsONHehs/tdnx52oVzl6+jiFDXVVy7eBpfftGITxuOoeHTBlgqDuGzYyfgu+EGjBrtg9t1Esdt9Tj2WRNOuy/jknI0fZAbBmACJk0wYuzwS2j9WwPOXLo8wNoSIYSoQwEzQgghpMe6cPrjPXjlH5/E0//8LlpuWoRfF+3CKzt/j1/OacWJ13+G+fMXIumh72DVv/0P9nx0Db7r+oBLO5fOn0dNyVtwR83C1Pu/jwW3AjequqCLAzxH8b//+lOseupf8Prpe/H9fyrEH18vwsZnFuDSnjX41yfvw/0PPoZFydl4tboRTsB/e+vPsPe/f4d//elv8aG3HQf+uBUbV6/CP67+OVb//OfIyvwZ/vnfXsAfP/4GnuibMe5WnfTLBxgfOjqaUbjuAEbHjcPf/yoROnCArwucqryOlMvgnIeQ/+Pv4ef/72Uc4b6LNRv/F3te/x2yv3crGgvS8NPvPYB585bgydRn8XbLObilm+jXvr231unTX+HEKR/0d94O440jVT9w4aztdez993/AkqdfxidR9+En/1WMncWFeOHHXrg/yMNj8x7E/Q/ehyd++hK27T0j/fjgFTUMQ2PiMDF+Or7znXsx8+5ZGHblCrznOjH8JgMe+f7juD/5QcyceTdmzUzAeP0IjFCb6YPWaIwdewtu0l2G+3QjnFc74ZGuQgghgwAFzAghhJDuEE6nX0bjwf/GH/L/BzurL2Lm95bh0ccfwt23DIdh9M2Y9vA8mCYYcfV4C851XMTZy1dxw81DVT++cXCetWf36gKudV2Bp1u/7PPA3fY3lJbbMWLS3bh/yYO4WbqKrG9w8VQVfvfMf+LlfWfRaXgUP/r7BzBn5gSMGDIGd8Ql4OEHxwA4i5OtDnzd5sPQqCEYAfgv1TFg+vwfImvDb/HfW3+P3/1uMzYX/AYFBS/ghRdewG9+8xv89re/xabfbcGaFQ9g3u3S7x9Yuto/xMm//gkNhu9hojkR82/1L+hX97trx5cfv468Nb/BG3U3YUzCY1jxw/sxNc6IETDirvh4JCfdBFf7GZxpP422cxyGDxuC4dLNCHy41nkRFy914opPuqyv2mUX0NUK59l2nPJGYfhNo6EbNky6koxr+PrwDux8cRO2vu3AnSlPY+HCBZhrGoFYgwG3Jy7E1FuNiP2qCW3tbpy9fBVDRuqlG5G4jMueDly4dBXiH3P2Tc70yJAoRA2/GbfE3orbx+sx1ngVZ748j7a24bgpZgbue2Aiptx1G8aOvRVG4zjcMvIGDO/pI0n5bOpqQ1PNyyj8z//Ev6/biN//zza8tHUztvx+D/bsa8BZX//NUeMEA8beHgXv5S/Qft6Li9IVCCFkEKCAGSGEENIdQwDgEi6dqcbe/9mKXX9pxJm4Zfjxz76HRTP0/zfA3jQLd06bhSkAonArJk4wIWEiECUKmHHouubDlcsXcM75Bex/O4yqfdX4a00TOvzXlfS26KFRGDpkCKKGDEV0dG/fMX8IgKvobD+Oj97ag4q3P8THn18J/8jwwqf4wvYe3m8dj4n3zMD8+78NaYVy1fkJPnyjGJtfegutw+7Bw+m/xIoH74CePwjm9Jg1fybG33kbgFjE3TMPE8fegm9DCFEADJiWtAQr1vwav1j9c/zTP/0Kv1qzBmv8r1//+tf49a9/jZx/ysaSxEmYcGO4O9afdOJ47d9wqPIkJn1vBWbdcxdGwn/Ar+lu+XDJcwXXulnZL7W8j3d2vYzC0veBqd/Dd596Gkvu1oP/ce7QUeNw3yNm6MfcBOB2TLznXtx5s+7bfRFwuHjuNOwfWlD3YT0+aXLgRMtn+OjQAbz99ruosTbj9IVvd1tlvDtAl+8qOi9e7l6b5rqAby7gwqVL+CY6GqNuuQVDQwbMruCS62Ps2/nfeOWNT9A49H6s+sWP8XjiWAjXPQ6dA9OE6bjXMBTRAKYkxOGu6XJt6SrOnrKj4YgFtR85cPpsB85+1YjjRw7DcsQOh9ODrm7nTF8aAkRF44Zh0YjCVURfc6D5y7Nox60YM242pt4RA8NQIGrYcAwfPhw3REf9X//NdaGry4dO7wWcO/MF7Lb38f57H+BwzUl4OhUuIx7ShQtffYq6N/+MN948go+sdji+bEVr65c4bT+Et0pfxu9f+iMO1J6B65L0w/3DTaNH4cZYDlc5B77+youOfppOQgjpCQqYEUIIId3kPePAJ6/9F/54pBlfTbof31v9c3xnjA7iQ1gPrnRewFUMxXDMxZ23mjB1BBsw48Bxnbh04RycJ4+h9u1XsSEzFU9+72f4l+f34ZT/R4C9zXetC9c4Dl3cNfh8MpfUaKzr7Kf4rPK3+Mk/ZCHzV0UoPdiMa2FesXTiyBHU7bfg2vQMfGdWAsyqfvl4AdZDVSgueB2nMQ4Lli/E9/9+kvgwv+safG4vOj1eQHczJibdh9tGh/kgAZGBGETwB2jO7sd7H53FG02PIuOxcTDzV5dp6hw6XE2oq/kULafO41JY1aALwNd4Z9delBUdwsWhCfh+5iNIfniceDXfVVxye3HV2wkYb8OkxHkYO1x6fZkTn7xTgv/65Urkb3sTf6lthL3+r9j7+1/h6ScW44cZ/47/PdSGs56wEvh/ui7g68/tsB35G050dHbvipyoKFzjgKgbhmLMHXoMH6F8vz7ufDO+PPQSCquO4bNhD2LBkp9j8SSOuRKTA/ANLl+9gG+u3QBgJiaZbkNCwJM3fYCvCQe3/Rv+7SdZ2PhqI05c6MKl0zWo3vJz/MM/5GPLng/xldZx1EjznYfnRAMaz3fg0vDbcfuMu2HgoiB7QRnXBe7KRVz0nEXrqXrUvbcT//Gzv8OKJ1bjV//+LhwXgt0I319nd2zAhl9sxJ9akvH0s1vw6mtb8Zv8Z/F8zuOYc9tJfPxuMbbusKHlRP/8sWNX1xBwXRfBdTnR6ryK8x3SNQghZOAbwnFhzk4JIYSQ/qzLhyvOo3i/xoYP6k+DuyG6R1eEcF3XMCRqKMbe8wTm3TMds+/gw2Hn4bDuRcHyf8YrjR5MfPSXyN2yGd+fDIxkL9C6dBC7f/97/OyZSgy/KxfPPrsCP//hFGaFy7h6+Wt88lELLuAWXLxwBsdeWY2te3UY83AGXnk3Fwn+2yyHjWvF8dqjeOcvf4N7aBR8Q4bInikbesNwfG09gGP1n+Kz6AVY9MBkTL/zRnivyITqOB+6htyMEfoEPPaDB5Fw+83+nyqqdQWf7f0vHHjvHZTXO1FbY8c1TEfSdzPxP+W/QEJ0FEJf39YF4AR25z2DkldqMf7X7yDr7xIwZ7x0PQkOwJe78d8vbsW//HcduFt+iGcLc5D1D3NwE7Oa71IHmot/gn/e/Dre8czAT37zHtYsMWBSLLNSr+EAXEbz+wfx8ZG/odF7A7o46RWJYeC6gCHR6IqeiLnJ83B/0mToQ7UHocG48Mb/y4LtUjxuWfYMfrJQjxjhKjwOsG/Fht++hH/deQoTH9mE3657AqkLJIEqRV0A2vH+q3/AH3+/Gx98EwX9tOVIS/s+fpE2VbqyvKsX4LO/gn/6l0Js+0s7DBN/jN//8Z+xdN7t/3cFFQDv6QZYd/4MGZtqcH5SGrLydyHn4WjcLFTey6jd9u/48MQlnJu1AikzxuPOcaNwQ5QX7rYmHPjv/8Qbb/8NzTc9gJ+v/x3+7uHJmMxWmhC6us7ig23/idL97+LdUzrcErcMv/x/T+IHC6cIV8GF1OUFXHuR+6vfoOhNDx7+9/34tx9Nw6zbZcM5AIAvP96Lkn/ORkH1V4h98Gf42dr/xq8WRUMnNDIOwHGU//YF/GZtKY6PWoF/3fpz/OKpexDDbOfKpa/wweZsFFVdQcdtj+DZvOVIuFMP3TU3vvy0FsXPP4e/eRMx5fGf4T/+aQZGhfW03Yu4cKYR1Xsr0eS6hAvcUAwN5+MSXNdVcNG3I3b8HHz/72bi9pukgdHguHP1aHznv/C9X+zC16N/iBXZG1GwagJuHC7Tc3ZdxbUOBz5pPIWvL3ZimK4Lh/8jB2/WDIN31j+h7M8/wt1j2Vz0u3YJcBTjn371v9j7cQwy/6cUGY/c+n9PO71cg9c278Sf3zmLiT/aiJ8siUfCraF7xUjrPLoZhYVbsPaPZ/APLx7B6ifNuO826VqEEDKwyfT+hBBCyAB37RIuX7qAc+c70OF2o6Ojo9svN/95Tyc6rzI/pPIew4lP38fbjR3w4k5MipsMczxwg+S45uoXLTj9eQsuALjVPBW33m4Ur4ChGBI1AjeNNuDWO+7EBNNk3DlOD33McEQPHYohoYIbSq51wnvpG5xzu+F2B+6b8HK7cf6iFxc6r+Cq9zw835wPur67owPu8x3oOP8NrlwL8ymD3GVcOXccJ9qHwjd6FmYnPYRZxhsRhc9wsvmv+GvDJZxTcy+zLg6XP3sLtk/P4STuw+JHJ2JiqGAZAI67jC/efx+2j6y4hJEwTn8AE8ePFwXLAMDnO4/jnzjgPA3cdOPtmHbXLRg1SrJSr7qGzksX8Y1Qbt2vw+4O97dldq4Dl7xX1P0UcAiAK060fbYPda44jJ7xMJ56lAmWAcCQIUCMDsOjv51KRkUPx4iR0uCAmtrhQeuxv+H9D4/h0+Of4q9/PYZjn38jXSmoKxfPo6GyEp8e/xzc0HG4Y+Z83Bl7kyhYBgAejwsN1pPocANjDeORMDUaNwhR6KsA14Lad9/FgX02NJ4YjjummHCbcQwMY29H/IyHsSLtEdw3NRqtn/4FFQc/wfHPg109JI/jvPjy4/fxQeWnOH78I3zwdgNOnLqgKocEHAecP4uLly7hGwwBx3Eh7iPXiC8aa7H3g6/gwVBMjp8I87xoDGVn/xwHtDfjdKsDdm4obkmYgTijQRQsAzpwofUD7C47iJar4zHlkScxN8GAm4bfgGEjDZg87zE8mTIOUW0f4s0/70PD2Wvwij4fCocu7gounL8A93k33D2o79++3HC7L6DjwmVc5biw8thz/huc+OQ4znuA0XeMw+TpcRguyjDGkCgMuSEGN+nH4vbbTbhz8hTEjRmN0bphiI6OwpBgQcOoIcD5VrjcXnyjM2CG+Vbcwv42eMQ03P/4j/GLX2XhHx414bbY/hcsA4DhI0dh5MgbAQzBkCHfdgmEEDLYBBkBCCGEkAFqSBRu0N+BqbOT8NgTS/H4kiVY8vjjeLybr+9+97t4/PHH8cDd4zFeuMkV8M1ndrR89BFOAMCIGbjjtkkwDUXA1SKnW77EVy1fAdEjMGXmHRgzXhqeGYbo4bcifsY9SLhzDOLHDcNw7tugUI+fQHjtJhgmzMAD3/0uFi9Zgu/K7N/jS5bgu08sw4P3TMVkw424edxMzEt6BE8s+3a/pa8lS5ZiyeKFSHnwLtxxy4iA/VXUeRG+s18iato/YMkvfofC57ORPs+EyUM4nDnfgHcqvoDTGfrnoL4rF/DxG2/C4boZsfel476JUVDzg8kuzoW6DxrR3HAJGDkCE++dgbFjpZeNdeJK50l8Zj+L9kvjMPrm6Zh6B4dRARepcP77F13D1SuXcfGCCy6nA83NTrjOXpauHKZojJk8C7MfWYolSx7HkiVLAspB7WvJku9iyeOL8fgjszHjzliMVBmAPef4BHW7tuPzMWb4jJMx7PwZOJ1f4+uvv4bzjAtff/0V2k6ewdkLVwBwuHLxDL469QU8HWfx9dft+ObyVfhUVeDhGHPHnZgxXg+jIRYzZk/BxAlqSvNbly59jfcP2eH8Ehg+7hZMvncGbhklDdxdxIULX6Lh+De4hHgYx9yJ+NuBG4Tm3AnuWivOXbmGY00n8P7Le9H4dbvoZvax8RMxyZwAIAotf2uG88S3z0xVawhuwOgJUxF/9y0YPXYy7kq8G7eP06u4mpLBceA6r8Ln8+GqEEpXyOPTf8PJplrYrgDAdzDh1jsRbwCiJAGzay3H8dWXJ3Bh6DDcPice48ZJ8t/zBVzHK/GXpou4Nu4OzJh5qzhOd/Uq7pozC7E3tuF0y9uwfO7F2bDiicOguykO05IexcLF38XSHtT3xx9/HEu++wSWLH4AyYl34Gbdt1cYq+U+ew4NR7+E9/JQjDeOQ/ykoRgS7GhpyFBEjboNkxJmYObUuzBp3DDohg5Bl0JUmgNw9eJFXOz8tuSiOS++6XDjwqUudF3xwuv14rJ3FCbMTMKCJx7FtFtvwKjo/9sD7tpVXL3SCa+3E52dV3GN899O0HcFnV4vLl++DG/nFfgU0vCta/B1XsI3Hedx/pwbHd9cgjf0h8S4IcrxWkIIGQw4QgghZLDpuspdvdLJXb7s5bxebV6dV3yc71qX8BWN5c9z/7pwJAeAG23+V+4/dzSLkvCtb7hDG5dzP7g9moseMY3L33+ca/ZKVvm/TXIcx3Ee5+dcedbd3N0jpnP3PlrAfcJx3BXxKup1XeN8V69wXsV86OSucRxn25XHPff4XZz5eyXcXyynOY7rklnX/7rs5bzeK5yvq0uafGVd17iuq5e4y14f5+M4rst7lmt6+Ufc92brOCCWGz/tWW5f7UnppyQ6uG/a9nM/nW7gFj36c+43717hLvuk68i5yF29Us3lp8ziJgCcLvZW7hclJ7hPXNL1nJzz+A7uSZOe0yORW/B3r3GOzmvSlTjOd4W7etnNnT13kmv4cDf30r+ncYumm7iEGbncb1/5pPtlxnEcx3VxvqtXuCvey4F5383X5cud3NWr11SW11fc3/7yH9yy4eD0N8VyN90xkZs8aSI3cSL/msRNnDiRm3THzVzsTVEcEMUhKpYzjB3PmSYkcJMmfpf7zV4r19wp3a6ca5zX7eS+aj7GWa3HuJZT7ZxbXYFyHHeec57Yzf3jJAOnB7hxd8/nnnvby33lka73OXe04llu/sgbuBujv8/9JLeSOy9afpXjuC+4P69bzj09P5Vb+qsD3GdtF0VrcI7d3I7/l8QB0dzYub/h/vBnh3h5SD7O+42TO/15I9dga+QcX7u5b7xq99Ovy8txZ1/n/m3FPdzYUSbuyRc+5Wyngm/jfM1/cS+kT+CAoZxuXCb371s/5DySLqfLd42z/++PuadmgRty4zjuJ0VfcNavmRU4jrvc8jZX+Z/3cTdHg7t3xX9xr33KcV3sRq56uGtH87mfpNzKRd0ylfvHnV9w9jZmeUhdXFeXj7vi5fsWLV6dnLfTxzFdtgodnPUvL3LLRw/jhmEm96NndnHNHMfJtP6AfpvjOO7atRNccXoiN3/0PdyM+f/LfSqtQxzHuV2nuL9VlXIVz/8dNz/+Vm6UcQ73T//zZ27X/re5t//yJvfmm29yb775NvfOu/u4t97dz239k5X7/PQFjuM4ruvaNe5S6yfcp3XvcW8dfI97770PuZazV7iL165wFz+v4aor3+L2lu/j3j70AXfMeY27LE04k+auSw7u2OFXuU3PZHFZP87m/u2FXdzbx9o4oTbJ7J/Uuer13HM/GMNhqI57+ndWrva0dA1CCBn4gp0zIYQQQgauIdGIvmEYdLpvn2qmxWvYDUMxlLmR1JVLV3D5ghdDAIybZMTYO8aIkgBcAfAFGhpPobF1OGJG3o3Jd+hhHP4NOpw2/H/27js+iqJ/4PjnLpfk0iCkJ0ASCCX0UKQISAcVEbGjAiKCj/iIYsEHCyL+7AVFRUUBRRGkCAhICUjvwQQIkECAhPTek0tyuf39Qe68XCqQ0PJ9v173ItzM7e3N7s7Ofndm9vcVJzgXk1NJB5E6vGWvUmOlsca22nKwQQ04aG3QajRoNPZo7R0AVSV5y15aW2xtrbFSqSqufnVUalQaO7S2VlgBKmt7Wt05iI6BgWhJJ+nMSo6cSeRcNZ3MlIwYYrf9waFEP5q0DuKu/tbYVj2FkxkDCkXkFhZRANhY++LfzI7GThbZ8pLJPRvCyew8ij2a4du+LR7Wakou7uTU0d38fVZPgR4w5JGbepETxyNJLW2M2qYxmqRo4mJSScvSXer1YbHo2lNhpbHG2lZbseyv8KU1DhOz/KpKOdK03XAmfvI1n3z4Du+9/jIvvDid6dMvvV56+RWmT3+Rp0Z2oXNTDWCDS8th3Pvws7w+czrTpz9B//beuNRmuyhqbBt74t2qPUFB7Qlo5kpjbW0+CKDHYNCRk1+CDnC0b0qLZjZoLXsDpp8n/fwxThbqsWkVgG+rljhjIPf0eo6EHudArBoFb/o8+hxTZ03n5Se7V5j3Ki8ukaToc4Ae38AAXLwth1bXxApbR098WrahQ5c2+Hk1xtHW6jJ3EhXYOeGotcO+uIS0uGSKCqoe/FhSpKNEVwiocPJpjpurK5eO7H8p6mROhF3kQiTY2bQksHUjvLwUslKiWLVoD3EZCrrSEnJT0yk1gEp9afidJZVajUqtYCgtISe7CL358PUaqVCprLC2NdYtdfGywdbG6jLn/rtIamIUpzL0WNt3opm3L16m8iogIe4sK3/cTWxyLoYKyzXbkBXS/mWjdaSJuwee3k7Y2duhUtvj1MQDNw8PPD298fBwxd05idDg5Xz37nf8tTOO1Exjhaig6IvJjT5C6MYFfPj+Z3w86xW+/n4Rvx1X49isHR08StAdW8qbL07l61WHOGP+ZAkVGEoTOfbru7w743sWrM+l9cB7uO+J0XRqksLpxW/x2uyN/H0srdrfYGRQ9BgM1qjUbni4WeNkWZcKIcQtQAJmQgghxBWwtrbCxtoKBfBs6oKrl7NFjiIMWccJj0ngAk1wb94Df9dGOBJBbMQO1u6OJzbVfNDX9XXpKZkGDEoppdfgKZkAqK1ReQ0iqF1HbrOCUv0p9h6MIvSEZcZ/JZ49xu7ft2NoOZz2PXvT2bpW13aAGpXKFhtrFRrssLVqRVN3TYWhliWpScSF/kN8oR7H1s1o2bkVdioDcfs2Erp3ByfSobj0Ugvq0hRS1rg2b0dA6060dW+Cs6MtGutLzavardeNR1Gc8PDvyejnn+PpZ5/jv/+Zyn//+1/T67mp/+G//32elx7rR6/WDoAtrq3v4ZEJrzD5mSk8999HuD3QExerWkSDrqqQNJe2qQ1Y4Y6D1o9mHmBjMc5RF32ei+EnSFMUPDsF4BfoC/pszgf/zj9Hw4jMVKMoWrw69aXn4P4M6OKOU7kobDYH94UQciwLe49uDB7UgbatLKNyV+hyfr9KBVonnOwccCjVkxGbjK6w6oCZrY011tYaQEWT5p40cbWso3RQdJZjkYlE61xo4tKNts1scOcCF6OOsHzNSRLTCig1GMjJLLj0/AiVqtIYn6IoqFRq0BvITsuiuLg2kxHeYFKjSY09TzQqXDt3pLlvMxyNm8hwknMn9vBHcDRpOcVXfAGldXTGp0Ub2rT2xLmRPVbWjWnWog2t2wQS2DaQtm3bENjOEyU1hsid+zgfnUtB0aUSV6lUaJw8cHMoxTrjKFu3rWL58g3sORxNrrYZLdq2oG07D5oYoli//HuWbzjA0VizLzckER+6gSXz5rN2+zkyHDrT/867GT5kMHf39cU5O4Tfv1nI2s1hxJQN9ayOrkBHUb4tGrUfPk1tK958EEKIW8CV1vdCCCFEg+bUxB5nDydUQJPGTWhkcbGg5GWTeOAQEcnJ5Nt74tujK34O9ihRkSSeDsPK3webBn+FYQUEEBTUkSHDHFGr4MiWgxzdE0Ylz+cETnMqYi/Lt6bTY/Q99Onb0TJDNaxRqZxxb6KlCY2x1nji4qapMDl8XGw8hw9GUayDFgG+tO7ojEImYQdjSbqQQws/zaUHO1g1wcW3EwMHDqRT06Y0dVZx9ZPO3Rgq60FUgaKQlVdIUbEBUCgtKSAvN8siU20WdDW0aDTOeLlqccIVrY0brm4qi3n1DERGRHMsNAaANh0C8G1lTUlBCod3xVKUW4SfbzW/uTSL4gtrWbFhP/sutqHnyA8YP9yPDpYdSq8JNah8cGvSBHcbheLsAnTFVQe3nRo749ToUpDMrakLTi4WT67QZ5AbdZTjCakk0xRv/9sIcLPHKvsYadEnSHZtitbOHk1+EVmp+Rhq2DdUahXoikm+EEdR/tXO43ftGRJjyUiIIVtlRbPugTT3//eRj+m7txJ7/AhK9x44XUVXKhVgY9cIJztbrNVgpVbRqHEjGjfWYutgT6NGTWjk0pfbOnahX2sXtDaXbspc+rAaG5fmtO5xG/1ub4O9dSlq33vp2n8S0+9shosacPbELeg22jmoKUnJJC46z/TdWaG72f/dZ3x3RE2bB+5l2oy+NC5Lc2zXm6HPTaSj6i8i9u9l04EanicBJF5IJTmmBFvrlri5abmmz0URQohrRAJmQgghxBXw6dSKNr07YQukpuaSU2Cemkxc2O+88OLP7D6Vj11TD1p2b0sTFzh//CKnD1ykc1cf3DzqqJfKTS6gXx/63j8KXwXyz60m5OhW9udS4Ul7xRHbiDh6nkiHexg0uBldAywyVMsataolfXo0o6V3IWl5Z8jMsy4XmCs48QOrlnzJ7E3pFOJECz8f2rYAlf4Y+6O9uZjXlg7eVDIEVMVlDk69OZlfQKtUWJcqKEXFoFKhtrHB0TKQUNMV91XT4qBtycC+XrjYppKcE0N2gXmYTiF11xy+/flXvg7RA760beVOSw89Jfmn+ft8O4poTqBlxysTHRnRwbw54XXCdbcz8pWP+HxWP1p7mz/S8FqyAnzx8W5KC28VWdEXSc3Lr7InkKpjJ5p36EgAJWSeTyc3y/yIKuRi6Gb+N+l9tp1Mo8TFC5/2bfFtbEVWaDjxpyJo1SsIB2cVagxotZee2FvdJlUMCthY49bUE1u7m69uKyjIIyc3F1DTspUvPs3LHqNauIMfFsex+YA7T40LwMvD9HjVK2MedSx7uuS/b6nKesOqqh5OqlajUoHBAAEd29A2qJVZogqV6tLQa0VRzLZXLhER4axff54CbMnJvEhE+BF27tzBrp17OXDoACGRkaSlF3Hq+HnCjsZVv7FJJyEulfQcW5x9W+NlKwEzIcStSQJmQghxnRn0xehykkhNTiQ+Po7Yi9FEX7jABbNXTGw88QlJJCclkZQUT+zFGC6cL58nOvoicQmJJCQmkpqeSV4RGKpr74qr49mDjv3v5/EBzcg8vJG/VvxJaEw0Z0/uZOvylSzfdBHn3iPp62uHb0kKZ8MOc2TPMrYeSydcdxt92jXC23h7v6FzDiKg6wj6BjiiJZFTp0PZvi+bonKdVPI4snEnp8JzaTZ8LF0CmuBinlwLKpUTHUc9wPBRnWlnc4o/Fq9l+4FILp47wYH1v/DLn+dJtm7N0Du74UgxKeciObh9L38v/o1015a49+iLL1TyZEMFpcqwxa1CAZWOmH+2sfmX+Xz11Re8v3gH248XgpLNxbDl/LzoA777/ie+/WYr4XGZFFXXHamO2Dbyocejj3HnQE+aZB5myfzNHDoRxYVTh9mx8gd+Dc7Gxj+IO25rgz0ZxESeZPfG9excuYHiDv3wbtcB70r7wmVz9uAKfvl+LVHafgx6eAKTJ95JV397bMoyVxtPqDcqfAOa0aaDE5lJocSkZZBmmcWkI+173cn4kR0pObmOvzeu4UhULOfC97N9zS+s3hSBvsUw+rdvjJ82mwsnQzjxzxZ+35bI0dhmDB/gg6sTqK01NHZ3RKW6FDOtWFaXhguCAlZq7Bs5YqWpeJTc6Ox8W+PVIgB3RUdceCQnQyKI+mctS77ZQIx1AO2H300/b1scr/bqyXzHUYxDu83ewICiKFWfvw0GDIZLNY6zixONyj3UVEFRDJe2k0qF2vSIzzRS05M5m1KCvW1LvJo0wdmqtGxrGigttceucQfumfIkjz46kD5trMu2aWWKgXhi4lJIL3bAp2MQnlo7KtxHEEKIW8DVVvlCCCGuUm7KBU5sX8fGP9ezYdN2du45xOGQEEJCQggJOUpISAgHdwezbfN61v25nvXrg9m19wBH/rmUFhISwtGjRzh0cC/bN23gzz9WErxzP5EpCrqqR+uIq9aUFl0eYMar9xNQGknkvk1sCz/FscPrWPlHGCEJbXn1x29564UnGOhtQ/rxvYRsX8mZElc03ccR5Knhygf21BPlekUBGuHiEcQ9Q/zwbQwJURfYu/YAmbnGiFkhSukRtmyN4nyaC3ePG0JTpyvoz6ACh45juefxxxnXx5WTwVs5tHc/x//Zy84/FvF3Qkc6jH6DJd+9yL1BPpSmxbB/8yF2rjtNq/7t6XNPB4vhfg1NIdEhW/nzuw+ZO/dTFu1OIl7thbe3F01KDhK8/nvefu8rvvxiE8cvZlBk+fF6oLZ1xK3vFJ54YhRD/WHfmj8JCw3l6N6N7Fi/hn2Fd/PA1LdZ8OlE+jV3JP18JDvWHuTInlh6Pdqbzrc1t1wklOaRF7ebtT+tYdOOHO5440deeGE4fVoqKCW5ZGQVkF+or3Z4Yn3yaeNPmx7NoeAfzsckE/vvqDsLjWjRaTiT33qCLi5niTm1i/UHTnLiyFZ+/2U7xxM9eOKzn3j7hXGMauNIUVwIISEr2ZviQZ7b3Qxrb0VjwNrREXdfbzQaUEoNlVYRhtJSDKUKWGmwd9Ripbn5widWPn3oOmAUo4JaUBgdSeShjRzev4Of1uTQ+b4hTJram+vVt7Aqer2e0lqd51WorVRoVTbYufgR0LIDt3XpTKdOnejUqQPt2vaix22P8tKnX/PeuxN4YoRnNft3EUpBFGfi08mycaVDny64OVoObhdCiFuDSlEqO+0JIYS4NtI4umEhXz7zHhvSbGncfhADBw9kUE83HKzVgIbS4gKS9//EX3tC2XnWCnv7rjz89HD69Q3AtqDo0pMQrYpIjzvNhh9/5EBEEk163MvT7/zBuD5WeDpYfqeoM4oBfVEO2WlZ5BbpKdHYYG1lhbXaBns7e5ya2GMoSCcrLZv0LD3WtiqsnZrg0NgFV4dLQ5ws5SefI/idMcz6yYBt//Es2jKDQKj3QE3Eynf5Y8nvrLJ+k49nDmXobdd4kqb8i6Tu+YQHZ/zK7hMqvJs/wvzt7zC8tQf2eXHE//0WT7x4kZK2d/L1xldpr4YrHRhVWlxAQU426Vm5GFRqNDa2WFnZYq11xMnBBq2miMyEBDILFXSKNbZWapp4eODkaIdNpbcaSzi95XsWvvA2v+eM5ck3J/LW1O5XvH43LgNFeTkUFBSgK73Ug1XFpacmKpdmhAfFCrXKlkYujmhtNdfozqyCvjCP3OxsMnPyUVlbY6WxQWOtxUbrRCNHK9T6PDKSksgq1qBXrLCzscbF0xMHO2s05Q7EbHRJe3j5yfloOgxjxJSnGdjKCXsroOQM2Sf/4L+/tmBAv548fV8L8w9eO4ZTHFm3iMkPfoHnk98x/r9P83hXy0xGBgzF+WSmpJCjM1CstsEWBbWNFjsnRxo5OaLW5ZCTmUlmTiEqG2us7Brj6NgIl0aXnqBLXhgR2+czfOwPuN/1HlNnvs5T3f8dRqgU55G5dxbPvbmUPy/489ZvwTzRqxHNbrToUo0M6IvzyMnIICOrFAUVNnYarLSONHZuhEO1+7OCwRDDrxPHsmhjEekdn2PZyrF0dK+kEEryMBz/lCdfXs1fF1vw1eaVjGhle2kOMhQgn51fzODX+Zv5p+OHfPrmUAZ3M+tPm7yNfavmMuSFv+j9n8W8+MKT3Ne6LE05w+mdv/DIqPdR9XuTcdNn8MoIB6CE0FUf8ePMj1gcNYDnf5jBy0/fgZvBcGn4ZtnH1SoDumIDpYoKB20VZ52CBLIPfsq9k1eR4DaEd5cuZqQ/ON18nQqFEKJGVdf7Qggh6l9JOGdPRLAjwZOhk19g2qtTeGLMAPrcdhvdu/WgZ69edOsahLtSSH5CGrr8HAyuQXTq2IuBPXvQvUcPunfvTrfut9N/4DAmTR1JW09XDKkl2DursJIGbD1SQKVGo3XGtZk//gEB+Ht54u3dlKY+7jRp4oAGFTb2bnj4BtCuUwB+Ldvg5+OOWxXBMgAHByccbK2wUmnQWF2aF6aKy5Y6pS8ppERfiJVDE1Sa6zD/kIMr7r1G0sPPn8ZkkpG2i11H0kkAivKiWLdoG6XNu9L1rpFXFSxDASsbe5zcvPFv1Rp/v+Z4evnQ1McDDxd77Gw1qKwccGnemoA2rQls1ZwWrfxwbVRVsKwhUWPr6EwTDx+8vX1o6uODj4833t7e+Pg0xcfbBx8fT7y8nbG31aC+ZvdkVWjsnGji1YyWbVrRvKkPXj7N8PFyw83ZFhuNBo3WGQ//QNq09qdta3/8WjSjsf2lYNm/a5lD9OFNfDXrF3J82tM8qB1etoWkx10gLiGBsN17+HP5BpJy9Rhsr+OdCHVrfFrezt1d7Uk/Eck/+6Msc5RRADVqGydcmwXQolUrWjb1wruZL77NvHBv7IitGqztG+Ha1I9W7drg2zwAfx833IzBMgBHP1wDBzHAUwsXL3L6RGL5abg0Vpw/EUF6mhvuXoPo284e10riRDc6RVGjsWmEi5c/rQL9adnSF5+mvjTzdMHJVoO62mHXKtRqJ+ytrbBRabDS2OPgaFkIZZ+3dkDtYIu1RoNKbY29oy12psJWAbbY2FqhVquwsrHHwd7ObBmAVnupngKsbe2wM/8alRYHO1usVKBWa7C2NtaU1rTu0oXhj3bHmn0cPniSI4mgVqtRqdWoy15JWz/lz3V/se5YcaU9CQEK8rL5Z9t+8mza0TpoEAMCwEHaGkKIW1SDb/oJIcT1VHTsMIlJ+dj0mcizr73G9MeGMqRfB1q3bIG/vz/Nm3rTqrULpQVQnAc4utF50F306NGTpu4+tGjRghYt/PHz9adtp/6MemYcA3sMobVjc1r6qbC9DnGPhsMy5KXC2ta2kgnhy6g0WFca+SpFMeSSdO4sF85EcuDQXg5HppJakERK0in2hoQTcjKcmItJZBTU37x0Tk3b0vb2IQzt64+ny/UYXuMATXoxuGtbbveAopLz7PnrFKePhBF94Qgrggtofls3ho1sf+XBMiw3mwq1xhZb6yo3GlZWGpmb50pVPaarHlmhsdFiU9VGU2mwUqvKNYBVKKBkkXBsHcvmL2DeD+tJMBRxIeoI63+Yy/xvF/Dd9/P5+vtlLFwVipOnBz6+HmZLuNascW3aiXse7os29TiRe3dyTk8lT5a1LP+yOqrKyK8aU3ylnCY4Ne3Fw2MG0NQQw4ng1YTGZJCvN2DQZxN7ei/rt8VS6tyDoaPuo5OnFRYhnptC+d3VCiubsifimliWpwH02aTERhN1KpRjIbsIiUkhJiuBtKQj7N93iLDI85w7n0hWkYIBFaUlhaRdOELoodNcTEgiNzue0P1HCI/Jo6CwBENRCslxBwk7fY7I1AySz4dw9Eg4KZkF6IDiwiySIyMJi0hAVwpxZ45z7Gg8F5Jy0RfmkBsbSUjYGdIKDCRGR3D66GHOxKRTaADH1t3o/cBDjOrvQuGZfaz/cQNHTsSQmJpEQnw0x3YHs2PXYSIuppNXWtUBVERG8mnWbj2Pc+vbuWPIILxVckEphLh1Wc2ePXu25ZtCCCGujaOrvuNspi1NH/gfD3R2wMHWskGeS0H+IZZ8vIpdMRmoXbwY9vh0+nV2xr3CFE7FQDoH/oiluMSNIc8NxLPSCcrFjaUIfckZNn29hPWrf2Xdjg2s2X6epNJcCgrjOR4Sw6kjO0nT2WHj1YlmzmBVD1cnzv5BdBwwiqE93PBwrupiqb7Z4WkVQUL6OXYczyUjwQEv9VGy007w064WPPjsaO67o+kNN48QGEg7d5TQzTs5WdSJoDu6MuA2Hwm03TR0GPRhzH/pA5Ys3cN59Fw4dpgju3awc89e9u7by55dewg9dYGEQht6jplGv+5eNL+OkxBq7G3wbudC6IYVxCdlY93tUdq6g109Vfgaawfa9vcj+eR+wvbu5Yx9e3w8HSBpJ3vWfM289bZ0e/QJpr8xnOaaBvHMWFCKUfKOE7zyT1Ys/pUtm/9g1eFo4goz0eUcJ+J8MiH7zpCUVkSTwA54OqnRJYRyYN2XfPn9Xxw4nUZecS7RUfHobXzxdNfSpCiE5V9+x9I/97M3IZOchDPExespcfSiVVcvik9tZMOqlSxad5iEjBJSY+NJTM5G5+RDR9szhPy9ji8Xb+RUUh45KcmkJqWSbeWGfysvPB3dcHTrwKA+zcgJ28KO1WvZHqNFZZVE5O7fWbP4d6JaPMvwe+/k0R5Olce7iw5zas9q3p2fQL9JU3jgse74VBpkFUKIW4PMYSaEENdFCXCBj+//gCRbX0b++A59HaBCvx4ljoxTvzP2/o/ZeiYFT787eXPpMu7v4YxPhd5jBVC0jzcmHyI+25v/WzcJb5CL9hteKYqhgOQLSeTk51FQWkxeThGlSilqjQ1WNk7Y2yo0auKJs5sXznagruxC5lZR+jerv/yOV15eSRxuNG6Si6dvC5y6fcj7Lw1kcMcb8dGiDWUOs1tVKSi5XDgRRXJaNoVWGigtRVHKP/tUURSsbe3wbhWEt5sDTpX2GL2W8jjy3RR+WhPDLs1/+OWnB+jqbl/1oyyvWgFJF84RH59CoZU9hbmFaNSlaB21FJY0onlLP/yaOjeg/d4A+lxSEtPJzMihuLSQrAI9JSV6NFYqbByaYGulxalRI9yaetHIVoVBl01WykXik7LILdRjUFujsXXCzcsXT1d7HK1ySbiYQHJ6Lnk6PSqs0Dq64+HjhXfTRqhyU0hLTiYxLZvCEoVSxRo7J1dcvbxo7lRCXlYaMYlp5OlKKS21wtauES6e3jT1dsbJtiyaqs8k/lwMCUnZ6DSOODXSolGKKdWXYu0agI9nY5y1ld+VObnqTdYsWcvWJq8w4/mR3NPD3TKLEELcUiRgJoQQ10UKBRd+49mpKTgG9OaDr+/FqbJrnKwTnP37E+5/cRXhsY60DXqMr9e/T59m9lSYQceQjZKyghdmZZGm78DCRXfflMNiREOXy/G/FvD1c//jt4t68g3g4N6fV35dxdP9PG7YicQv7PyBH6bOZGn2eCa98zSznm5vmUXcUhQUrn9PKiVxK2t+Wsk3S2LoN/N9HrqnBx3N5oevL4bcRM5Fp1GiaYynvy+uppNNvUXrbgHXuWwUxXLcKVBEUQFY2dmWf/iFaVX/XWd90lrmv7uc4BA1wz6ex8M93fCSRoYQ4hZX+e0DIYQQV8ygL6QgN4uMtDTS0jLIziui2Di5TGk+hSWQnZRNXuR5mvTqgm+/HjSqohmdn5FOdNgJcvILgea4N29PSxdNxWAZl9q1Soke9wAPmrdvKsEycZNywt8/iJGjA3F2AGhJ6zZDGdG3CW43VLCslNKSQnIzs9CVJJCQnEpaYTG6onQy0xNIKCokIzOHwiI9pXJr8hZ0/YNlACrv4Qy4ZzTPDsrmwPodbNkage7f6eXrjdrJm9adOtG+nXmwjCrOZOKS61w2FYJlALbY2lsEyzBf1Ut/6LJiOfTHbxxPd0Pb71keHiDBMiFEwyA9zIQQok6VkHZiI5v+2s32w9GklTrRfvA4Rt8zlL4tQX/uR5YccCJJCeLVBzwoxg4D1jjZVz5wMvbQClbM+i8f/p1Kpud9PPD4ayx85zYctZXlN0BpATkFahSsaXz9xwsJcWVKo4k9uoSxw9/mrMOD3PPCB8yb3hIH6xvoPl9pHLEnDvHbwh0kpEcSevoke8ISAXBv2Y2g2/rj6+jB0LEPcHu/tvhWGEItRF0pISfpFGvff56DxX1xHfwKb45xwdbaMgoixOUrTT9ExN4lTP/KjZ6jRzDl2dtpqpHpHoQQDYMEzIQQoo5kndvF7pWrWB2ix7NTO9p1bomdvgglMZwcRUOKyoGUXQtJdXuU9sOn8eYDTjV0883h+JbFfDb+FVam6HG5/T9MmPohbz/cCJtb/EKo0pEjogHRUZwfzeZft5Lj1JGWPQdwe4DVde+gUY4hh5zUeMJDY8gpSCcjr4DknGI0ShFaR1ccGnnRyNaBFh3b0ay5K43l6lLUB7OhcwmHVxOV506p5230b2eH5pae7FBcK4aCONLjTrIj3Js2nVsS1KrCE4eEEOKWJQEzIYS4aiXkxoawacH3/PbzVqJaTGDya08z5e4A7IDcg//H4mUb+XRtCrEXz3PHIx/wnzf+xyMda5q8PZxtv/zA9PHzCAd6PTybqTPf5tFOYHPdLr4NZMacJi4+kYQ8BVVVozwuk2LQo9E64+zVhja+zjjaXbcfKK676zzPjxBCiDKV1MdyR0sI0YBIwEwIIa5KKQZDFMumPs03iyM44zqKb7Z9wvD2rjQx5TnOhgVf88YzP3CcFjz++ntMf2Ms3exqaHOmrGTJ998zYdZ2oBkPPD+LV96bzG2OYFXd5+pVIbvm/pcfFv7K0pPFlolXxcGzI7eP/Zy5L/Shg7/cwRZCCCGEEEJcPxIwE0KIq1CaHc357e/z7P8WcTS3D3c88T5fz7qd5k7mPaQi2fTjXN6a/D3hVncz/ctXeOW5QbhUvG9bTuHRz/ju+2956YfzwGBefH86M2eOxL2Gz1VOQVFAQVVDr7aaSA8zIYQQQgghxK1PAmZCCHHFSkkKX8dv/3ue2RsTcL5jKi+//wX/6WmNbbn59nez7JMveWXGBopbT+OdDyYy9YH25hkqoRC57CW+/34Bc3eV4Oj/HG/PfpJXJnSxzFiBYjBQWlJIQV46CVGnOHkqgvhcKwIHTaBLQCM8b6gnDVbuSkZ8pKamkpqaSn5+PgCqy12AEEIIIa6IwWDA1tYWLy8vmjRpgo2NjWUWIYS46UjATAghrtgJ9q9ZxAv3f0EInox46jVmzZtOD3uwMY/VXPiRTz/9mlfnn6H9/fN5b/o93NfPzSxDZdLZOOs5vvvudzZkaGlz19fMmnYfjw9ztcxYQVFeFjmZySQlnOfEX9/z3c/r2BPrxNMLTvDcvX4EuVt+4tZw6NAhjhw5QmxsLCqVSgJmQgghxDVSUlKCi4sLd9xxB506daJx48aWWYQQ4qZT/QPahBBCVKn4TBhnj+wnDICO+Pu0oLUDaCziNLHHThN7+gzYWNO+ayfcfWoKlhUDsURdSOVsKqitFAK7tMazec3BMiglLeEsZyLOE53ehKBunenaxQ9sbLHWXO1wzBub3P8RQgghri85FwshbiXSw0wIIa5QzF/vsfi7z3hnfRYOAS/y2qtP8tYznS1y5bLjvaf4Yv4q/soOZMbPfzF+eAvaOllkM6dkoaSu4Znxn/LDllPYatvz8uKVPHFPe9rVOBe+gbyMFLLzSihStHin/cqHc79jzh9ZTP32CM+M9KVzTfG6m1RKSgppaWkyJFMIIYS4xgwGAzY2Nnh5eeHi4iJDMoUQtwQJmAkhxBU69vP/WPj1R3wVoibg7i+ZMfVRpow0j0bpgSi+f3Iy3/18lGivO/li43xGdvOi2phVYSJZRz7kkVd/Y+vhApxd7uHLvz7hnl6+uFjmrUnkV8x+dx7v/JFTZwGznIvHuXAhhjOpxahUV/IAgooMpSXYOrnj3rIHHf2ccNJKB2ghhBBCCCHE9SMBMyGEuEInlrzOwnkf8eU/0PfZJbw46UEe7GZrliOH0qJdvHL3y/z2dyGNb3uGX9Y8T8+mjasNMpVknufMyv/y7OfB7In0xL/jRBatfp4BbTwubxy9YoCIr3n7/75izpq6CpgZOLp4Br/8toJfwoqwUoO6DnpylehycfbvTc9HP2T2+E609dFaZhFCCCGEEEKIa0YCZkIIcYXOrZ7Fj199xIe79TzwzhaeGzeUQf5mGUqSyAv9nDGTvmfb2VYMeOQtlnw2Al83O7NMFeXE/8Pmt8czZ9VJTqq6M/DBOXz/zgDa+DhYZq1evQTMFHISzpKYlExirgEVqst+mmVlFIMejbYxjbxaE+DtiL3tZYUGhRBCCCGEEKJOScBMCCGuUP7xBfz87af897uz3PNGMC88PZQhpoBZERknN/HrJ+/w/oowcprexWPPfc3HT/nh0siq/ILKUcg4t573H3ian4+lUtrubh579Vc+eKIJTtaWOWsYDlkvAbNrQ1Gok0CcEEIIIYQQQlwJuYUvhBBXyKF9Fzr0u4P2je1IOnOayMgk9IYSdPl5FCTsY8/f6/ni5zCSC8GvuTftu7REY2MeLFMoysskMyWRhMREEpPSyEw9xImwA+yLzCYNsNXosVXlEROTTEZqIknJKaTnFFGsV6oPlt3kJFgmhBBCCCGEuJ6kh5kQQlyF7Lj97F72Nq99GI9DjxGMmz4Cn+N/si08jSORCWgvHuZwkg3d73uRN77+P4Z6g53pVkUBu75+heWr/2LjBTUaKzX6/CxyM9LJKvn3O1TWPjT1skVDIXZureg05j1efawHPQLs/81UmZu4h5kQQgghhBBCXE8SMBNCiKuhzycn7hBbt0SRo3XFp4M/jTPiyDRkcPzIfrbNXcL+zHaM+M/zfPTtJFoCGtOHS4gJ2cbJ01FEZalQq6C0WI/BoKCxt8VKrUbRl6Iv1qO2VoNBj7W9Cx6Bg+jT0RvvJhZjNC1JwEwIUSuVD/DWl4KmuhHkQgghhBC3MAmYCSHEFbO8yCwmL6cIxc4JJ+tznN7+I2Pv+oRzdg8w8bX/8Onrg7Axy321apznSwJmQojaKs0lL+0ip86mo8fq0pDxggKKAI22EU1cvfDz88PFUSXzeQghhBCiQZA2jxBCXDHLaJUNjo2cLk3OH3eKqENHOV5SirZta5r7+dZpsAyZ50sIUYd0iUc4tPodpj4xlkn/nc3sj79hwWf/Y/z9dzN8xANMfPEzVu+LITHb8pNCCCGEELcmCZgJIUQ9yImLJ+5sJArQtK0vnn7ellnqn0oNjnZobaxApULr4ISjY/ks0sdYiAbOAPnH5/HNl7/z0YbWTJ/3Ez8s/IyP/+8tXv/gG9b98Skv39+a7B0/8eF/H+X/Fqxnd6zlQoQQQgghbj1Ws2fPnm35phBCiMtkMTozctdK1q/cwtEUB4Y88Rx339mGZnaV561rOQknORdxlMOhpzi6ZTV/bj1EVEIexRo3lJw0dHkpXMy1pYmTFq2N3DcRouEyUFJyjo2fL+SfBFd8hj/Js4/3ppWPJ16e7nh6N6d5QCd8telkndlLcPh5Ii6UYmvvQ1B3Xxyt6rUqE0IIIYS4ruRKSQgh6oLKQHFhPtkpsaSn7GP34dMcOVWKisY0ss6jKFtHRnoeJQYDSj1fYWYnHCd832rW/bmGRX+eJCbbEU/vpsQfXM22NT/xx6YdbA9LICvf7FGcQogGKAVd+l6WrsigyNqXh8d1wKrUMo8DgT37MfGZwXg20pAX9SfBvy3hQIKeHINlXiGEEEKIW4dM+i+EEHUinaNrF/PznG/YnlNKSlYuxQU6ShQN9o3t0NoH0br9/Xz442N092pk9qTMuldaXEBRkY4iPeiLiyk1GDCgAqyw1qjR2NigttbioLVGo67n6J0Q4saVfYqEnfO4878rOBHXiN6jxvLmp2/Sr7UDjc2rBuUC5/f9ztP3f8CO1Bzc297BuHeW88IIb3ydzfIJIYQQQtxCJGAmhBB1opDEyDCO7z7KhWI1BmtbtLbWaFQGigrzKC5xxsmtHUPu6Yi3o+0N0723nkeHCiFuYIakI4T/8QZ3zgomMR20Lh14/ptgnh7hTZsm5jnTSIz6i5cGTmdDfAaqFrcxevoy3n7En1YeVuYZhRBCCCFuGRIwE0KIOqAol/HUSolSCSFuAKWZEZzZ9S0vvreePWEJ+LTvy/i3fuXxwd4EuJjnTCfp/CZeHvAi6+PSoUVP7n1xKbMfbXEdA2YKRbmppCQmk5VfRInBFkcXD5q18MTeMqsQQgghxBWQSf+FEKIO1DpYhgTLhBA3BrWdK00COuNRnId389vpMGg8/3m8PX6NLINg6aSdPcrKX//mTH4R9h5+9Bg2lv7tGuNsdz0qNAVK4gnfu4U/fl7Myj/WsHFrCBfSFTzad8FFU4iqtIT8UmvKHhIshBBCCHHZpIeZEEIIIUSDZSA3OY6sAhWKtglNvR2xDJeReZjwTfMZ+dzvXMzS0aLzI7z520+MbqvFtT4nZKxUJvmRq5g54zfOFLem090PcV8vF9wcMjh9LIw1v+8hOyOZ7BJfPNqO4K0vxtKuiUPF3ySEEEIIUYMbZRodIYQQQghxzalx8vSleYvm+FYWLAMyz10gdPNBkrJ14NCboP730K+llsbXOlimTyDq4HI+/+IH/jxShNo9iGHDB9K3Z3fadhhGr47N8S48wp69h9l56BBHIzIw6JVKf9MlpRhKdBQVlaCXJ34KIYQQwoIEzIQQQgghRBVSOX70H/7cEAnY0PP+h7jnsQdoY8dlPu1XAQyUlJRiuMKxDdkn17B24VfM+i4U10H/YdJzExje1tqU7u7VgbGjA/H0Alxb0uH27njZ2pRbBiiU6PLJTEkk/uJFYhMSSYiP5dzpCKKiL5KYkUN+scVHhBBCCNEgScBMCCGEEEJUqujYL2zftYJVmda493yXyY+M4Ynb7Syz1UIhxbpEwkOjSc0u4vI6dBUDoaxcuJ6lP17ARj2Ax8Z3p3cvh3K59KUGCnUKJcXg0syDtr06o7W2DOvlcHzLD7w9diTTPvydFTuOcXTven5462GG9+zNyCfm8MvhInR6i48JIYQQosGRgJkQQgghhLCgh5xDLPhiCWt3leLd83ne/N8D3HNHCyz7bFVPATL4Z/0SPp48lbfefoWZ7y1nzc44y4xVUgrzSNn+OzsOhHACF/z63E2fAG+aWuQryM3k/Klk8nNUeDdtSqcu7lhbmzd1dZxc9T3/hF7Abvh/eXDkIIbe1okuPftx97gp3N2lEYbjv7Pgw9dZeSiZJJ3ZR4UQQgjR4EjATAghhBBClFOcdpz9q35k2Y4CSj3vYcp/nmXifQF4OZXFwGrNAGRwYsdmfvv1TzZuXsviZbvYezTFMmOVCrITOLRiM8fPpFPq2Yz2AwfSzNHRIlcJOdnxnDiaRL7em6aevgS2BI2pg1kpBkMsu1YsZ8eOCxQ1u5O77upF1w4BtA7szuAx/+XVZ0Zxu08qoRu/YfmmU5y+eFk/VAghhBC3GAmYCSGEEEIIM7H8s3Mtc2b8SkngMzwz+01mT2yFrTFZVT53zaxwcm6Mp+rSR72aeeLq5mSZqQp55ORGsH5rHLE54OnRhA5dA7G2t+znlkBWThRhkXnoaY+3R0ua22I24X8+huIIojPz2LE7hLXvfktofCbm05X5delAu14dAYUTe04Qfy7BLFUIIYQQDY0EzIQQQgghRJlYVs55jS8+3YTmgW94/Y1HGDfcxzLTZXQyUwM+3DHuZT75ax2rV//J0nmTeOLu5pYZq5BCTtIZIrMKyEaNq7M/HdvbY29vka04mpToCA7rSrH270hL/xZ4lWvoalHbtKB96wB6dOxIQJ8ueNjZlh9eamODtY01oFCsK0ZfUmqeKoQQQogGRgJmQgghhBANWVn0y1CSwLFl37A9JI3iFsN4fNJY7uzfjCbaf7PqYvdz9uhfbD6eQ0Z+bcJmKhTFFrcWnelx572MuX8Ug3u2wt/dbKHVKS2kpCCbjNJSwIvG9k3x9wVbi7n8S86dJ/bkSTJQ8OjUiuatWwAGUkN3ceFCDMmlNqjVftw+5kmefvVpnh7Xi6aOpj5zAOiSU0hPSABK8GrZnMZuLuXShRBCCNGwSMBMCCGEEKIhUwFkEn96P398twl1hwd54I13GNvTDsvnYaYfX8ehDT+y+kgOqbUKmIHqsodwmrHSoLK2xgoFcMPJ0QMPB7C2yBYbEc35sHOgsqZVx+Y0a+2EkpvKgYU/cPDQP1woAnCizbBHGD3+YcYObo6z9t8Bm1DMsZATnD6ViHUjP/r074RfC8t50oQQQgjRkEjATAghhBCigTu7ZTmbvvmFwscXMXHq0zze0TIkdUnyxWySz+fh4+GO1uZaNCO12Do3wkWlorF1M1yaN8cZ87nJAPK4EBXH6WOFqNXN6dDOhwBfyC86x9+7FTKyrHG3HMJZTgGk/sWvK7exLcKfzsM/ZNLdvnTztswnhBBCiIZEpShK7W4PCiGEEEKIW4yBpF0/sPi7xSzfHYPT7Y/Sxb8R3g568osMAKhUKgwGA0WFuZz+exc2nu0Z9cly7muvxr38qMZ6oCf5XDCfPzaWn4+0o/MTz7N0yWO4m9KzObPyPd779BeWHk5FYz2CeTsX8OTtanJDV/HwlHTu/+89TJnQo0KvtEtKyY7ZwuI33mDVqaa4d7+fp54ew9AezthZXU3XOCGEEELc7CRgJoQQQgjRECn5ZEYf5Kf/Pc93605zpujS0INLYbKq2BJw2zN8tXEu/d3VXItBi4UZsRxY+ALvzj1NTvNBvLToTe7wtsGuKIPoU8c4snIpW0+Esu9UEdlZ7Xhv4ycM9o0n6a/VfBf/KE893Iv7+rpaLhbQkX5hN9vXreXnhYfwGjGD+8ffz8jOlYfWhBBCCNGwSMBMCCGEEKIB0ieHcHzdbB6ds5Oz8fmWyVXoSL9hT/LV1pdpD+WfMllvikF3ih9efYnfNyeS1eV5nh/biKJTOziwNxq70R/yRMdIUvb8wqS3djP0tZk4ZGeTdzSc4Z8tYVgPT/wsnzGgFEPhAea+/Ckb9+Yz4IPfGNffC//GFvmEEEII0WBJwEwIIYQQogFSinPITT3PyZhc8nUGbDTVDUG81Fw0lDrRxM2TVp2aYm98XsA1UURazGkuxmaSVuSMt6ca9EUUFWlw8m2Hr7OOkoxYTpyKRXH2QCnVYKNY0aJTB5o4WlkMxyygJP0Q703/nlzXTnQd9SBD+7TFyw4gmrzI7by9pin9e3fivoFNy31SCCGEEA2HBMyEEEIIIRoc5ZqGu+qUvpDCIgNWWgdsys/+D4BSUoTByhYr0zMJFBRUZb+2kJSInQSvXs/aIzq63vMgI0cPwU+djaLRkhW5gfBdv/DJqScY9+AgJo/0MV+0EEIIIRoQCZgJIYQQQohbn1JEcdpulnzyI1/N20276S/QOcALH6UIXamCtdaa2H+2cvLATpS7l/HUQ3dwd0eN5VKEEEII0UBIwEwIIYQQQtziCtEXHeXzJ19l0fKDRAKgRq1Ro0ZBUS49DVSv12NlpeHRz/5h6oOduF1GZAohhBANlgTMhBBCCCHELa4Egz6Jg+t3ERmdQq6NLUpJMQaDgqFscKqiKCiKgp1TEzre8SDtWzTG3fJhAUIIIYRoMCRgJoQQQgghRAXmc58JIYQQoqExTYcqhBBCCCGEMJJgmRBCCNGQScBMCCGEEEIIIYQQQggzEjATQgghhBBCCCGEEMKMBMyEEEIIIYQQQgghhDAjATMhhBBCCCGEEEIIIcxIwEwIIYQQQgghhBBCCDMSMBNCCCGEEEIIIYQQwowEzIQQQgghhBBCCCGEMCMBMyGEEEIIIYQQQgghzEjATAghhBBCCCGEEEIIMxIwE0IIIYQQQgghhBDCjATMhBBCCCGEEEIIIYQwIwEzIYQQQgghhBBCCCHMSMBMCCGEEEIIIYQQQggzEjATQgghhBBCCCGEEMKMBMyEEEIIIYQQQgghhDAjATMhhBBCCCGEEEIIIcxIwEwIIYQQQgghhBBCCDMSMBNCCCGEEEIIIYQQwowEzIQQQgghhBBCCCGEMCMBMyGEEEIIIYQQQgghzEjATAghhBBCCCGEEEIIMxIwE0IIIYQQQgghhBDCjATMhBBCCCGEEEIIIYQwIwEzIYQQQgghhBBCCCHMSMBMCCGEEEIIIYQQQggzEjATQgghhBBCCCGEEMKMBMyEEEIIIYQQQgghhDCjUhRFsXyzLi1ZsoSdO3davn1Z/P39mTVrlun/Tz31FAADBw5k/PjxZjmFuX379rFw4UIAJk2aRN++fS2ziFtcWFgYS5YsQafTcddddzFq1CjLLELcVIKDgwkNDWXixIm4u7szZ84coqOjLbNdlutxLgkODmbZsmWm/wcFBTFt2rRyeSqTmprKt99+y5AhQ6ROryM307nSvE21aNEiy+QGoyGWQ2pqKsuWLSMiIgKdTodWqyUwMJC77rqL1q1bW2a/YjUdD8Y617JtLoQQQtyKpIeZELewrVu3kpWVhU6nY82aNaSmplpmETeJsLAwXnrpJaZOnUpwcLBlcoOQmprKmjVriIiI4ODBg5bJN5XTp0+X+39EREStjs9NmzYRHR3N6tWra5W/OuvXr2fq1Km89NJLnD171jJZCHGDSE1NZe7cuYSFhaHT6QDQ6XSEhYWxePFiy+xCCCGEqCP1HjALCAhg4MCBlb6CgoJM+fz9/SukG19du3Ytt0whRO1otdpy/z9z5ky5/4ubx+7du03BzwMHDlgmNwjLli1Dp9Ph7Oxs6i3ZtWvXCucM48vf39/02aCgoArpxldAQIDZt9S/1NRUwsLCyr2n0+lqFQS866670Gq1ZGVlsWnTJsvky7Jjxw50Oh1ZWVkNdp8S4mawbNkykpKSoKxH7MyZM5k2bRqBgYGMHDnSMrsQQggh6ki9B8z69u3L+PHjK311797dlM/f379CuvElw8gqmjNnDk899RRz5syxTBINxJIlS3jqqadMQ5QrM3bsWAYOHIizszMADg4OlllueMbfuGTJEsuk666u1q0229LLy6vSvxuKs2fPmoJMgwYNMr0/atSoCucM48s8YNa9e/cK6caX5ZCj+rZjxw7T37179zb9XZuglbu7u+kzBw8evKqeYeb7kbe3d7k00bBJG+PGEhERAWWB//Hjx9O6dWuCgoKYMWPGNa+/hBBCiIak3gNmQojrx93dnfFlczM5OzuX69Upbi4PP/wwY8aMYcyYMUyZMsUy+ZZn7E2l1WrLBZluRuY9ycaMGUNgYCAASUlJFXqeVaZPnz5Q1iutNkG2qkycOJE777yTSZMmMWzYMMtkIcQNwHwYZosWLSyThRBCCFGPJGAmxC1u3rx5ZGVl3fRBBnGpN1VD7HFrPoQxKCgId3d3yyw3jX379pGVlQVmv8V82oHdu3eb5a5c69atTUG22gzjrIq7uzsPP/yw9FAR4gaWn59v+tvFxaVcmhBCCCHqlwTMhLiFLVmyhLCwMPz9/Xn44Yctk4W4KZgHhXr27Fku7WZz9OhR09/GaQmGDRtmGjZd28n/27VrB2W9zNavX2+ZLIQQQgghhLhKKkVRFMs3rxXzR1cPHDjQNHSsJsZ5fsw/s379ek6fPk10dLSp67q/vz9du3atdY+M4OBgQkNDSUpKMvUAcHZ2xt/fn+7du1d7F76yR5yfPXuWHTt2EBERUWF5V/IYcPPvqIr5I8ArezR4amqqaZ2io6OhbIiTv78/ffv2rfY3Gp09e5YDBw4QHR1tWgZl5R0YGMigQYPqtAfIlWyX9evXs2bNGiibx6s2w43CwsKYN28elPX8mDZtmmUWUlNTOXjwoGl9jPual5cX/v7+DBo0qNrterX7ifk2rYr5cWF8quCYMWOq3CaV7ROU/SYvL68qy/hy7Nu3j6NHjxIdHW36jVqtFi8vr0r3GeNj66tjLD9z5r/FfPsY9/F27dpVWx8Yv9ff359Zs2aB2f4XERHBpEmT2L59+xWtm6XL3ZaVHc/mKlt3Y71onP/GOCzXsq5dv349oaGhpt9lzHfXXXdVud8YXe0xURsff/wxERERaLVa5s+fb5lcJfPjrbIyq43Kzi3Ozs54eXnVuD9ZSk1N5bXXXoOyZXz++eemNPN1HTNmTI3LNV9WYGAgM2bMsMxSo8rqI0uXe+xeKWM9mJSUVKEeqs1+ZFzPpKQk0+To1PLzNR1b5q50PStrt1SlsmPZqDbbjCssj8ttY5iry3qgsn3OuL8Z66TalkNtGI9x8zYGl9Gmqa9zaHVzWlK2fpb7B3WwPjUdD9Xtn5autP6cOnUqOp2uxrotODiYZcuWATBt2rRqp514/fXXSUpKqlD3chXruX79ejZt2oRWq2X8+PHVfr8QQoibk9Xs2bNnW755rcTGxhIaGgplJ/4uXbpYZqnUunXroOwziqIwb948QkJCSEtLQ6/Xm/JlZWURERFBTEwMvXr1MltCeWfPnuWbb75h7969pKWlmU6WlN29T0pKIjQ0lMjISNq0aVPpxOnHjh0zNUxGjx7NkiVL+PXXX4mLi6t0eSEhITRt2hSvy5i82/w7qtKtWzd8fX3Bony7detGZGQk3377bbnADIBeryctLY3Q0FDUajVt27Y1pVlasWIFy5cvJyoqqtwyKCvvqKgo9u7di42NzVU/ee5qtouLiwt79+5Fr9eTl5fHgAEDTGlVWbFihenCYuLEibi6upZL37dvHwsWLCAsLIysrKxy+1peXh5xcXHs3buX7OzsKvflq91PzLdpVcyPJQcHB7p3717pPktZkPCbb74hPDy8wvbMy8urtoxra8GCBaxfv77cRRRl+11V+8yuXbsqrI+l0aNHl/v/ihUr+Omnn0z7t/n2Me7jERERHDt2jPbt21f6W4zf6+zsTPv27fnmm2/YuXMnaWlpUHYcXbhw4bLXrTKXuy0tj2fjcW5kvu4+Pj588803HDx40LTulO1X0dHRHDt2jAEDBpiCxCEhIeV+kzFfeHg4Q4YMMb1vqS6OidowXry1atWqwsVbdcyPt8rKrDrmZWN5btHpdKb96dChQ7i6utaqLt+4cSNRUVFQFjjp0KGDKc3e3p69e/dCWV1aXblTdmwfO3aMrKws8vLyruhJeZb1kaUrOXavhPHYjYuLq3BsGfejkJAQ8vPzy5UZZucJYxArLy+vXLr55w0GQ6Xnt5qOLaOrWU/zdktNx4L5sWx57qppm11NeVxuG8OoLuuBefPmsWnTpgr7XF5eHtHR0ezdu5emTZuSnJxcbTnUxr59+/jiiy8ICwur0MbArE0TEhKCp6dnpcd4fZ5DjftMVSrbP4KDgytt53EZ61PT8VDd/ml0tfXnuXPnSEpKIi0tjdtvv73S9aSsTjW221QqVbmHiZlLTU1l7dq1UHZD1JgvNTWVzz77zHSuvNz1/PLLL9HpdOh0OpKTk6ssDyGEEDevmzpgptVq2b59O1lZWQQFBdGnTx/69u1LYGAgGo3GdBJNSkrCzc2twkmfssbl3LlzTReVQUFBjBw5kjvvvJP+/fvTvHlz07LS0tIIDw+nc+fOFU7e5g3NmJgYDh48iLOzM71792bIkCF069aNxo0bk5WVhU6nQ6/Xk52dfVkXf/b29rRt25Zu3bqRmJhIXl4eXl5ePPLII3Tr1o1u3bqVawCZl6+iKGzbtg2NRkOPHj3o378/vXr1wt/fH51OZ2pYRUdH07Nnzwq/j7KLp507d6LX63F2duauu+6ib9++PP/887i5ueHp6UlaWhp5eXmEh4fXGHyrztVuFwcHB1ODKysri/bt21cIgJlLTU1l1apV6PV6/P39uf/++8ulBwcHs2TJEnQ6HVqtln79+jFkyBAeffRR2rdvj4+Pj6kco6OjqwzSXu1+Ymdnh5+fH926dUNRFNM+PmnSJNM+EBgYWO1vNUpNTeWbb74hKyvL9JvuvfdennnmGdq3b1+hjPV6fa2PUaMVK1aYegH4l/WYGzduHI899liFfSYqKsq07zVu3JiOHTvSrVs30z5s3AeMv9P8eF6/fj0bNmww7Zvm5dmtWzc8PT2Ji4szXeinpaVVun3MLwRCQkKIiopCq9XSsWNHAgMDCQwMpGXLlpe1blW53G1Z24sYrVbLwYMHSUpKIigoiEGDBtGrVy9sbW1N2zErK4uioiJWr15tqj8ry5eXl1flcVxXx0RN9u3bZ/rdHTt2vKx98EoDZmFhYSxYsMBULzo7OzNw4EAGDBhAN4tjNC8vj2PHjtXqBsjChQtNF+WTJ08uV8+6uroSGRlpOh78/PxqXF5kZKRpv65NfkvVBV+u9Ni9XPPmzTMFCik7lszP5Y6OjuTl5Zm+x3J/fO+990zHjvlnjcePvixYrtfriYiIqPRcUNOxRR2s57UKmF1NeVxuG4M6rgfmzZtX7qEX5uvv7++PVqslLi6OY8eOodFoTO2DysqhJmfPnmXevHmm9TZvF3Xr1g1/f3+yyoLROp2OyMhIRowYUW4Z9X0OdXNzo1vZ+csYaL/zzjtN9VCnTp3KHfPr169n5cqVpqCPf1nPPvN91LgelbWbjGo6HqrbP6mj+jMnJ4fw8HAAnJycKj0HAfz888+m35uXl1dhGxn9/fffpp7W999/v+m7vvnmG1PZGs/jzz//PLfffjt+fn6m82FWVlalAbHt27eb6nQvL6/LatMLIYS4OdzUAbO0tDTc3Nx46qmnGD16NG3btsXX15eAgAB69epFUVGR6URoa2tb6Z2nzz77zNTYmTp1KqNHj8bX1xdXV1dcXV1Ny3Jzc+P06dOmBpTlsswbsUlJSdx555289NJLdOnSBV9fX3x9fenSpQvdunUjJCQEXdmdq8tp6Lm6upqWta9s4mg3NzfGjRtnet+84WNevklJSQQGBjJ9+nTuuOMOAgIC8PX1pW3btgwYMMB0oabX63F3d6/QWyA4OJjNmzdDWaNi1qxZpvIG8PX1pUOHDnTr1o20tDSSyoartGnTpsLFSW3UxXYx9jKjrCFVVSOdsruUxsbUXXfdVe73nz17lsWLF6PX6/Hy8mLmzJncfvvtpvL28vIylaNxn0tKSsLe3r5COV7tfuLg4GDKFxkZaVrW888/b3q/tuW9f/9+QkJCAJgwYQKjRo0yNSLNy9jPz4/s7GweeuihCg3rmixdupS8vDzT0I2AgADTMoz7zIgRI8jOzqZVq1am+am8vLxMv8d4vAcGBjJq1CjT++batm1LZGQk/fv3Z9q0aeXK0/g9PXv2JDw8nLyyu+yVXTgbLwSMr4EDBzJ58mQGDx5Mly5dTHeYL2fdqnK527K2FzF5ZT1KJkyYwEMPPWQ61rt3746zs7NpGVFRUbi5ufH8889z9913l8tnMBjKDeO0rO/q8pioycGDB031+JAhQyr87upcScDMeBFsLEfjMdqhQwfTdunSpQsjRowgJiaGpKQk9Ho9MTEx1fYK27dvn+mJlkFBQQwePNgyCwUFBaaLxKKiomrrLMp6YRjLxsfHp8qLyqpUF3y50mP3cgQHB7Nt2zYoO+YrO5d3797ddF4JCgqqcDPD0dGRwsJCJk+ezN133236rPHzffv2Ra1Wm/bnys4FNR1bdbGe1ypgdjXlcbltjLqsB8zL2Py8b1z/tm3b0qtXL9q3b19hqGFl5VATV1dXsrOz8ff3Z/LkyeXaRcbvGzJkiOkY1+l0FYKg9X0ONa5LVlaWaf8cMGAAffv2xdfXt1yAKSwsjJ9//hnKym/ChAmMGzeuwj5qfh40vizr95qOh+r2z7qqPwMCAtiyZYspGFZZICo4OJiwsDCcy+Z/zMvLq3Tfouz4S0tLw9nZmQkTJkDZui5fvhzKevxOmTLF9FuN52djmcXFxXH33XeXK3MAT09PsrOzadasGePGjbus7SuEEOLmcFNP+u/l5cX06dMJqmLOAPNJzo13XM0Zh5pQNmdMVcuh7GQ9cOBAKLuAO3v2rGUWkzFjxlQ5wbq7u3u579m3b1+59PoSFBTEjBkzqpyHw7wxkpiYWC4NYNOmTVBW5pXN7WXk7u7O2LFjcXZ2RqfTmT53Oepqu7Ru3Rp/f3+oxUTaxknFnZ2dK8x3tmnTJtNd6IkTJ1ZZhpTtc4FlT6+r6bdf7/3EfDu3adOmXJq5mvad6hi3o2Uj09L48eOrLIvamjFjRpXzjFBWpoMGDTL9PyUlpVy6pTFjxjB+/Pgr+t3Xk1arZcqUKZVeYPTt2xetVgtl+/r06dMrnVfIvBwrqzvr65iojPHu/bWyY8cOU8+IgQMHVrtfms+Zk5SUVO3k+5VN9m/pcif/b9q0qenvzMzMcmlX61ocu8Z5JrVabbXncnd3d6ZNm1bp9/Tt25cZM2ZUuh8bmQcyjNv2ctTFel4r16I8jOqyHtixY4fp7ylTplRZxq1bt2b69Ok17pe1MX78+Brr+LFjx5r+tjzGrsU5tLa2bt1q+vvxxx+vtP6nbB81Lz/LdtPVqsv607i/mAdHzZ0+fRrK8hnzGt8zl5qaagoQG/MBnDlzxvS3t7e36W9L7u7uzJgxo9J90rhtp02bVq/bVwghxPVzUwfMAgMDazxBGQMmlTHe7ffy8qoQJKnMww8/bLrYNN59q0x1F+0ATZo0sXyr3lV1gWZUVeOKsrt4xgaQecChKu7u7vTu3RvKLvouV11ulz59+kDZRbf5k/bMGe+kA6b1NkpNTTUNEQkKCqr2IsRo+PDhUHYhYj68xNL13k/M78IuW7asxovzK2E8/sLCwuol6He57O3tTX/Hx8eXSzPn7+9f4/a5UXl5eVXasDcyXig5OzvXWH9Wpj6PicqYXyxVV0/VFeP6abVa7rrrLsvkCswvqC3rHyPzMnN2dq72dxi3XXV1VmXqOrBY38ducHCwaZ179+59Rfvi5TCeIyoLAFfnWq/ntXKl5WFUl/XA2bNnTesRGBhYbf1FWRvDPPBRn8y3t2VZXYtzaG2YB4T8yx7gVB13i5tHxjZXXajL+tP8ScDBwcHl0jBrX/bs2dOUt7I2Z1VPWTYvpx07dtRp4FAIIcSt46YOmF0tY+OnuqCaJePFZlV3vGrDxcXF8q0bmvld1JoaskbGng86ne6yL5DrcruY99gwv4NtzngxqNVqKwQEze9AtmjRolxaVczLyPzzl6u+95O+ZfPCUNbIfe211/j4449ZsmRJnV0gG4dY6HQ6Fi5cyEsvvWSaSLw+Gqfr169nzpw5PPXUU6bXnDlzWLFiRYWLmboOMDQU1/OYuBbM65/aBEfc3d1Nx5Fl/WNkXvdYBuUtGYP81OJC1sPDw/S35cX81arvY9f8vNK5c+dyaZfLOB/VSy+9ZDruX3rpJebNm1ehLrvc474u1/Naqc/yMKrLesC8t68x8HGt7Nu3j48//pipU6eayur1119nwYIFFfZzy7K6FufQ2jAvy9oGEs1vRlZVb12Juqw/hw0bZgrsWvYcMwayncue6GzMW1lw7cKFC1DWxrNswxpHKCQlJfHBBx/w+uuvs2TJEoKDgyu0GYQQQjRMDTZgZh7EOXjwYLkL7OpexhO6ZcPpVmZ+Ifbaa69VKJPKXsan2gHk5+eb/q5JfWwX4wVqVlZWhUbs2bNny3XVt2zgmfdCWrZsWYXvreplVNn63EieffbZchfwERER7Ny5k4ULF/LUU0/x8ccfVxgmcTn69u3LpEmTTEHLrKwsDh48yJo1a/jggw9MF+GWFyaXKzU1lddff501a9aY9gWtVou/vz/R0dFs3ryZDz74oNpeZaJ2buVjwrz+uZwhXzXlNV+uZVDeUuvWrU0XvUlJSdXecKhNr54rVd/Hrvl5xfIi9nKsX7+eDz74gLCyJzRitj3CwsJYuHAhCxYssPhU7dXVel4r9V0eRnVZD5gvq75vFJmbN28eCxcuJCIiwrQ+/mWT/R88eJC5c+fWeP6r73NobZiXn/kw7ZrUVG9drvqoP411oWXPMfPhmEZVDcusbDim0fjx47nzzjvL9bjcuXMny5Yt47XXXuP111+v9IabEEKIhqPBBsxEwzFo0CBTY8h8HiEsenDUZvjArcbd3Z0pU6bw0UcfmeaLM2+8RkREsGbNGl5//fUrbjD27duXzz//nGnTpjFw4ED8y552htlF+AcffHBVFxXffvttuSE9M2fOZP78+cyaNYtFixYxbdo0vLy8TA+uEOJaCQsLu+ybDuYXh7t37zb9belKg1W1dS2O3auxb9++cvOLjRkzhkWLFvH+++/z+eefm+q1sLCwCr1XbkU3a3lcjyD6kiVLTAEeLy8vJk2axKJFi5g1axbz589n5syZ9O7d21SeVbkW59CGzHxYpvGGp/kQVPMhlsapR8zrT/Mh1VX1Xnz44YeZP38+Y8eOpXfv3uVGNyQlJbF582befvvtam9eCCGEuHU12ICZ+Z3ioKAgFi1adFmvWbNmlVvercy88Tdz5swKZVHTq6b5NMzVx3Yxn+8kLCys3EWmcW4Lf3//SntrmN+tNV58XM5r/Pjx5ZZ3o3J3d2fUqFFMmzaN999/39T4NzYck5KS+Pbbby0/dlmCgoIYP3686YJk2rRp9O7d23QBvmbNmgo9AGvj7Nmzpou/wMDASie8DiqbmNc4/EJcuVv5mDCvfy5niGN1easLeNVGRDWT/5sPZauul8bVqo9j13x9r/RC1PwGyJQpUyrMO2is19555x3Tul6uuljPa+ValIdRXdYD5nOBZWRkmP6uT8ZtaXz4iWU7pXXr1owfP55JkyaVe78q1+IcWhXzbXE5vairq7euRH3Un+bDMk+ePAll7Tbz4ZhGffv2NT1wyjgs09jbTKvV1jgn7rBhw5gyZYrpRtvYsWNNy9fpdCxYsKDKulgIIcStq8EGzKhm3itRnvnTgyy7xdeH+tgu5r3HjL3K1q9fb7rzaD5vkDnzJ18Z58FoCIyN/1mzZpkajNHR0XXaoyUoKIgpU6YwZcqUKnsA1oZ50KBr167l0ixV9rh5cXmu9TFhfrf/coMyV8K8/qnNxVFqaqqprrKcd9G8JwRl8+XU9mVcD10tJ/+/2gDI5aiLY9f8vHL8+PFyabVlPuTQ/MLZkru7+xUHFOtiPc3VZ2+qa1EeRnVZD5jPxWc5nK6+GMuqsqkYzFkG0mrrWpxDjcy3RW3baObzfFnWW1ejLutPI8thmZUNxzSyHJZZ3XDMmgwbNoxp06YxZswYuIy6WAghxK2lQQfMjI2YrKwsVqxYYZksypjf4duxY0etGkFXoz62S+vWrU2NMWODx/hEJmdn5yrvPFr2TrvRexjUB/MnrJoHp+pKkNkQFuNFzJUyfwqmqB/X+pi4loEgzOofnU7Hpk2bLJMrWLx4selvy4CtsScEZRds48ePr/WrNk+xM+9NUt9P1a3M1Ry75g9kOXjw4FWdV+pzH6nL9aSG3jRUMoT3StRneRjVZT3QunVr034UERFR47IsA9FX41qUVX2fQ823RXR0dI03FlJTU8vVbVXdMLwSdVl/GhmHUhrnoa1sOKaR8T3jflTTcMzaMO+pmZmZWS5NCCHEra9BB8wefvhhUyNt8+bNNc7Dsm/fPubMmXPVDea6VJe9sKpjvMOWlZXF3Llzqy2D1NRU5s2bV2N5VqW+touxUWjsWm8su+ruxFP2242N6gULFtTYmF+xYgXz5s2zfLte1dRArkxqaipz5syp8bPmPUfM72TXxooVK2ocxmA+pLK6Xg9V7evmvRNq+i3nzp2zfKtOVLVuV6Km33AjuJbHhPlwo/rafuYGDRpkCpDs3Lmz2qD9vHnzTBdvXl5eFYbAmQe6qroYrIr5jYqkpKRKe6aYB6maN29eLu1q1eWxWxVjz1+dTsfcuXMr/Y2YnVMst4VxO0VHR1e7D6ampl5VEOpq1xOLnjdVreu+fftYsGDBFfdCq4/yqK5uq8t6wDxoU92yzp49y9y5c2u9/lUxllVYWFi1+3h19fG1OIfW1vDhw01/L126tMp1Sk1NZe7cuaa6o3fv3hWmMLgadVl/Gpm30VavXg1l26+ytltQUJBpWKbxu6sbjlnV8WrOvA1q3uOUsv3n448/Zt68edXuR0IIIW5eVrNnz55t+ea1Ehsba+rl4+/vT5cuXSyzVGrdunVQy8/s2rWLrKwsnJ2dGTBggGUyrq6uHDt2DL1eT0REBMeOHSMnJ4e0tDR8fX3Zt28fx44dY926dQQHB5OVlUVeXl65O4YAx44dMzUsR48eXS7Nkvnv7tatG76+vpZZahQZGUlcXJzpb8oaJxcvXqRt27ZwBd9TXbkGBAQQExNDUlISeXl57N27l/j4eHQ6HUVFRWRkZBAREcHmzZtZu3Yt0dHRREREcPvtt+Pg4FBuWbVRV9vFXEBAALt27UKn05nKjrKnXFW3jq6urhgMBiIiItDr9Rw6dIiYmBhycnLIzc3FysqKsLAwDh48yNKlS009BOzt7SsMAazL/SQlJYXw8HAAEhMTMRgMnDp1il27dlVbDkbffPMNUVFRhIaGVijf1NRUwsLCWL58uek7goKCGDx4sOViqhQWFsbSpUuJi4ursL+4uroSFhbGkSNH+OWXX9Dr9QCMGzcOV1fXcss5dOgQeXl5ZGVlkZ2dTV5eHmvXrsXW1hYvLy9cXV2JjIwkLS2NtLQ0IiMj8fDwKLecsLAwlixZQkhIiOm9yvbzmuoLSzWtW23VZlvWtD/Udt1rm89YH1SWry6PiZr4+vqa1kWr1V7WECnz462yMquMg4MDnp6epvonKiqKQ4cOkZ6eTlZWFrGxsezcuZOff/7ZtGytVsv48ePLbfOwsDC2b99uSp82bZoprbbi4+NNdZVer69wXG/cuJGsrCy0Wm2t51oyV1V9VFfHbk0qO6/ExMSQkpJiOpa3b99uOqdERUWhVqtN5zhbW1sOHToEZb/FYDCY0igLDvz999/88MMP5YJQlnVvTcfW1a4nZdvSWNbHjh0zlWlsbCwHDx5k9erV7NixAzc3NxwdHcnLy6v02Ktqm1GH5UEt2xh1WQ+0bdvWVMbmyzKW8bFjx9iyZQurVq1Cr9fTqlUr0tLSoIr1r0l2djZRUVHodDrCw8PRarXltvvZs2fZuHFjuUn/LbdHfZ9DjWraPykLOKnVatO2CA0NJTIykoyMjHL76PLly03BMi8vLyZOnFih/VPT91V3Dqmr+tOcg4OD6Rxv3G+DgoIq1IdGMTExxMXFkZeXB0DHjh3p1auXZTZWrFjB3r17iYqKYteuXWRnZ5OVlYWdnR0ODg7s27ePnTt3mh4W5OzszNSpU8st4+OPPyYuLo6kpCTi4uIu6/wkhBDi5tDgA2ZeXl60adOGuLg4srKyyMrKIiIigtDQUNatW0doaCgRERGmhlnv3r2ZMmWK5WKqbcRaqqkxUhs6nc60jLS0NEJDQ4mOjiYpKYkRI0bAFXxPTeXaq1cvioqKiIuLMwWdQkND2bt3L3v37iU0NNSU5uzszJQpUyo0imurrraLJWMj2ai2Ddi2bdvi5ubGhQsX0Ol0JCUlER4ezqFDh9i2bRuhoaFERUWRl5eHVqtl1KhRlT51sy73k0aNGrF37170ej15eXmEh4cTERFBXFwc7du3r/HitU2bNkRFRVVavsbfZCxff3//ShvW1TE24KOjoyvsL+vWrePQoUOmxr2xzCobGmJ+oRkdHU1oaChJSUkUFRWZGsHmvyUtLY29e/eyZcsWjh49ys8//8yhQ4fQaDQMGzbMdEe7sv28pvrCUm3WrTZqsy1r2h9qu+61zVddwIw6PCZqw3ixlJeXx8iRIy2Tq3QlATPK9t2mTZsSExNDXl4eeXl5pgtjY11rvHDz9/dn8uTJdOjQodwyVqxYYeoFU9UFW02srKxMAZC0tLRyvz01NZVVq1YB0KpVqyu6UKuqPqqrY7c2jOcVY72clJRkqovCw8NN5xStVsvQoUO5//77TZ+1XM+IiAjT+m3cuJENGzYQERHB0KFD0ev1pkCBZd1b07HFVa4ngI+PD+Hh4eTl5aHX601lajxOsrKyCAwM5NlnnyUsLKzKY7SqbUYdlge1bGNQx/VAr169TEEzLMo4IiKCpKQktFotU6ZMIT8/v8pyqI0OHTqQnJxsCqyElp37jh07xu+//87OnTtJSkpiwoQJpnKw3B71fQ41qs3+Sdm2sLe3JyoqCr1eT1paWoV91Bjg7t27NxMnTqx0/raavq+mc0hd1J+WjDdlje6///4qA2zm9SZlvd4qa4ua7wM6nc60jtu2bTO1M437mLOzc6VBvXXr1pnK1NHRsdLyEEIIcXNr8AEzyu6SDhgwAHt7ezQaDTqdznQyp+x7AgMDGTduXLlu7+aqa8RaqqkxUhu+vr7Y29ubLiIpa6QMGzbM1DC43O+pTbl26NCBNm3a4OjoWK7BTVmDwt/fn/79+zNt2rQKDYvLVRfbxZKHh4cpMIHF8M+a+Pr60q1bN5ycnABMFz6U3SFt1qyZqRFa1fCrutxPHBwcaNq0KdnZ2aZGubOzM717965VENDBwYEBAwbg5+eHSqVCo9FU2J6BgYGMHDmScePGXVFDv23btvTs2dNUZnq9vsI2rKnMunTpYrrza/xsYGAggwcPNm07429Rq9XodDqysrJM+6e/vz+DBg1i6tSppgs/qtjPa1NfmKvNutVGbbZlTftDbde9tvlqCphRR8dEbRgvlvR6PX5+frUu2ysNmFFWnw4ZMgS1+tLMBea/zVjXDRs2jKeeeqpCcNoYzLqSesacl5cXu8p6xer1+nK9lv7++2/TBWT//v3L9SSqrerqo7o4dmurQ4cOtG/fHr1eX6Ee8vLyomPHjowdO5Y77rij3OcoW882bdqQl5dnOkcYgzOBgYFMnDiRO+64w7TfU8lvrenYMrqa9XRwcKBz586mcjSet7VaLa1atWL06NGMHTsWBweHao/R6rYZdVQe1LKNYZ63ruqBXr164ebmhqIo5c75Xl5e9OjRg8mTJxMQEFBjOdRG9+7dcXNzo7Cw0LTOWVlZuLm5mb4rMDCwyrrwWpxDuYz9k7LekD179kSj0VRoo3l5edGqVSsefvhhRo4cWeX61PR91e2fRldTf1bGxcWFbdu2QdnnJ0yYYJnFxLze1NbQu7d79+60b9/e1KY11rWYHZvVtWkNBgPR0dE4OjpecT0vhBDixqZSFEWxfFMIIYS4UaSmpvLaa69BWa/Q6i6AGoqPP/6YiIgItFot8+fPt0wWQgghhBBCXKUGPem/EEKIG5+7u7tpgueIiIh/J1c2f1JeUhKUPQH3Vv//2bNnTb3LKpv4WgghhBBCCHH1ruuQTCGEEKI2XFxcTMOpnZycLg1BfPZZ8PEBGxsYOxZ27YKWLW/5/288dIjo+Hi4wsn2hRBCCCGEEDWTIZlCCCFuCvPmzSMsLAxnZ2c+//xzyMuDhx669O8PP0CzZrf8/1PHjuVtV1d0ajUDBw5k/PjxlsUkhBBCCCGEqAMSMBNCCHFTSE1N5e2330an0zFmzBhGjRp1KZiUlAStWl3KdIv/f8nChezctw9nZ2dmzpxZ6VPuhBBCCCGEEFdPAmZCCCFuGsHBwYSGhjJx4sQGGSxKTU3l22+/ZciQIfTt29cyWQghhBBCCFFHJGAmhBBCCCGEEEIIIYQZeUqmEEIIIYQQQgghhBBmJGAmhBBCCCGEEEIIIYQZCZgJIYQQQgghhBBCCGFGAmZCCCGEEEIIIYQQQpiRgJkQQgghhBBCCCGEEGYkYCaEEEIIIYQQQgghhBkJmAkhhBBCCCGEEEIIYUYCZkIIIYQQQgghhBBCmJGAmRBCCCGEEEIIIYQQZiRgJoQQQgghhBBCCCGEGQmYCSGEEEIIIYQQQghhRgJmQgghhBBCCCGEEEKYkYCZEEIIIYQQQgghhBBmJGAmhBBCCCGEEEIIIYQZCZgJIYQQQgghhBBCCGFGAmZCCCGEEEIIIYQQQpiRgJkQQgghhBBCCCGEEGYkYCaEEEIIIYQQQgghhBkJmAkhhBBCCCGEEEIIYUYCZkIIIYQQQgghhBBCmJGAmRBCCCGEEEIIIYQQZiRgJoQQQgghhBBCCCGEGQmYCSGEEEIIIYQQQghhRgJmQgghhBBCCCGEEEKYkYCZEEIIIYQQQgghhBBmJGAmhBBCCCGEEEIIIYQZCZgJIYQQQgghhBBCCGFGAmZCCCGEEEIIIYQQQpiRgJkQQgghhBBCCCGEEGYkYCaEEEIIIYQQQgghhBkJmAkhhBBCCCGEEEIIYUYCZkIIIYQQQgghhBBCmJGAmRBCCCGEEEIIIYQQZiRgJoQQQgghhBBCCCGEGQmYCSGEEEIIIYQQQghhRgJmQgghhBBCCCGEEEKYkYCZEEIIIYQQQgghhBBmJGAmhBBCCCGEEEIIIYQZCZgJIYQQQgghhBBCCGFGAmZCCCGEEEIIIYQQQpiRgJkQQgghhBBCCCGEEGYkYCaEEEIIIYQQQgghhBkJmAkhhBBCCCGEEEIIYUYCZkIIIYQQQgghhBBCmJGAmRBCCCGEEEIIIYQQZiRgJoQQQgghhBBCCCGEGQmYCSGEEEIIIYQQQghhRqUoimL5phBCCCGEqDtFF4N57/N1ZNn50aWtG5QaLLMIIW5Aer2ebt26ERQUhLW1tWWyEEKIW5gEzIQQQggh6tnfX/2HV+cdoGnvwXTy1VJaevnNL5VKjUoFoKAYFC5/CUKIy1VSUsKwYcMYNGgQtra2lslCCCFuYRIwE0IIIYSoT+l/M/Wx9ykIeow3Xr0f51IdlxMvU6k02NnbocuMJ7MQbOwa4+7hhD4/l8ISBZXlB4QQdUZRFJycnHBwcEB1KWIthBCigZCAmRBCCCFEPdr97fPMWZLP5A8/5ZEBLpbJNTLoL/D+uGeIbf8Eo7vYsPWnz9mR5M+sBSt4oKNlbiGEEEIIURdk0n8hhBBCiPqSs4c//orAo98gBl5BsEwhmyXPTKL0gc+Y8+xo7hhyNy/M+YB++q28MPYe/jxr+Qlxo9KXlFJSpLd8W9wIDHowlFq+K4QQooGTgJkQQgghRD05unoDMdlejLz7TjwtE2uhtOgAv6/cx09vr6TErTGODo1o0eY2xk8YRPypw6z7PczyI+IGFL7xG2ZPf43dyRrLJHEDKE3dziuTp/Ll8sOUWCYKIYRosCRgJoQQQghRH/KOsGpTGEq7vgwc4G6ZWitWNq0ZOrQ3QUNvw9n4plqFraM9GAwU5heW/8CNQp9NfFwkEfF5likNTmTw13z97VaajZrOEF/LVHEjsPIcwcyp3Tmy8neWbjlvmSyEEKKBkoCZEEIIIUQ9OLZxM6cSHLl79D00vcIWl0rVkueX/sVvH9+FQ9l7Jboi/tl1AI1zI3oO6WXxiRtBAYc2fMYjA6awbmeKZWKDUnhxD78v2Uhhu2eYNKKpZfItSTEYKCkowGCZcINz7T6FKYNy+eO7Bew4nmWZLIQQogG6wuabEEIIIcQNqLQYna4Q3fWeKqrgKGv/2k1pmzu4++5mlqmXQYWNnQN2tppLT8NUikkIXch7v2QwauIinh964zXlcs78w4rPP2Vfuh5Vg54WKpnNa5ew+Zw3U167G2vL5FuQoktn00dDcG55G19sKbBMvuHdMfUZfHO38Mvqv4kvskwVQgjR0Nx4rSwhhBBCiCt0cc9yXnr0SX7ckGyZdE1FbN/FmXhHRt7/IFcTLitPT2rUKp55dC7DP9jBis8HYmWZ5Xorimbb2o/4fE8htlqrS0G+BiohLIQ/l4YQOGQCfd0sU29NhfmFHNz6DxobJwLa2Fsm3/jU3Xn43q6c+GMNh/9JsEwVQgjRwEjATAghhBC3EIWignx0Bdexd0vJSf4KDibTrRt33V1Xw/D0JJ/6jfGjPuO+lVF8+0pXrAx6SvQ30sC3Qv7Zu5PtG0p47tk+FBU05C466QzzRJUAAETZSURBVISH/EFopht3PjLAMvEWVUp+/lF27SzA3eV2OrSwTL853DF6CE763aw9EE7a9e6pKoQQ4rqSgJkQQggh6o5iQF+soyA/n0JdMaU3UjznGoncsYcDocUMuPcR/GtoaZXqiykszKcgv5CSUsUyuYyelFPLmTh+BS9sPsB/bnfAUJhCyJrXGPvGAcvM1032uTAOB++h68yP6NO4BK7FcExFoaSokIKCsv2tqiK8xoqTYji65QBK8z707GiZaslASbGO/Px8CgqLMSg3yI+oLaUUvb4Ug76Q1KjDnMCetj0H4wcYSku52X4Ofr24vZUjxzccJiFeZ5kqhBCiAamhGSeEEEIIUUtKCYkR+1j48f8Y99h4pr7xLfvCzxN/MYbE1Bz0N9uF85UoOkXw5jWkuNzO6IfaWKaWo8uNIfi3L3np2bE8Pul5Fm88SWJ8DGfOJ6IzFpZSQtKJnxnTdya+j99Hyo6lLF78E999/z2ffvkXgT3aWS72+ii8yIEdf3LI8BRP3+VEQVH9R0oVg46EqH0seO9lnpzwKM+/8SW7jyeTmhBNTGI213N3S0m6wPGwYtp26kW1D8Y0lJISuYPvPvwf4x8Zx6Tn57P/dBzxsTGkZBXcMAHAKikG8hP/YcPGjaxf+yervv2dTGsrDMTx918b2LbnKEk3XUfDltzWMYDc48eISsywTBRCCNGASMBMCCGEEHUgl4O/vsVjI/7LCcfRLF23mq8nuvPTywNo5ufPw28u5Wy65WduFqUYahm4iD54iCOH9Qy+bwKB1czyXhgdzMSBd/B/6xVe+mgla5Z/ic3a5+jW2p+2AfeyNTYXA6AvPsyMR97hnJ2eNe/P5KVXX+XVV1/lzTlzCct1o1MHF8tFXwdFRIZu5891qUz/oC/kF9V7sEopySFs7ccMvu0hznhOZsXK9Xz4bFd+e7QlHk3b8dCEz4iz/BCgKIZr0IOrkPTUU0TGqfFr41dNY7uIAz88z4i7phPb9BF+2vAHS99sxNynB9DM158hk9eSklnZmEADBoOh3su4VlRqtC6B9OvXl+5dO5F1PgkntwCefGE8fXr3pkeXtjTRWH6oZvriPNJSU0hLSycjI530jDz0tT0Ir5oavwAfVDmRXMjJ5KaL9wkhhKgzVZ/DhRBCCCFqpYBDv3/A5Anf0uT+V3j3xUFoAYeOd9K/Uw8cgFZtm+PqavYRxUBJUT7pSec4diSSzGJ9nQQAVIBKpaqzJo5Bl8HZwxs5EFWLy+bSi+ze+RcXbTtw78OtLFNNSuM28sSYx9lV/DBffPAsrT1tAQeenH4XVvbWNPbtTaCrDWpAY9uXJacukpSQSHJqKmlpaaSlpZGRkUFk6B4eaW+59GsvN/40O9YE02LaV3S2Aq6oc5mCvqQUpTbBLEMREZvfY+gDH9F63FK+fK4rAG7N2/PQ5H6AIwGBXco9bKEoP4u4C1GcP3+es6dOEX4ygoSMfC5nCrjS4hLLt6pQSEbCRRKstDg1riqgWcqB719hwgsL6fDU//HKhD44AWr/J3mwfUsaAd37tMHe3jzaVEpGfAznoi6SmJTAhbNnuZiQeWXFXYestE64uTrjoD3PkX9K8PIYwcAO9jRyccOlSWO0xp+gKOhLdGSnx3Im8hwJyfkWS7pEl3mOLUs/5JnHJ/HSq2/w9owJjBz5IqsPJFByjX5s89be2LnEcTEmE901+k4hhBA3nrppTQohhBDipqMU55GSmEB8fPxlvOJISEomx+wqMuPUDn787FOSutzF+Kceo4kpJYe8okzU9OG2Vi3xMD0yUUdaYgzhR3cw65G+BPUcz77k2g6hU9AX5ZIUF1dh3ZLTMklMyySvsIDszESyM1MqrHtcfCp5utoE5xRyEqPYvuRFOvd+iBlzNtb4mdiQA+zcHkeP+56hq4NlqlEKP777KVvC9Dz9xqO0a+VkSslLzUVfXELnUffQ1Mam3KeuRnFBDikJccRV2JY1vBIzKKphTKCiS+HIluXsynqCV4fZWSbXkkLmxcOs+nUlO/+J/Xc4aqUUCtL38ebTn2PwGcD//m/wv0nFpeSk5ICzN10G3GF6QqdSGM/mhXN4ecYHbDx8jqPbf2L80G6MGPsWuyOy//18lRQyzoew6qdf2RGeSG3CZqUGA1aONrj4OFsmAZB7YgWf/PgTSS0m8dRdA/EwxcWyyCjMxUBn+vfywF7772eyo9bz7IghvLfkNMXqQvbPf5Yhw1/k73OF/2aqkkJRQTbJ8Ze7H8SRkJhFcQ37AYYS0sL3cAJbAu8YhGeF9GJyM+M4eXInX70xntsD72XuL+GWuYA4Pp/8IG/9pObt739nyeLv+Oq9J7BJ/p2P5+0hN/9aTIwHarUGtTqTC7EFFNameIUQQtySVEqtbuUJIYQQ4lZTeGEzH8z7k7hsXVmvrJophlJsmzRj6BMzeKBbIyCZvxbM4IFnlnDHhM9Y9NNLmJ4LmfQX48Y9xdqEB1i/9AMGBjUqW0gqxw+dpMilKxcXjWHyx/BLzCruau5Sizt5xSSe3sKn760kw9a6XH61lTVZseEcDj2DW9v+3BboUv4pkooevaoVj017isFdmlLNiEkMRXEsef15fo8p4vCaLRQ5DOKPi9sYXnn8A/TxrPj4Vb7Z6MDczT/Q7d84WDl5++dx71Ovsjd7HJs2fciQIDdT2rbXBzPmgx08vzqRt0d7YWtV7qNXSOHs7pUsXbqeC8U2aGou4DIGrOx7MP3/JhPY2MYUfCqvmOhjf/DVnF1MXvktgcZl50ew+J1xPDXfik++W84rT/hbfM5SIrMG3sWnu45h1el1jmyaSWBTR8tMACilOkLmjqbnq7vpe//P7Fj9sGk75l4M492HevJT3mCWbN7Mnc0BDBxa+g7zl57lvo9+ZkynS7kvbvqMsZNeQTd4Lr989iLtK0R4zOXw+ZAA/rcjDbXLVCJTvsZPXXmJAFCSyIavn+GxjxL5YOlOnhtiGT3NZuk7/+XZ2b8y4JWf+OqdCfjblyUV7OTR28cSnPowW/e9S3f/smOGi7zRtxt/t/yR3YtHY61RUVpcyC+TuzDn7NMc3D8DD7NvqKiQiP3r+HnhRhIVG6yqWX1zilKCVaPhzJz9IC2dzaJ3FgxFuWx6fwijPovjneWRvHWPxQGgLyA26hQxOg05R/7ko5nr6PPmd3z44m3l851fRP8736fbjMW8+3R/GgEosayevwJ110e4u1ezOjouanByAb1HTcVz3Ea+f20EXsbtI4QQokGRgJkQQgjRQCn5MRw9nURxsYFaxstAUVDZ2OPh146W7rYUxR/ho+mjeXulEy+9/z2fzRxoypqw4yuemDiNgkGfs/jT6bQzH5JZZvubQ3j4PYUlF2sZMFNKyUu/yPGIBFRW5XNrbO2I3r+K7xb9ReCoV3lmTGvyC837AymUlmhp0akt3k0cqv0uXcwOdqXfztDOObw7sCNzDufzxDsHWTKz8kceJh9fxzvTPkZ153y++V8Xy+QyJWx4ZyLPzl6KyyPf8/vnUwj0MabF8c7gQXy0w5tlEesY1bbJv+unGNCXFpOTnsDFi/HkG/zo08u32vX/l4GspBguXEigEHUVga/KKCiGRnTo3Z7GFuVsVJB+km9ffIw9/h/y7n3O5OgMqNQarPKiWLNoDh+tsWLqK7OZNLoFdi7NaNnSG9tKVyCTZTNf4duN+3Eb+BZfvfMgTZtU3sNOX3KG/3XvztwzaqbOO8NXU4yRrlIuHl/OhB6Tyb7jf/y5bVbZkMxMtv44k0mTgxn93nfMfX3YpQBbyhaeGPsUy87cybY/PmbQbZXsnCYF/DFzAp9si8arwwssXPQELpUXySW6eNZ8PolH52Uwd9lOpg6yiLYkb2Xqs8/w7RoNsxb9xMyJfTGGoor2fcRtD83EasjPbPjyMZq6XIoO5R2dg3+/2YxblMqnj7hipb7Ua+vc70/S9un9fH8kmknVDs8tJTMllqjIeEo0l7kfqD3o0LUFjW2qjlQV5SYwe2gg38R0YEXYAe70sszxr7CV7/P8M6vpO6t8wKy4pBTdsfmMeORzOk6dy8wJg3FWFWPAGqfGthQUKDR21KJWq9DrcsnVKVhrrLF3tEOlyyEtrxgra1ucGjtVEgwvpTAnlfj4DNT2rng19aTcaFcLyvEF9B49Fa9xG/n+fxIwE0KIBksRQgghhLhCKcf/Vp7qiKJpOlj5el2KWUqJsm3es4o/Tsp/Ptug5Ch6Je5iipKdW2yWR1GC3xisNGGQsuFiulJaLuXKxO78SZk84l7lk99iLJOujEGvRK17StGiVnxaPamc0VtmUBRFn6is/Wyc0qfbE8qBbMtEc3HKlxOHKLagjPt4o5JUZJaUtkYZ1MxR8W43RzmfWaQUZZxXLqYXKQaDohTnJCjHTxxQVv/yttLT3lpp2f0rJdfso9eHXklP3KL8p08/ZfDdw5Uhg4coQ4YMUYYOHaYM6tddaemhUlA1Vlq26aUM7D9SeX3uWiWxsrIzU1rjDmBQdIWblGFWKkXr1ExZcso8KUs5vOK/ijOeymMv71QUpVjJTI5TMooNSsKxLcr8D75WNoem/Zv/zArl/p6NFeegl5V94XlmC6pGjetnlKns+PU/SnOXLsqnG9ItE5Wc0F+VR3vaKjS5T/lly8VyaXs+eETxUqE8832oklNaqsRExis6g6Ic/+4+xV6D8tofmYreUJa5tFi5sPpJBZtGyozfzY+9a61UyYxfpfTGRmndeZaSrCiKohiUgrxs5cLZJMW4ukb/rPg/pV+Tbsprcw+Xez85JlLZ/cPzSntPD+Wu5z5UVv61TdmyeYvy14bflM/efUF5etZ6Jaus/sg4vVP55duPlFmzvlD+2rdfObBnpxK8bauyZsk85ftVe5VU3b/L1RdkKid3b1AWffWl8sk7s5X/e+8LZdkf25RzCQX/ZrKQ8vdspZMnymPvBysphZapQgghGorq7o8JIYQQQlTLSq3CSg1NPBrRvJW7WUoUISfDiKcTXQLa41S4lW8XbyH8fJ5ZnrpnUKDUUApKHc11pFLTfNhk7vdRk5L4J7+sqTjnVWrEEbavDiPw3mfpbRxBVylr1BpQ40MLH1cczTpRJe0OJiIrj8ARvXB3sCH0h9dYEZaDQQGlpJDs7FLa9LmP232dcXCoaojktWSFi9dwvt2/h+0bt7Bt+za2bdtGcPBWtq/6lqnDPaFRZ557+w927N7Aey+OxqvqDkoAqGtslaoALRprDVpNL9r4/ZtiyMnm7K5gspq4ETS4B/qYw/z181fsuajCu/Nwnv3fc4wI+rcX2e6/d3PyjIGR9w2kZQvLIZNVqHH9jKyxd3DFLr+AxAsJlolYW1thpYLGzb3xdP93xj+I5e+DZ8hUutOrvRtO6oPMfmcNiVmlZKRkYzBQ4aEIiqJAqUJ6Yka5968pg57M43sJx4b2Q4dcGhqqZHP2nxV88X1YrfdVd9829O7bAedGjfAJ6ETvvv3o1+8O+vf14vCixezccYHisvntbBt70ThpM+/93yu8+b9PCCtqxdBB/fAr2c2zTz7Ir/+UlZMhl+ObPuf5ca9xTN+HV2a9zXP3BbLny5nMeHc1aeVXwaSooJDSIj8CAhqXm0dOCCFEw1LrU78QQgghhCUnVyeat/NGrbLB1jTnu56ILRvYsOUAjbp3o127FsRt3oniaEUjT/MAwc1AhbVNVya/Ohjyc1nz9TckmScryYQeWMXh7PZMeu5285RKuNPW35PG2GHrqDENGzNk/cO8xdtJyYP+QzpiZ32RVWsL6Bhgh0oNNi4t6de3L228bFHdBBNp6PUGdIUlgAFF0VsmXxUrKz96dGhEiWKDk3GYnFJE1D9/Mn95JN4+zejV14Goc+c4cUJF+wCLBQBxRxbz3a/78RvxETMnDK+H4Xb2uHq2xte+hIzEdMtEtE2b4uHlhZPWFmtbW9P7kcG/sfboSWz9B9LD14vsncvJbtocJ60V+RkFKMqlkGEFBgM5aZmW7147hlLSIo+Tb6el54g+XHpIQhgbl+yl40P9LXNXSQVY29mjUYOjgz2NGtli76DF0fl2hnRuTmOHf8dQ2nu3ZfDgrqjV0Hrk+/xnSFNQa3Dr0pOmxcXERCUDkB1zjEVvfcY5t648+Hh7kuMTKPXwplM/T05sXce2g5Xvn+fCL6LT+eLn7WIaLiuEEKLhkYCZEEIIUY5CcV46qSkpJCbEExsbe+kVF0dicippaakkJycQe7Hs/dhY4hMSSUlNJSs3nxKzOeYbAmuv1gx/ZAL+unOsX7GVmKQoDmxcwm+bTmNQu+FCHhfPbmbptixa+LXAv9rJ1W9MKisbeo57jcFNSjh77AeW7vn3sXlZ50/x96owAu6fRt9/5++vgor+Dz7AyL6wa81mjpyM4cyRHSye/xvRNu7YqrRkJUexf9mXnPV7jCBPbbmGmgGlxid1Xk8FmTHs/GMJ3yxawfZ/0qEglh2bf+CXJWvYd/QilYcmLo/GqjljZzxGgO1+Fi/aT3zsOfauW85vf+xD7x+ApriAc0f2sn9fGHR8kFblPl3KhWOrmfv5HzS5/QW+/uIZOvhXPlfa1VHh7tmWTh3VRJ7+hwohM+fujBnzAD7Jhwneso2Yi2fZ/ddiFv9xlkZ2tmjIISF6L1/9eJHBQzvjaAduXk6XeuBZRMxUKhVYWeHha5oM79pTq7H1a4OLXk9qdDTRJzaz5KeNZHiPZVLPy4xGKgqKAoayfy8pobjUYPb/S4qL9aBSEdSzbdk7Cga9HkWlQqOxAvSkZhzn71NFNHJyI+NCGKciIgk/fREb93YMGdIVN5uC8gsFIJ1TkdFY+3YmoIkLNXSMFEIIcQuTgJkQQghhprQkhZX/9yovvPQW3/60gd379rJn7152b9/Cr1+9zcuvvMUnc39hx8H97N2zl337drH6l+94/YVn+HLJZuJyLJd4q2tEzzunMueVMTjmnOb4mVP8czqXHvfPZNnKn3nyDj+yIkPQ9hhDv9uCqPzZh3VLUZQKQ9eujgqtYy/+81Q3irJSWTdvJcUAZBJ+aC07ovyZ+HxNvcsu0ba5n7fenc1tLnpio05z+th+0j0e4vtff2bu65NonJvIqVPWPPPWSNyuyeMA605RQTqnD+4g5Fw6zQdO5pknh+Juc4HNwYc4F5tBnQySVWtoe/8cvnjrCYoi/+HchSjOnouj5b2fsmnNN4wf0oXE8AvYurblsSndzT6o50LYRhbN/wvvEdN5+/3xtHa/yP7DJ4hNqixocnUa+XjRdVAAyef2cqJcl0QAe/o/Po3XXhqIVdFFwk+d5PCRFIZMfZclP//AM3c1Jzn2CMWdnubeHl7YAr5B7dBooLTUPGKmUFRchMrKCs+mVT2+9RpQ29B2+DTmvPgEDunHOB15Hl2T3rw1Z4RlfK9elBSbP9jDnBUaKwdcrBxw8+rAHT370qdPL3p0G8ITz37A/O9fZ2i3SsZQF59k/+kEWgzsiX/Tm61HrBBCiDplOamZEEII0XAZlNzohUqgyku595lZysLlu5Tj4SeU8JOnlEPB65T/dFcr4KkMeeRr5eT5SOXE8RPKyZPHlW0rP1WGtndSej/4P+VYhuUyG47SkmKlUFeklJSb5VuvFBWXKvoqJnzfM3uo4qIarvwdm1FhcvArcWHbAmX80LuUT35PsEy6SiVK6rFvlWagOPsMVP5MVJTC2H3KzKEdlfte3GGZuRZKlcLCAkVvUTClxTql2FB5SRTmnVRebOuudLrje6WW09Tf0gyGYqWgwGLidkOpoi8pUkrKvalXYkLXKDMmjlNmf7NWiU7PU7Iys5Tw9TOVhye/p2w9mlkud90oUU789akytEVX5a3FsZaJJvpinVJYUGxxfJQqOp3FQxBytit3etgo975xWCkpy1taUqj8+Vp3xdH9fiUkxyzvdWNQDHqdUqCrfP81OrHyE2WwW0/lrS9DLZMUJX6pMrBdW+XlxbvMHmxRpHx7b3vltnsWKalZ/z40pHDPy4q1tbXy4S7jO8VK8rFPFV9bN+W13y9VxIUpx5UPH26n+HR+TNlt9kCOovhjyt6tG5SjMeZP3rgkfv1bSo/WfZUv/zxusR8JIYRoaKxmz5492zKIJoQQQjRIhlLCl73DdqcX+POnF+nV0Q9PDw883N2x1ifw+yc/caFJIJNf+5L7+njj4emBu7snLdu3hvRiKPXnroduuya9qG5EKrUVGo0V6nLdStRYWaksJnTP5cT2HRw4updlPy/lSHwMBmd38hPOoTRqjWdjDaor7ZqiUtHI25+O3bvi41KXPbTUaOw9Iew31oenYqXujK/tZub+XMDrP79JwGVvdBUajTVqi5nuVVYarKr48fqSVLYv+IkLjoN5emJ36mMw4c1EpbLC2to4E5zpTdRqK7MhFCVEhyzn5SkvsfyfWHT5iQSv/JUVf6zmh2+Xo2o1iofG3IHnZW+/mqhp0qQRGWd2sTMkiyGP3YGTZRZAbaVBY21lcXyo0GgofwzY+hJgF8uvCzfQuEsPWnhac3b/Et795CAjX53HhP6e16Q3V/VUqNQarDWVrIlSSMLZUHZu3cSGv9ay5sBRCjRWKCoDxQZb3L0aU5h0ii2/fsfvm3aTqm+EV7POtHQp4Nje35n/3SoOnc/D3bMZLbv4URxziGU/L2DDwTgK8aJZc2+8SyJY9PNCVu6MoqjUmcBAPwJa+uEf0IToI9vYuSMBexcnsuPD2LT6T6IKGtG6Uze8ym37JOb/3yeket/Hfybcg6eTDMYRQoiGTAJmQgghRJnS0ni+fuF37p3/Gd2bmF/05RN9fClvfb8L15a9eObVcbQsN5Inm7C959HbBjB0cBv+nZpaVK6YlAuxpGWnYeXZhf4Du+PV2ING9lZ4+La7qoCZtok3bTq0r+Ng2SVW1ja4eSSw5OedRJ0K4+zFKNzumMUbD5afKau+SMDsSpSQGp9Igd6Vrj274+vmiqe3D95e3rQN6sU9o++le6AH2rrfXbCyd8fNOZdDf60jzmYwAzpfzbBJNc179sRdnUG+tRP67FQyM5JwbDeGF56/A9PzNm5YenIzkomLSQFnbzr16kGXQB+01o3w8PbG26sx+ux4LiSV4NuhN4EtfGnu2wp/DysSzyVg1bwDvbv64erpR5uOvlhlxxGd25iuPfvTxrsR3i0C8LXP50Kqhq49b6dzSw+8/Frg5+OCs3cgfbq2pDgzlVJ7Z7T6LEocWtD/rvvp5F1+w0dv+pQFW/IZ/exUhnV1l7lrhBCigVMpdTvJhxBCCHHTSg2Zxehp3mzd/2z5XmKFyWz6eix3z9hPnzvfYu2mN/AwTy8OZe4nm8h3vJM3X+hmniJuMXlpR3mtXx/mR5bg3WY4P+7awt1elrnqR3F+LLN73sYmz08J/fsJy2RxIypJZsu3H/DjtlKe+vhz7gq06BF3BZTCdC7EZuPSvCXON36k7AZioLTUgMFghbV1xYi8khrM/6Z+i9LnP7zy/HA8rn5TCSGEuMlJDzMhhBANSknKMdYuX8GqDbtJ17SkdTMnSP2bX3eX0sGnMf4DhtKhWfknu+VnXmTN5+/x94UmDBozjSeGtSiXjmJFIzdvAtsH4OFiWz5N3FJsrB1p7HiWn/9M4I4HP+WtR1vV+1C44qwTrFq8iq2bf+W71fuIT48m11pNwvlM3Fq3pJFc2N+4rBzxbxuIbfohNv99Ctc2vWjW5Or6Lams7Wni2gStbPfLpEKtvjRE3JIhM4T5n68izesenpk0At9G9dDlUAghxE1HepgJIYRoMMJ+/4BPfztH1/tGEODpRNHpYE5bNSd687eoR6znxxfbWMy/BWAg+dxGJrS/l12unZnz3QFevbd8QE00JAbyMyPZtDoEv6GPc5v/1QU/akOfH8fRQ5Fk5adyMa0IW40Bxyb+eLp60r5He5pI4OSGV5B8llNRiTRqeTttvGXQ9o3GkHuWA6E5ePkFEuDnYJkshBCigZKAmRBCiAYh5Kc3mfbictq9/BFvvzwaX3sN+efmc/fQd9kdbeCb/ed4to9jJb2F8jgV/A6dh3+KT4fR/LxtLYPqZQiejvXvPcMXf8dyuWfmUn0Rzv79eea/r3J3T1fLZCGEEEIIIcRlkoCZEEKIW17ByYU88OA0Tjm/ysbVM+joY+whdoD7PIaxvfge9lz8haBKxrYphals+eJe7no9jN7DZrFh60xqE5JSFEBFJQG4qug5fyiYfy7mcbknZsVQim2jpnTuehstvLSWyUIIIYQQQojLJAEzIYQQt7hkvn3qQV5efJBJC/fzf+Nvo3HZiCglfgGt2j+PTa8vCNn4DA7WFYfXFaRH8NnDvZm124EnXvqdXz7qZ5kFAKW0lILcJML3rOO7H5di1+dFZkx9CP9yT9O8MYSHh3PixAmKi4tRXenjKIUQogHQ6/V06dKFzp07Y21d8aaKEEKIW5cEzIQQQtzSiqMWcueYl9kR3olVIb8xpntzjGGx04sf5rZnVnL/hxEserEtmgrxMgNpFzfyaIt72e/ejncXhvHySBvLTABkJp4l/HQCmqxQPnjvLRI7vstPc1+kg4tlzutvx44dbN++HZ1OJwEzIYSoRklJCUOHDmXYsGHY2spDXYQQoiGRgJkQQohb2vGf/8vD078hze8tdq2ZQQd/x7KUAn58tCdTf8/gi0On+c9tjStO+K/kExn8BoEjvsS37cMsP/Q7fRpb5CmjLy6ksMQa+9QtPPXURE43m8nPX06nXRPLnNVRKCoqtnyzVtRWVmg0mloNAc3PzycvLw9pAgghRPUURcHR0RFHR0e5wSCEEA2MBMyEEELc0g7Pm8wjr/2I+2M/serjJ/B1tSpLOcoTAcPZkHknOy8sJqhxxZ5jii6DrZ/fxZ1vnKDnkNls3TaDKuJl/0razITHxnG62euXGTDT8+f/t3f34VFV977Av4MIIgScCbe3tWCRHVoptVCYoFXAggcmIqfn9KAmtr0tVk4hqcceTm2QILYeEJi0SuvVvHjglvZWk/By8VqSmwkVPM5IEQJmFC4ozNRalbbOziCICCTZ5w9nbdas2XteAtGZ4ft5nnng2W/Ze621X9Zvr73Wg/+EB7aE0ZPhnbn77Cm4rrkF9y1dgW9MvkKdTUREREREGWLAjIiI8tprT/0QcxY+hgmLn8MT/zYDn4r1939qz4MouvlhDJ1Siz1b7saQgSKQds6p6Ovw/oMbD+0Zgu89uBXrlkxUF0nU64CZgRORtxE5cVadkZphoN+AwXAVDkfBoMTjICIiIiKizCT01kJERJRPvuCZglEjB+Mvb0Vgfu14bBu+Ne9/4Z0TPfhqyXQMuMQqyNSNUyf24Xf+Exg8bAgm3ZhGsOy8OFAwfASuvvrqzH+jR+NzI/47g2VERERERBcIA2ZERJTfht+Ox9f8EO8/sxyr1j+Fjb/8EWbPq8e7x9+DAyNx3VcLIeJl3d3HUHuXG6O1Imijx+ALY/8H9gE4+dc/4r45I1GkfQ7X3jAHv9x6VP0rRERERESUR/hJJhER5T2j5yxOHYsi+sEZ9PQfguHOl/Gdsbfh98fn4D+P1OHLVwwSS+LMqZM43fXRrdHoMYB+DjhiHT87HA7A0Q8DBl6OgZfadP7c608yiXKJge7T7+PY+w64CoekNdgEERERUS5hCzMiIsp7jn6X4nLXp/DZz34WIz99BQb8/3bsjL6Hz9wwDaMGXCoviQGDhqCgoAAFBQUYOmwohor/Dx360fQhg+2DZUR5zug+jX0NC3DtqM/DU/ZDLLjjRgwe5MS025fhD3/s3QivRERERNmIATMiIrp4OD4KdL3y4i58cLIbE26agEsv7a8u1TuGAQMAunpg9Bjo6elBdxcAGGBbbsoHRvdpBJ64A9978hpsO3IY2zavw6ZtO7Hv/z0AffMKfH2WB79+6QN1NSIiIqKcxIAZERFdJAx0nTmLrq7X0Ph/gjhxdigmfrkQZ892fRToOk+Rw8+jdsXduPXbD+K5jmPY31yPe7/zT/iXn23E4aMn1cWJcoyBU8eexfKHzuKXm+/Fp/sDjn4OoN9gXDP5Tjz879MQOfKf+MWPH8ChLnVdIiIiotzDPsyIiOgiEcG6Bd/FL7cdwPv9LkX/fg50d5/GZc552PTCUoy9fIC6AhEJRg/e2jgfI0vXo/Dq2WgKbMXNV4qZH+DVbWtQMusBfPj5G1H9q+24+waeT0RERJTb2MKMiIguEsNxd30zXgm/gfCRw3j99dcRCv0JB9ofYrCMKA3Hzp7FZQP64+zxIIIHzkpz+uMypwvDAJw5240PTvZVX2Y9+PD94zgW7cR7751EjzqbiIiI6AJiwIyIiIiIknP0wxdLH0PDivtQ+dOncM9MebCM03j/6Nv4G4BBlw2Es1CMOnsBdb2PN/c/h8d+Wol7F9yFHy2pxo4D7+Dt0CGE3jp+QT6rJiIiIpIxYEZEREREKfXr78Q//ngllt4zDXKbzJ73juH1HT7oGIDPF03H1ImXSHMvgK5j+MPGH2Ky+x6cLF6M32x4Bo8t/xp+8Y9fwIiiiZgz9zGcUNeBAcPoQY8YjIOIiIgoQwyYEREREVEvdeHt0Auor23Hp740ExUPLsbn1EUsnD3Tje7udD6q7MK+pyvwte/+b8xcvhEPlV4NwIFBBcX40fe+CPQbiPF/dxOGSmucOfUe3jh4AAdfO4zXDryK9pd247U338WHHIyAiIiIMsCAGRERERH1yof6ITSueRD+YTeh8v46fNN9mbqIwsCxt/Ziy29/jS1tryD6Qbe6QJwP39qIRfdsxqAhZahaNM6c3tPThaNvv4/+Qwrw1ZLJ56af1rH7mcfxQNUK/N8/hBF6ZTv+fcHfY2bJPDS88Bb7PSMiIqK0MWBGRERERBnrPnUULU8+hMdar8TDj/4KP/rWCHURC+9h46oVWHj33bhj4S+w65V31QUkBn6/eg12nzwD93e+h8/3O/fYeubsn/Bi25sYVvAV3Dh5YGxqD97oaMF//PwZuH9QjyV33YI53/xX/Gb9Wky/zIcHHnwI218zN0FERESUFANmRERERJSR7jPvou031Vjz9Hv48drNqPzm1eoiNgZgzKSJuOm6Cfj6LcX47KcL1AUk7fjNM4dxumcgbrp5AhwOR2x6Nz489hK2Hz6DEdosjBXxMpzG6a6j6Nj3Jrb9ditOxaY6R4/EWPe1eCcYxh/3/0ksTERERJQUA2ZERERElLaerpP4Q4MXP1v3Gsp/tRX3/sOnPpp+qhN/PrQT+99J1lnY5fja95Zhy66X8UzdD/DlUYPVBUw9fzuM0KkzACbB/ZXLcC5e1oW3nm/DwX6X4VrPTRiMs3j3yAFEewZh5OgSLHnkfsy7+2aYY3WePIkTnZ3o77oCQ5xyb2dERERE9hgwIyIiIqK0GD1dOOJ/Cr977jTu29CCb7rPjZf5wdFDaFu3Em2vicjW+ek3aBAuNQwMHXYtRg2/BOfiZaex85lduHTwFbhh5hfwwdEQGn76CF7rAoZ85sso+7dFuH3qp83tvLp3F3YE3sXXZt2MyW6nOZ2IiIgoGQbMiIiIiCg1owd/fH4d7v/BcrxVNA2OVzajacMGbNiwARs2bsST67fAf+BSjC26RF2zdwq+hIkjLkP/IYNxuQiXGd04/Nz/RO3WdzD08kmYWnwpon/die1/vgbXnIvdmf526HdYW78Bl0xagp/8613Q2MCMiIiI0uQwDMNQJxIRERERnWPg6L5f47uz78K2v6rzhIEYf1MFNj3/KIrUWb308tOL8O1/bsY3/uPXuOv6wXjtD37sen43Xj4cwPOvfhprf/8IIusfxZ8m/AzVd31OWrMbR0PPoW51Pd4eOA0/uO8efGXUBQrkERER0UWBATMiIiIiSs4w8OcXa7FywxEMGXgJenp61AWAngKMGTcL35l/Iy5X5vbee2ip8WLncTdumToQBwJBfOaWezCzYAdWPvE8Rt7wdzgbOoq/XzQfI/uLdbrxl7Afv/rF0+jSZuGuH9yGEf2O4uWOP6NnUBEmjXXF/wkiIiIiCwyYEREREVF26zmNU6eBQYPMITEBw0DX2bPoP0D+FrMb777hR92qdYiOnI4F378N/+2S0/hLRxNqN7+OL85egvI5n5GWJyIiIrLGgBkRERER5YFu/O2IDw/8879g3W4dX75uMpxdH6DL0Q9/O7Ifl4+7E6trnsCsC/W9KBEREeU1BsyIiIiIKA90IfLnl/G7p59DZMBA4MxpdMeecnt6enD1+Jtw84wb8alB6npEREREiRgwIyIiIiIiIiIikvRTJxAREREREREREV3MGDAjIiIiIiIiIiKSMGBGREREREREREQkYcCMiIiIiIiIiIhIwoAZERERERERERGRhAEzIiIiIiIiIiIiCQNmREREREREREREEgbMiIiIiIiIiIiIJAyYERERERERERERSRgwIyIiIiIiIiIikjBgRkREREREREREJGHAjIiIiIiIiIiISMKAGRERERERERERkYQBMyIiIiIiIiIiIgkDZkRERERERERERBIGzIiIiIiIiIiIiCQMmBEREREREREREUkYMCMiIiIiIiIiIpIwYEZERERERERERCRhwIyIiIiIiIiIiEjCgBkREREREREREZGEATMiIiIiIiIiIiIJA2ZEREREeaSsrAwOh8P8BYNBdREiIiIiSoEBM6IsVV1dHVfhSedXUlKibuaCC4fDcLlccDgcCAQC6uyskq1pSBce85ronMbGRtTV1QEAnE4nxo8fry6SF0pKShLO61S/6upqdTNElCGee0R0sWDAjChLbd++HQDg9XoRiURgGAaam5vN+YZhmL/S0lIAwIwZM8z5faWqqgrRaFSdnJWyNQ3pwmNeE8UbN24cAGDWrFnqrLzh8/ngdDrR0NBgnt9VVVUAAI/HY06LRCLQNA0AcMMNNyhbIaJM5cK5FwgEGKgjovPGgBlRlvL5fCgtLUVlZSUKCwsBAPv37wdiDyOyiRMnAh/Dw0ggEEBTUxOcTqc6KytlYxpS32BeE8XbuXMnAGD69OnqrLwgWjivWrUKZWVl5vS9e/cCSkC8sLAQRUVFAIApU6aY04kocxf7uSc+eQ+Hw+osIspDDJgRZSHxMLJy5cq46aIVjdoyRlT8+/phZN68eSgvL8fkyZMBAMePH1cXyRrZmoZ04TGviRKJ8n/99ders/LCzp07oWkaFixYEDfd5/MBFgHxGTNmJATPiShzF/O5Fw6H0dTUBE3TMHr0aHU2EeUhh2EYhjqRiLKTw+EAADQ3N2P27Nnq7D5VXV2N1atX4/Dhw/jWt74Fn88Hr9eLyspKddGs9kmmIX28mNd0MXO5XACAzs5OdVbeCgQCmDp1KgAgEomYrU2JqG9l47kn9ulCPauGw2GUlpaivb0d5eXlqKmpURchojzEFmZEOULuYP+6666Lm5dKOBxGRUUFioqKzM5Xy8rK0u60PxwOY/Xq1aipqcmKh6DeOp80pNzCvKZcIHecbTUIRTAYtJzX0tIS15m2OgpmMBhENBo1+y9raWlBcXExHA4HXC4XGhsb45ZX6bqO6upqcx2Hw4Hi4mK0tLSYy4j7ihgERt7HcDgcN1Kn3b0mEAigrKzM3IbL5UJFRQV0XVcXTYv4DNXtduf0vYrokxAMBi3Px5aWFrhcroTrjCzfzz2XywVN09De3g4AqK2tjbsG213jiCj3MWBGlCMOHDgA9OJhpLGxEZqmYc+ePdi8eTMMw0AoFEJ7ezumTp2a1k2+qqoKkydPNvuqOJ9m6IFYJ6y9/aWzv3Z6m4aUe5jXlAueeuqppJ8q7dq1CwBw5MiRuOmzZ8+OGwVzxIgRcfPFetOnT0dFRQX279+P1tZW+P1+RKNR3HnnnbZBqWAwiDFjxmD16tV46KGHzAE02tvb8e1vf9tcrqKiAtOmTUNnZyfcbjd8Ph8CgQCCwSDcbjeamprMZa+88krz/0JFRQWmTp0Kl8uF9vZ2RCIRTJ48GbW1tdi0aZO6eFr27dsH5PlAB5T/ejPqs/zrjcbGRkyYMAGhUAjPPvssDMNAe3s72tracOuttyIajSYdbTffz73Ozk7IH2WFQqG4wYTYxQNR/mLAjChH7NixAwBQXFyszrLV2NiIO++8E263G62trebDzujRo7FixQoAwOOPP66sFS8Q6+jf6/Wa00aNGgUAeOONN6Qls19v0pByE/OackFhYaHZx54aFINUjkOhkDoLI0eOBADcf//9CUFh0RJk7dq1GDVqlDkYhlypO3jwoLTGR4LBoDlIwI4dO8xPmcW/0WjUfGnR2tpqvkQRf7+goABz587FqlWrYMRGpHU6nQkvWSoqKlBbW2t+1jR69Oi4tNiyZUvc8ulqa2sDAFx77bXqLCKy0dLSEvesKK4To0ePNkeVThbYx0Vy7olrn9U1jYjyFwNmRDlCNAOfNm2aOsuSruuoqKgAAKxZsyahQiVaJMitAKzMmzcPXq/X8s1ib0YImjJlStxbuUx/5/MWL9M0pAtD/uws05/6KVq6mNeUK0QH2WpQTHQubWfr1q1wOp24++671Vlm5bWwsDCu7x65VZna6kvXdcydOxfRaBQ1NTWW13wAGDt2rDrJ7Ox7/vz5WL9+vdkZeGNjY0IfavX19aitrYWmabZ9AE2aNEmdlFI4HEY0GgUAc2AaolxUWVmZ8OyTyS8Tuq6bLUetnhWFZOfkJ33uqc8N4if6VFu8eHHCPPGrrq5WN2dLtFzP11Z0RGSNATOiHBAOh83KVLoPI5s2bUI0GoWmab0OMokHCasKWa7pTRpSbvo48lr00ST6eikqKlIXyduh59XPqq24XK6ENKmoqDDXWbp0ady8fCKnzfl8Qr5p0yZomma27JC3pes6GhsbLVuXyeVfDUi99NJLgE0LiU2bNiEUCkHTNLPlmFBfXw8AKC0tTfh7cr9Gt99+e8r7zZIlSwDAbOUs6LqOJ598EgBwxx13xM1Lx+7duwGgT0evCwQCcS8AxEspmVXZzwfyZ4JWLzJEf3tqmsh9p8p94OWTdK6J2Uo8K7rdbstzd+/evQCAG2+8UZ1l+jjOvWwgWvxOnDhRnUVEeYwBM6IcIB5GrCo5dsQnLaI5vUruoNWK6Og/FAph+PDhcQ+DixcvVhfPepmmoWihZ1UxoMy0trYmvAFP99fa2qpuLqW+zutwOAy32w2Xy4XOzk54vV7LCnJbW1va+5BLpkyZYgZkrD7TER3Oq9eWmpoaVFVVASkqX7kuEolA0zQgllapyC22RAswXdexevXqhKCSsG7dOsDmZcahQ4eA2LVdLXsvvvgiYNNCYu3atYB0zwgGg2hsbERJSQkWLlyI0tJSPPHEE8pa5/pLs2vtJmtpaTFbosycORO6riMQCGDp0qUYM2YMOjs70dzcbNu6LZkXXngBSHJPUwWDQZSUlKTdwqSlpQVTp07FvHnzYBgGPB6P2T2BYFf280FlZSUaGhoAwPx0VibKgZp3R44cMdMjXwdgmTJlCjo6OgCba2I2E+f97bffrs4CpPtpsrzr63MvFfW5Qfz8fj8AwOv1JswTv0xGzxQtd0WrYDvqoCclJSVJB0wgouzGgBlRDnj11VcBm0qOHfGJjF3FVHTQatfHk+joX324kB9CxINULkg3DcXocGPGjEFtba06m3JAX+f1z3/+c0SjUSxfvhyIVSStAnudnZ0Jn6PlG6vPdMaPHw/DMCxHYhTBkmuuuUad9bEqKyuzvfadL9ECK93Ko9xiS/QrtmzZMrOllwhOHD9+HIhVxhYvXozf/va3Ca29IAXFrCrAosIn+imTic+YV65cCYfDgblz52L9+vWYNGkSOjo60NjYaPn3REWwrKzMcr5s//795v+HDx+O4cOHY8WKFQiFQqipqcHhw4fN/tIytWfPHsDm2GRidM8JEyaY98l03HvvvXC73Wbru9bW1oTKdrKyn0++9KUvqZOwYMECGIZhfo4rE63dU5WPvuZyufqsdWtBQQFgc03MZuK8twoCyQHgZHnX1+deNpA/O032IkTXdfPaH4lEEIlEoOs6pk+fzqAZUY5iwIwoB4hKTm+agQ8dOlSdBF3Xzb5x5syZo842O/p/4IEH1FlxxMNDJtRPFzL99fYTp3TSUNd18y3qs88+q86mHNGXea3rOmpra+HxeJJWIPKdCJZn2sHznj17PvHPdoLBIJqamlIGVM9HKBTKaPuiRRpi18ja2lqsWbMmbhkRbKqoqEBpaaltYClZKwhROb7++uvjpsvX1UgkAsMwcOTIEbS2tuLhhx9OaDUkE38vnf4Ct2/fDsReyIgXMK2trWhsbEwr4GZH13Xz2MaNG6fONgUCAcyaNQvTpk0zRxlNR0tLC0KhkGUQ8mIiWhJlEvDWdT3j86Ev1NfXIxqN2r5EPF/vvPMOkOQlZSY+rlEy5QCO2qchpE+xk71c6OtzL1uIe16qFyGPPvoootEoVq5cicLCQhQWFmLNmjWIRqNYtWqVujgR5QAGzIiynPwwYlUB6o1t27YBsUqaVaVr3rx58Hg8Sd+i5ZJ007CwsBBtbW2orKzM6Nirq6tRXFxsPqwWFRUlvEkUb1blPq/sWiHouo6lS5fGLbt06dKE7VZXV8PlcsHlcpkVXjHN4XDEbV/dpsPhQHFxseU+tLS0xH1OUFxcnHA82aov83rp0qVmkM3n85npo/ZRJvdxJPfZo8c+/RRpqut63DSXy2WZH5DyT/QHlGlLiXTKaCAQiFumrKwMFRUVCf1ZQao4q33EiXUdDgd0qYN5SHnjdruTHrc8r6ioKCGdrNJc/QSmuLjYTC95uyUlJWYrCNGSyuFwmBVDWX19fUJ6qMcklpPzRXzam0kwUd7PRYsWoby83CyXV111lTmvuroau3fvtvw0UhDlX+2cXx7hTQ2AidYxUFq8paLHgiGwKAtWrrjiCgDAsGHD1FnnRfTNhhStP8aOHYuXXnoJZWVlSSv3spKSErNTdNF5uNUn2HZlX3x+5pD695KnWZ2LQjAYTPu+oRLnjNyHmFXgQy2/4vN0q3Oira0tIeAtvwSz2r7Im/Hjxyc9bnmeuOaoy6vSuWaJfucWLlwIALj11lvN5dV0T/c6K5aT82XRokVAhsHET9qJEyfM/6svMUTgHimC4X157mWTN998E1BeblhpampK6IpBpIt4uUBEOcYgoqzW3NxsADAAGJFIRJ1tS9M0A4DR3NwcNz0SiRhOp9MAYPj9/rh5hmEYXq/XAGB4vV51lsnv9/dqnz4pvU1DAIbH41EnmyKRiOF2uw2n02mmZVVVVcLfaWhoMJxOp1FaWmqEQqG45azyR92mvP9CeXm5UVdXZ0QiETO/qqqqDL/fb+aP+FtieU3TzGliGTWfy8vLDafTadTV1RmGYRgdHR0GAKO8vDxuuWzVV3kt1NXVWeabyu12J+yD2+02/H6/uY/Nzc1GeXm5EQqFzHy02oeOjg7D6XQaHo/HzL/S0tKEPLZiVZ7syqjI50gkYkQiEcPj8ViWESN2LE6nU51sHofb7VZnmWWuqqoq7rg1TYvbVrJ08nq9hqZpcdsV6eN2uxPOL6v0FGlnVz5EmmmaZqaZyPeGhoa4ZcvLyw0A5vkSCoXM62uqvJGJfXI6nYbT6YzbN5FuokwlK3tiWTWNDOkYRJpEIhGjtLTUnC/22ypd/H6/ZVqKPLL6e1bEPlRVVamzjEgkYpSXlyc9Pjsiv63KnR27a6CVVGXGsCn7oVDILJdiHzs6OoyqqiojEomY6We1D+KcFMuKcyWdtLY6J9xud0L6JCu/ouwL4vjkMiOI47DKV/FMUVdXZx6LuK+IbaVKJ4/Hk3APyvSaJdLDTrrXWXF9sLpHp5M32Qax+2VHR4c5Tb4Gqsev6utz73xcyL8jyrFcxkWZk9MHNvcdUTaTXUOIKDsxYEaUxcRDi3igyaQiIR4m5Qdmv99vbk+t+BlScER9KJBFYpUssZzVdrLJ+aSh3YOPIB6A5AdNv98f99AsKiDqw2QoFDJgUfmw2qaRZF9EnmmalrCOzGp9j8cTVykSD4RyGon9VCsr2agv81oQFcxkFQgjFrBW81wQQQO32x338Gy1D5FYgFvdVrr7YVWe1DIqKhVqWRTlwa7irO6rIZUXq+uH2J563GIf1b8jB3jsKhkifTRNi1smWUXJKj1lHo/HcDqdcWkrrqfy9U4OBMjE+pkQ24JFuRXHgjTOQ7EdNS8N5Z4gruNWxyMCEEbs+iKC6Op+GVJl2ervWRH5JQcbIpGI0dDQYGiaZpSWltrmtR0R6EAs4JjqnBCSlRFVOoGqZGXfkIIvch7a7YOYrm4rnf2wOye8Xm/c305WfmHxPj2d4J5VGRHbU8sulJdAgkgn9dhlmV6zxH3SbpuZXGetrqlG7HjU/ckFarn0x4Lj4rxKVt4+jnPvfFzIvyPuR+K8CsWCvHKZEn/P6t5od58jouyXeKcioqwhHijlXyYBqubm5rgAgqZpRnmspYaqrq7OfPARP/VB2pBu+uLndDoz2qePm5p+maQhbB58jBRv1GXigVutSIjKlbx9sU21YpHsYV9UVFI9EMqVFqv8FxUGsT8dHR1mJTaTB+FPkprPFyqvZSI9kkkVZBRlQn5wFnmsriNXACORiOH3+831rcqDLN0yKq4Rah7btapJVgmxCiwJdhUGuwqoVTqpRMBG/Xt2LQGTnUuGxbH5/X7D6/UmVKYjsaChVWXSGWtNmolkgS4jVj7VQKMVkZZWeRORWuC4Y634VN5YCz7Ezh+32214vV7bvyu2Z3WvsNPR0RH30kWkl9X+pCLyS/2pZdmKmtd2xPlslzdCsrJvSNcOOS3tWi56YkFXUTFvbm4201ot0ypxTiRbLlX5VQNHRpJglGETWBJEHqtlSExXWaWTKtNrlt31QEj3OpvqHp3JeZAt5OuC0+k0ymMBc3FMduX+4zj3zteF/juiTIh0Uc8F8fesniXs7n9ElP0YMCMismH34GNID05qJV8lgpAqqwdvuwBBsrf3ySoqskjscyfxsKc+QIq/IX6aphkej8eoi332me+S5bUgKpmplku34iyzqzjLwQvxt8vLyxPKiJV0yqhV4FbQbFrJ9bbibFcRF8eo0tJoTWO3rtgPteymqjjL5whiAaNSpSWWkSRQLSqZ6nTKPulWppO1rJIlK/t2QTcR4JHXEcuKn3iRUVVVZbltldX1RWVXfsXftgooiwq/Fbtz1S5AbXfdEdPVgJTMbl0jyTXLLpAmpHudtbtHi+uKOj2Xiet8XwQB0z33cpFd2Ux2/hBRdmOn/0REvSA6HVc7z1ZFo1F4PB51MrZu3QoonemKbaod5z7yyCMAYHY4L7PqhNlKYWEhampq0NHRAbfbjcWLF8eNjCc6tPX7/XEj5C1YsCCjTsDzmejceMaMGeqsOHYd4iOWx1Yjxm3ZsgWwWCcUCsHj8cSNKFhTU5NQRqykU0bFyG7qMYlRAdX9hDTSodqpPJKUx2AwiGg0mtApeDAYRCgUQmlpadx0u3RSifSR6bGRTN1ud0LZ3bFjB5CkY26RZiK99+zZY47gKBPnizqwxIYNGyynU+568cUXgTTy1K7sQxphTww4ITQ1NSWsI85Jr9cLwzDQ2dlpjlZqtW1VKBRKuI6o7MrvunXrAJuRHn0+n+UIgcnO1V27dgEWA2CIgYe+8Y1vxE0X6ZSsk/neXLNE3qjXAyHd66zdPXrt2rWW03PZxo0bAYsRdSk5p9MJn8+nTsbu3btTDhhARNmJATMiogtIDkLZCQaDZoVerYir6uvrEQqFLCv/oqJiVYkRgsFgXJBi/PjxWLNmDQBg586d0pLWwuFw3EiPF7P9+/cDFpVM1Z49exJGyRLsKs4+n8+sOFuNxKhqbGxMazkrqcqoruv4yU9+AthUnMWDv1oexYiJVuXx4MGDAIBRo0bFTV+8eDEAYMmSJXHTRTolC/bZWbZsGQBYVpzFiI4ib8QInKkEAoGEEfVU4rxGnlWcL3Z79+4FUuRpsrIPKYguBx/EeSjKaapyqOt62iNkWkl13svlV305I8q+GvAGgEOHDgE256pYb8SIEeY0XdexZMkSaJqG2267TVr6XDpZBeOTSXbN0nUd0Wg0bpRNdZRdO+lcZ8U9Wg3c5zJdGm3aKl/JnjzCqxAOhxGNRi3vSUSU/RgwIyKyUF9fD8Qq7lYVZfF2WywXDodRUVGBRYsWxT1gl5eXw+fzmZWVQCCAuXPnwul0mm+lBVGJF5Wi6upqDBs2DC6XC4g9xJaVlZnbEhUVNfgiO3jwINrb28391HUdTz/9NADEVVZEEOjxxx8397+xsRFutxvHjx83l8tHqfJaSNayStbe3g5N06DrOioqKuIqqq+++ioAYNy4cdIaHykqKoKu6ygpKTHX8Xg8ceUnHA6jrKzMbHWYTDpl9MorrwRirQl0XUcwGMSyZcswf/58czstLS1xgd1oNAqn02kenwioiqCYpmkIh8MoKSkx/46oCO/btw+IlcOKigr4fD40NDQkVMpEOqVq3aBpGnw+H8LhsLnNOXPmmPODwWDcfgjhcNjcR9FyEFKaVVdXA7H9rK6uxte//nVzGQC46qqrAMA8l1paWrBhwwYzncR6YjuUXeTr4Pbt25MGUOxaVsmSlX3EguiwCT6MGjUKwWAQ1113HXRdx9ixY+F0OvHkk0+a+xUIBFBSUmKeR8mIa4a4lomXJuJ4kUb5RewcEOX3xIkTQKz1jDg+sW/iRcLIkSMRCATittHW1gYAOHDgABA770pKSgAAmzdvTgi6i5cNVukk9OaaBSk4HggEMGvWrLg8T/c6K9+jdV1HfX29eY8W25fv0blKtADsC5mce7lowYIFAID58+ebZaKqqgpOpxP33XefujgR5QL1G00ioouZ6GfC6if3t6H2CSY6x1aJ5URfZpqmGV6bTrTlznc1TTP7WRKdOKsddYvpyfpN8cdGvJKPw6qzWiPWr43oy0V0/ptOnzm5Sk0Xu7wWRL6kIvp+kfNQEJ1Vq0RZUvM4ooxK63a7E/rTspNuGW1oaDDLZ3msw+dQbHRXp9NpVFVVxZXXZMcn0tQTG2VNcMdGE5OPxa4cGknSSdXR0WGWWflvivVLS0vjyrB8rGpaC1VVVWmdr+L8czqdZrqK/q7kaZRdRPmz+qnlQfS1lKxPLcGu7Nv1fRiRRvVVy2lHR4c5T8xX981OR0dH3LXN4/EknKdGivKraVpC31V2xxcKhcxzUFw/DGkgGa/Xax5LsvuKXTpZyfSaJY7VKq2NDK6zqe7RVtfEXKTeN5L1g5kJsU2rX7rlOxf4pRHpRZm7UGlIRB8/h/HRBYyIiIhsBINBTJgwAeXl5aipqVFnE1Eeqq+vx8KFC9HQ0JDQYomIiIjyHz/JJCIiSkF04it/7kdE+U0MxjFz5kx1FhEREV0EGDAjIiJKIhgMYvXq1fB4PJg9e7Y6m4jyUGNjI3w+H7xeb0JfW0RERHRx4CeZRERENkpKSrB7926UlZVh+fLlrDgTXQQcDgc0TcP3v/99VFZWqrOJiIjoIvFfNlpwdD2uCDoAAAAASUVORK5CYII=)"
      ],
      "metadata": {
        "id": "1L58uyzz_Cw7"
      }
    },
    {
      "cell_type": "code",
      "source": [
        "df.isna().sum()"
      ],
      "metadata": {
        "id": "bMMaPLlwIQLr",
        "colab": {
          "base_uri": "https://localhost:8080/",
          "height": 1000
        },
        "outputId": "9daeea80-ee89-48c9-ae13-960eaf64f5ac"
      },
      "execution_count": 11,
      "outputs": [
        {
          "output_type": "execute_result",
          "data": {
            "text/plain": [
              "Unnamed: 0            0\n",
              "Link_ID               0\n",
              "Cycle                 0\n",
              "Time_Tag_int          0\n",
              "rx_timetag2           0\n",
              "Elink                 0\n",
              "FE_id                 0\n",
              "DM_position           0\n",
              "FE_position           0\n",
              "chipID                0\n",
              "channelID             0\n",
              "time_raw              0\n",
              "time_end              0\n",
              "time_end_q            0\n",
              "t1fine                0\n",
              "t2fine                0\n",
              "qfine                 0\n",
              "tacID                 0\n",
              "t1coarse_int          0\n",
              "t2coarse_int          0\n",
              "qcoarse_int           0\n",
              "pcoarse_int           0\n",
              "qT1                   0\n",
              "time                  0\n",
              "t0                    0\n",
              "a0                    0\n",
              "a1                    0\n",
              "a2                    0\n",
              "qT2                   0\n",
              "timeEnd               0\n",
              "t0_t2                 0\n",
              "a0_t2                 0\n",
              "a1_t2                 0\n",
              "a2_t2                 0\n",
              "energy          2013440\n",
              "TOT                   0\n",
              "tqT                   0\n",
              "tqE                   0\n",
              "run_name              0\n",
              "dtype: int64"
            ],
            "text/html": [
              "<div>\n",
              "<style scoped>\n",
              "    .dataframe tbody tr th:only-of-type {\n",
              "        vertical-align: middle;\n",
              "    }\n",
              "\n",
              "    .dataframe tbody tr th {\n",
              "        vertical-align: top;\n",
              "    }\n",
              "\n",
              "    .dataframe thead th {\n",
              "        text-align: right;\n",
              "    }\n",
              "</style>\n",
              "<table border=\"1\" class=\"dataframe\">\n",
              "  <thead>\n",
              "    <tr style=\"text-align: right;\">\n",
              "      <th></th>\n",
              "      <th>0</th>\n",
              "    </tr>\n",
              "  </thead>\n",
              "  <tbody>\n",
              "    <tr>\n",
              "      <th>Unnamed: 0</th>\n",
              "      <td>0</td>\n",
              "    </tr>\n",
              "    <tr>\n",
              "      <th>Link_ID</th>\n",
              "      <td>0</td>\n",
              "    </tr>\n",
              "    <tr>\n",
              "      <th>Cycle</th>\n",
              "      <td>0</td>\n",
              "    </tr>\n",
              "    <tr>\n",
              "      <th>Time_Tag_int</th>\n",
              "      <td>0</td>\n",
              "    </tr>\n",
              "    <tr>\n",
              "      <th>rx_timetag2</th>\n",
              "      <td>0</td>\n",
              "    </tr>\n",
              "    <tr>\n",
              "      <th>Elink</th>\n",
              "      <td>0</td>\n",
              "    </tr>\n",
              "    <tr>\n",
              "      <th>FE_id</th>\n",
              "      <td>0</td>\n",
              "    </tr>\n",
              "    <tr>\n",
              "      <th>DM_position</th>\n",
              "      <td>0</td>\n",
              "    </tr>\n",
              "    <tr>\n",
              "      <th>FE_position</th>\n",
              "      <td>0</td>\n",
              "    </tr>\n",
              "    <tr>\n",
              "      <th>chipID</th>\n",
              "      <td>0</td>\n",
              "    </tr>\n",
              "    <tr>\n",
              "      <th>channelID</th>\n",
              "      <td>0</td>\n",
              "    </tr>\n",
              "    <tr>\n",
              "      <th>time_raw</th>\n",
              "      <td>0</td>\n",
              "    </tr>\n",
              "    <tr>\n",
              "      <th>time_end</th>\n",
              "      <td>0</td>\n",
              "    </tr>\n",
              "    <tr>\n",
              "      <th>time_end_q</th>\n",
              "      <td>0</td>\n",
              "    </tr>\n",
              "    <tr>\n",
              "      <th>t1fine</th>\n",
              "      <td>0</td>\n",
              "    </tr>\n",
              "    <tr>\n",
              "      <th>t2fine</th>\n",
              "      <td>0</td>\n",
              "    </tr>\n",
              "    <tr>\n",
              "      <th>qfine</th>\n",
              "      <td>0</td>\n",
              "    </tr>\n",
              "    <tr>\n",
              "      <th>tacID</th>\n",
              "      <td>0</td>\n",
              "    </tr>\n",
              "    <tr>\n",
              "      <th>t1coarse_int</th>\n",
              "      <td>0</td>\n",
              "    </tr>\n",
              "    <tr>\n",
              "      <th>t2coarse_int</th>\n",
              "      <td>0</td>\n",
              "    </tr>\n",
              "    <tr>\n",
              "      <th>qcoarse_int</th>\n",
              "      <td>0</td>\n",
              "    </tr>\n",
              "    <tr>\n",
              "      <th>pcoarse_int</th>\n",
              "      <td>0</td>\n",
              "    </tr>\n",
              "    <tr>\n",
              "      <th>qT1</th>\n",
              "      <td>0</td>\n",
              "    </tr>\n",
              "    <tr>\n",
              "      <th>time</th>\n",
              "      <td>0</td>\n",
              "    </tr>\n",
              "    <tr>\n",
              "      <th>t0</th>\n",
              "      <td>0</td>\n",
              "    </tr>\n",
              "    <tr>\n",
              "      <th>a0</th>\n",
              "      <td>0</td>\n",
              "    </tr>\n",
              "    <tr>\n",
              "      <th>a1</th>\n",
              "      <td>0</td>\n",
              "    </tr>\n",
              "    <tr>\n",
              "      <th>a2</th>\n",
              "      <td>0</td>\n",
              "    </tr>\n",
              "    <tr>\n",
              "      <th>qT2</th>\n",
              "      <td>0</td>\n",
              "    </tr>\n",
              "    <tr>\n",
              "      <th>timeEnd</th>\n",
              "      <td>0</td>\n",
              "    </tr>\n",
              "    <tr>\n",
              "      <th>t0_t2</th>\n",
              "      <td>0</td>\n",
              "    </tr>\n",
              "    <tr>\n",
              "      <th>a0_t2</th>\n",
              "      <td>0</td>\n",
              "    </tr>\n",
              "    <tr>\n",
              "      <th>a1_t2</th>\n",
              "      <td>0</td>\n",
              "    </tr>\n",
              "    <tr>\n",
              "      <th>a2_t2</th>\n",
              "      <td>0</td>\n",
              "    </tr>\n",
              "    <tr>\n",
              "      <th>energy</th>\n",
              "      <td>2013440</td>\n",
              "    </tr>\n",
              "    <tr>\n",
              "      <th>TOT</th>\n",
              "      <td>0</td>\n",
              "    </tr>\n",
              "    <tr>\n",
              "      <th>tqT</th>\n",
              "      <td>0</td>\n",
              "    </tr>\n",
              "    <tr>\n",
              "      <th>tqE</th>\n",
              "      <td>0</td>\n",
              "    </tr>\n",
              "    <tr>\n",
              "      <th>run_name</th>\n",
              "      <td>0</td>\n",
              "    </tr>\n",
              "  </tbody>\n",
              "</table>\n",
              "</div><br><label><b>dtype:</b> int64</label>"
            ]
          },
          "metadata": {},
          "execution_count": 11
        }
      ]
    },
    {
      "cell_type": "code",
      "source": [
        "df=df.dropna()"
      ],
      "metadata": {
        "id": "8ZfkumehISe8"
      },
      "execution_count": 12,
      "outputs": []
    },
    {
      "cell_type": "markdown",
      "source": [
        "# Data Visualization:\n",
        "\n",
        "See this Google Colab Notebook: https://colab.research.google.com/drive/1g0MdUU2ZNkoex1gZT1Le8cqB3b6J2ekt?usp=sharing\n",
        "\n",
        "\n"
      ],
      "metadata": {
        "id": "8e_zzwKIBCsE"
      }
    },
    {
      "cell_type": "markdown",
      "source": [
        "## Data Preparation:"
      ],
      "metadata": {
        "id": "ZCqzERiWuc5i"
      }
    },
    {
      "cell_type": "markdown",
      "source": [
        "1. Add Features that may assist the MLP to model the physics behavior:"
      ],
      "metadata": {
        "id": "z-soTU2Dy0zD"
      }
    },
    {
      "cell_type": "code",
      "source": [
        "df.columns"
      ],
      "metadata": {
        "colab": {
          "base_uri": "https://localhost:8080/"
        },
        "id": "R18f8mLg8HuA",
        "outputId": "83ed679b-af86-4270-96d4-7fbe22e8c6bd"
      },
      "execution_count": 13,
      "outputs": [
        {
          "output_type": "execute_result",
          "data": {
            "text/plain": [
              "Index(['Unnamed: 0', 'Link_ID', 'Cycle', 'Time_Tag_int', 'rx_timetag2',\n",
              "       'Elink', 'FE_id', 'DM_position', 'FE_position', 'chipID', 'channelID',\n",
              "       'time_raw', 'time_end', 'time_end_q', 't1fine', 't2fine', 'qfine',\n",
              "       'tacID', 't1coarse_int', 't2coarse_int', 'qcoarse_int', 'pcoarse_int',\n",
              "       'qT1', 'time', 't0', 'a0', 'a1', 'a2', 'qT2', 'timeEnd', 't0_t2',\n",
              "       'a0_t2', 'a1_t2', 'a2_t2', 'energy', 'TOT', 'tqT', 'tqE', 'run_name'],\n",
              "      dtype='object')"
            ]
          },
          "metadata": {},
          "execution_count": 13
        }
      ]
    },
    {
      "cell_type": "code",
      "source": [
        "from sklearn.preprocessing import LabelEncoder\n",
        "#Create a new feature that combines both parameters that we seek to predict:\n",
        "# df[\"Calibrated_t1fine\"]=df[\"t0\"]+df[\"qT1\"]\n",
        "\n",
        "feature_cols=['Elink', 'channelID','time_raw', \"t1fine\", \"tacID\"]\n",
        "              # \"t1coarse_int\", \"Link_ID\"]\n",
        "target_cols=[\"t0\", \"a0\",\"a1\",\"a2\"]\n",
        "# target_cols=[\"Calibrated_t1fine\"]\n",
        "\n",
        "categorical = ['Elink', 'channelID',\"tacID\"]\n",
        "              #  \"Link_ID\"]\n",
        "numeric = [c for c in feature_cols if c not in categorical]\n",
        "\n",
        "unique_elinks=df['Elink'].unique()\n",
        "\n",
        "# Split elinks into train and test (val+test)\n",
        "elinks_train_val, elinks_test = train_test_split(\n",
        "    unique_elinks, test_size=0.15, random_state=42\n",
        ")\n",
        "\n",
        "\n",
        "\n",
        "# # Encode 'Link_ID' for train_val and test sets\n",
        "# le = LabelEncoder()\n",
        "# df['Link_ID_encoded'] = le.fit_transform(df['Link_ID'])\n",
        "# numeric+=['Link_ID_encoded']\n",
        "# print(\"Numeric Columns are\", numeric)\n",
        "#Split the dataset according to the eLink\n",
        "df_train_val = df[df['Elink'].isin(elinks_train_val)].copy()\n",
        "df_test     = df[df['Elink'].isin(elinks_test)].copy()\n",
        "\n",
        "### Scale Numeric Values:\n",
        "\n",
        "from sklearn.preprocessing import StandardScaler\n",
        "\n",
        "scaler_X = StandardScaler()\n",
        "scaler_y = StandardScaler()\n",
        "\n",
        "train_numeric_scaled = scaler_X.fit_transform(df_train_val[numeric])\n",
        "test_numeric_scaled = scaler_X.transform(df_test[numeric])\n",
        "\n",
        "train_targets_scaled = scaler_y.fit_transform(df_train_val[target_cols])\n",
        "test_targets_scaled = scaler_y.transform(df_test[target_cols])"
      ],
      "metadata": {
        "id": "KwTNlDZDufFB"
      },
      "execution_count": 14,
      "outputs": []
    },
    {
      "cell_type": "markdown",
      "source": [
        "2. Encoding categorical variables: channelID, tacID, maybe Elink → categorical.\n",
        "\n",
        "- First map each categorical variable to an N-dimensional vector where N is usually the square root of the number of unique values for the category.\n",
        "- Then replace the categorical variables with that encoding.\n",
        "\n",
        "In this case, we will try a technique that has been utilized in NLP, which is entity embedding to embed and map our categorical variables.\n",
        "\n",
        "See: https://medium.com/data-science/enhancing-categorical-features-with-entity-embeddings-e6850a5e34ff\n",
        "\n",
        "\n",
        "However, the linkID doesn't need to be encoded using entity embedding, as the unique values in 'Link_ID' (4.0 and 14.0) were not mapped to a 0-based index. Therefore, it's more suitable to use LabelEncoder to encode the 'Link_ID' column as implemented above."
      ],
      "metadata": {
        "id": "a9Yl3tI1zzed"
      }
    },
    {
      "cell_type": "code",
      "source": [
        "import tensorflow as tf\n",
        "from tensorflow.keras import layers, models, regularizers, callbacks\n",
        "\n",
        "\n",
        "# Define embedding vocab sizes (from your data)\n",
        "channel_max = int(df['channelID'].max()) + 1\n",
        "tac_max = int(df['tacID'].max()) + 1\n",
        "elink_max = int(df['Elink'].max()) + 1\n",
        "\n",
        "print(\"Maximum channel:\", channel_max)\n",
        "print(\"Maximum TAC:\", tac_max)\n",
        "print(\"Maximum eLink:\", elink_max)\n",
        "\n",
        "def build_calibration_mlp(numeric_size, channel_vocab, tac_vocab, elink_vocab):\n",
        "    # --- Input layers ---\n",
        "    numeric_input = layers.Input(shape=(numeric_size,), name=\"numeric_input\")\n",
        "    channel_input = layers.Input(shape=(1,), dtype=\"int32\", name=\"channel_input\")\n",
        "    tac_input = layers.Input(shape=(1,), dtype=\"int32\", name=\"tac_input\")\n",
        "    elink_input = layers.Input(shape=(1,), dtype=\"int32\", name=\"elink_input\")\n",
        "\n",
        "    # --- Embedding layers ---\n",
        "    channel_emb = layers.Embedding(input_dim=channel_vocab, output_dim=8, name=\"channel_embedding\")(channel_input)\n",
        "    tac_emb = layers.Embedding(input_dim=tac_vocab, output_dim=4, name=\"tac_embedding\")(tac_input)\n",
        "    elink_emb = layers.Embedding(input_dim=elink_vocab, output_dim=8, name=\"elink_embedding\")(elink_input)\n",
        "\n",
        "    # Flatten embeddings (since Keras Embedding outputs [batch, 1, emb_dim])\n",
        "    channel_emb = layers.Flatten()(channel_emb)\n",
        "    tac_emb = layers.Flatten()(tac_emb)\n",
        "    elink_emb = layers.Flatten()(elink_emb)\n",
        "\n",
        "    # --- Numeric processing ---\n",
        "    numeric_fc = layers.Dense(16, activation=\"relu\", name=\"numeric_fc\")(numeric_input)\n",
        "\n",
        "    # --- Concatenate all representations ---\n",
        "    concat = layers.Concatenate()([numeric_fc, channel_emb, tac_emb, elink_emb])\n",
        "\n",
        "    # --- Fully connected layers ---\n",
        "    x = layers.Dense(128, activation=\"relu\",kernel_regularizer=regularizers.l2(0.001))(concat)\n",
        "    x = layers.Dropout(0.5)(x)  # Dropout layer with a dropout rate of 0.5\n",
        "    x = layers.Dense(64, activation=\"relu\",kernel_regularizer=regularizers.l2(0.001))(x)\n",
        "    x = layers.Dropout(0.3)(x)\n",
        "    x = layers.Dense(32, activation=\"relu\",kernel_regularizer=regularizers.l2(0.001))(x)\n",
        "    x = layers.Dropout(0.2)(x)\n",
        "    # --- Output layer ---\n",
        "    output = layers.Dense(4, name=\"output\")(x)  # 4 regression outputs\n",
        "\n",
        "    # --- Build model ---\n",
        "    model = models.Model(\n",
        "        inputs=[numeric_input, channel_input, tac_input, elink_input],\n",
        "        outputs=output,\n",
        "        name=\"CalibrationMLP\"\n",
        "    )\n",
        "\n",
        "    return model\n",
        "\n",
        "\n",
        "numeric_size = train_numeric_scaled.shape[1]\n",
        "print(\"numeric inputs size is\", numeric_size)\n",
        "# model = CalibrationMLP(numeric_size, channel_max, tac_max, elink_max)\n",
        "\n",
        "model = build_calibration_mlp(\n",
        "    numeric_size=numeric_size,\n",
        "    channel_vocab=channel_max,\n",
        "    tac_vocab=tac_max,\n",
        "    elink_vocab=elink_max\n",
        ")\n",
        "\n",
        "# Compile model\n",
        "model.compile(\n",
        "    optimizer=tf.keras.optimizers.Adam(learning_rate=1e-3),\n",
        "    loss=\"mse\",\n",
        "    metrics=[\"mae\"]\n",
        ")\n",
        "\n",
        "model.summary()\n"
      ],
      "metadata": {
        "colab": {
          "base_uri": "https://localhost:8080/",
          "height": 986
        },
        "id": "92o5Al5B8LFC",
        "outputId": "554cd25f-21c2-4f8e-8545-46dd65f57beb"
      },
      "execution_count": 15,
      "outputs": [
        {
          "output_type": "stream",
          "name": "stdout",
          "text": [
            "Maximum channel: 32\n",
            "Maximum TAC: 8\n",
            "Maximum eLink: 24\n",
            "numeric inputs size is 2\n"
          ]
        },
        {
          "output_type": "display_data",
          "data": {
            "text/plain": [
              "\u001b[1mModel: \"CalibrationMLP\"\u001b[0m\n"
            ],
            "text/html": [
              "<pre style=\"white-space:pre;overflow-x:auto;line-height:normal;font-family:Menlo,'DejaVu Sans Mono',consolas,'Courier New',monospace\"><span style=\"font-weight: bold\">Model: \"CalibrationMLP\"</span>\n",
              "</pre>\n"
            ]
          },
          "metadata": {}
        },
        {
          "output_type": "display_data",
          "data": {
            "text/plain": [
              "┏━━━━━━━━━━━━━━━━━━━━━┳━━━━━━━━━━━━━━━━━━━┳━━━━━━━━━━━━┳━━━━━━━━━━━━━━━━━━━┓\n",
              "┃\u001b[1m \u001b[0m\u001b[1mLayer (type)       \u001b[0m\u001b[1m \u001b[0m┃\u001b[1m \u001b[0m\u001b[1mOutput Shape     \u001b[0m\u001b[1m \u001b[0m┃\u001b[1m \u001b[0m\u001b[1m   Param #\u001b[0m\u001b[1m \u001b[0m┃\u001b[1m \u001b[0m\u001b[1mConnected to     \u001b[0m\u001b[1m \u001b[0m┃\n",
              "┡━━━━━━━━━━━━━━━━━━━━━╇━━━━━━━━━━━━━━━━━━━╇━━━━━━━━━━━━╇━━━━━━━━━━━━━━━━━━━┩\n",
              "│ channel_input       │ (\u001b[38;5;45mNone\u001b[0m, \u001b[38;5;34m1\u001b[0m)         │          \u001b[38;5;34m0\u001b[0m │ -                 │\n",
              "│ (\u001b[38;5;33mInputLayer\u001b[0m)        │                   │            │                   │\n",
              "├─────────────────────┼───────────────────┼────────────┼───────────────────┤\n",
              "│ tac_input           │ (\u001b[38;5;45mNone\u001b[0m, \u001b[38;5;34m1\u001b[0m)         │          \u001b[38;5;34m0\u001b[0m │ -                 │\n",
              "│ (\u001b[38;5;33mInputLayer\u001b[0m)        │                   │            │                   │\n",
              "├─────────────────────┼───────────────────┼────────────┼───────────────────┤\n",
              "│ elink_input         │ (\u001b[38;5;45mNone\u001b[0m, \u001b[38;5;34m1\u001b[0m)         │          \u001b[38;5;34m0\u001b[0m │ -                 │\n",
              "│ (\u001b[38;5;33mInputLayer\u001b[0m)        │                   │            │                   │\n",
              "├─────────────────────┼───────────────────┼────────────┼───────────────────┤\n",
              "│ numeric_input       │ (\u001b[38;5;45mNone\u001b[0m, \u001b[38;5;34m2\u001b[0m)         │          \u001b[38;5;34m0\u001b[0m │ -                 │\n",
              "│ (\u001b[38;5;33mInputLayer\u001b[0m)        │                   │            │                   │\n",
              "├─────────────────────┼───────────────────┼────────────┼───────────────────┤\n",
              "│ channel_embedding   │ (\u001b[38;5;45mNone\u001b[0m, \u001b[38;5;34m1\u001b[0m, \u001b[38;5;34m8\u001b[0m)      │        \u001b[38;5;34m256\u001b[0m │ channel_input[\u001b[38;5;34m0\u001b[0m]… │\n",
              "│ (\u001b[38;5;33mEmbedding\u001b[0m)         │                   │            │                   │\n",
              "├─────────────────────┼───────────────────┼────────────┼───────────────────┤\n",
              "│ tac_embedding       │ (\u001b[38;5;45mNone\u001b[0m, \u001b[38;5;34m1\u001b[0m, \u001b[38;5;34m4\u001b[0m)      │         \u001b[38;5;34m32\u001b[0m │ tac_input[\u001b[38;5;34m0\u001b[0m][\u001b[38;5;34m0\u001b[0m]   │\n",
              "│ (\u001b[38;5;33mEmbedding\u001b[0m)         │                   │            │                   │\n",
              "├─────────────────────┼───────────────────┼────────────┼───────────────────┤\n",
              "│ elink_embedding     │ (\u001b[38;5;45mNone\u001b[0m, \u001b[38;5;34m1\u001b[0m, \u001b[38;5;34m8\u001b[0m)      │        \u001b[38;5;34m192\u001b[0m │ elink_input[\u001b[38;5;34m0\u001b[0m][\u001b[38;5;34m0\u001b[0m] │\n",
              "│ (\u001b[38;5;33mEmbedding\u001b[0m)         │                   │            │                   │\n",
              "├─────────────────────┼───────────────────┼────────────┼───────────────────┤\n",
              "│ numeric_fc (\u001b[38;5;33mDense\u001b[0m)  │ (\u001b[38;5;45mNone\u001b[0m, \u001b[38;5;34m16\u001b[0m)        │         \u001b[38;5;34m48\u001b[0m │ numeric_input[\u001b[38;5;34m0\u001b[0m]… │\n",
              "├─────────────────────┼───────────────────┼────────────┼───────────────────┤\n",
              "│ flatten (\u001b[38;5;33mFlatten\u001b[0m)   │ (\u001b[38;5;45mNone\u001b[0m, \u001b[38;5;34m8\u001b[0m)         │          \u001b[38;5;34m0\u001b[0m │ channel_embeddin… │\n",
              "├─────────────────────┼───────────────────┼────────────┼───────────────────┤\n",
              "│ flatten_1 (\u001b[38;5;33mFlatten\u001b[0m) │ (\u001b[38;5;45mNone\u001b[0m, \u001b[38;5;34m4\u001b[0m)         │          \u001b[38;5;34m0\u001b[0m │ tac_embedding[\u001b[38;5;34m0\u001b[0m]… │\n",
              "├─────────────────────┼───────────────────┼────────────┼───────────────────┤\n",
              "│ flatten_2 (\u001b[38;5;33mFlatten\u001b[0m) │ (\u001b[38;5;45mNone\u001b[0m, \u001b[38;5;34m8\u001b[0m)         │          \u001b[38;5;34m0\u001b[0m │ elink_embedding[\u001b[38;5;34m…\u001b[0m │\n",
              "├─────────────────────┼───────────────────┼────────────┼───────────────────┤\n",
              "│ concatenate         │ (\u001b[38;5;45mNone\u001b[0m, \u001b[38;5;34m36\u001b[0m)        │          \u001b[38;5;34m0\u001b[0m │ numeric_fc[\u001b[38;5;34m0\u001b[0m][\u001b[38;5;34m0\u001b[0m], │\n",
              "│ (\u001b[38;5;33mConcatenate\u001b[0m)       │                   │            │ flatten[\u001b[38;5;34m0\u001b[0m][\u001b[38;5;34m0\u001b[0m],    │\n",
              "│                     │                   │            │ flatten_1[\u001b[38;5;34m0\u001b[0m][\u001b[38;5;34m0\u001b[0m],  │\n",
              "│                     │                   │            │ flatten_2[\u001b[38;5;34m0\u001b[0m][\u001b[38;5;34m0\u001b[0m]   │\n",
              "├─────────────────────┼───────────────────┼────────────┼───────────────────┤\n",
              "│ dense (\u001b[38;5;33mDense\u001b[0m)       │ (\u001b[38;5;45mNone\u001b[0m, \u001b[38;5;34m128\u001b[0m)       │      \u001b[38;5;34m4,736\u001b[0m │ concatenate[\u001b[38;5;34m0\u001b[0m][\u001b[38;5;34m0\u001b[0m] │\n",
              "├─────────────────────┼───────────────────┼────────────┼───────────────────┤\n",
              "│ dropout (\u001b[38;5;33mDropout\u001b[0m)   │ (\u001b[38;5;45mNone\u001b[0m, \u001b[38;5;34m128\u001b[0m)       │          \u001b[38;5;34m0\u001b[0m │ dense[\u001b[38;5;34m0\u001b[0m][\u001b[38;5;34m0\u001b[0m]       │\n",
              "├─────────────────────┼───────────────────┼────────────┼───────────────────┤\n",
              "│ dense_1 (\u001b[38;5;33mDense\u001b[0m)     │ (\u001b[38;5;45mNone\u001b[0m, \u001b[38;5;34m64\u001b[0m)        │      \u001b[38;5;34m8,256\u001b[0m │ dropout[\u001b[38;5;34m0\u001b[0m][\u001b[38;5;34m0\u001b[0m]     │\n",
              "├─────────────────────┼───────────────────┼────────────┼───────────────────┤\n",
              "│ dropout_1 (\u001b[38;5;33mDropout\u001b[0m) │ (\u001b[38;5;45mNone\u001b[0m, \u001b[38;5;34m64\u001b[0m)        │          \u001b[38;5;34m0\u001b[0m │ dense_1[\u001b[38;5;34m0\u001b[0m][\u001b[38;5;34m0\u001b[0m]     │\n",
              "├─────────────────────┼───────────────────┼────────────┼───────────────────┤\n",
              "│ dense_2 (\u001b[38;5;33mDense\u001b[0m)     │ (\u001b[38;5;45mNone\u001b[0m, \u001b[38;5;34m32\u001b[0m)        │      \u001b[38;5;34m2,080\u001b[0m │ dropout_1[\u001b[38;5;34m0\u001b[0m][\u001b[38;5;34m0\u001b[0m]   │\n",
              "├─────────────────────┼───────────────────┼────────────┼───────────────────┤\n",
              "│ dropout_2 (\u001b[38;5;33mDropout\u001b[0m) │ (\u001b[38;5;45mNone\u001b[0m, \u001b[38;5;34m32\u001b[0m)        │          \u001b[38;5;34m0\u001b[0m │ dense_2[\u001b[38;5;34m0\u001b[0m][\u001b[38;5;34m0\u001b[0m]     │\n",
              "├─────────────────────┼───────────────────┼────────────┼───────────────────┤\n",
              "│ output (\u001b[38;5;33mDense\u001b[0m)      │ (\u001b[38;5;45mNone\u001b[0m, \u001b[38;5;34m4\u001b[0m)         │        \u001b[38;5;34m132\u001b[0m │ dropout_2[\u001b[38;5;34m0\u001b[0m][\u001b[38;5;34m0\u001b[0m]   │\n",
              "└─────────────────────┴───────────────────┴────────────┴───────────────────┘\n"
            ],
            "text/html": [
              "<pre style=\"white-space:pre;overflow-x:auto;line-height:normal;font-family:Menlo,'DejaVu Sans Mono',consolas,'Courier New',monospace\">┏━━━━━━━━━━━━━━━━━━━━━┳━━━━━━━━━━━━━━━━━━━┳━━━━━━━━━━━━┳━━━━━━━━━━━━━━━━━━━┓\n",
              "┃<span style=\"font-weight: bold\"> Layer (type)        </span>┃<span style=\"font-weight: bold\"> Output Shape      </span>┃<span style=\"font-weight: bold\">    Param # </span>┃<span style=\"font-weight: bold\"> Connected to      </span>┃\n",
              "┡━━━━━━━━━━━━━━━━━━━━━╇━━━━━━━━━━━━━━━━━━━╇━━━━━━━━━━━━╇━━━━━━━━━━━━━━━━━━━┩\n",
              "│ channel_input       │ (<span style=\"color: #00d7ff; text-decoration-color: #00d7ff\">None</span>, <span style=\"color: #00af00; text-decoration-color: #00af00\">1</span>)         │          <span style=\"color: #00af00; text-decoration-color: #00af00\">0</span> │ -                 │\n",
              "│ (<span style=\"color: #0087ff; text-decoration-color: #0087ff\">InputLayer</span>)        │                   │            │                   │\n",
              "├─────────────────────┼───────────────────┼────────────┼───────────────────┤\n",
              "│ tac_input           │ (<span style=\"color: #00d7ff; text-decoration-color: #00d7ff\">None</span>, <span style=\"color: #00af00; text-decoration-color: #00af00\">1</span>)         │          <span style=\"color: #00af00; text-decoration-color: #00af00\">0</span> │ -                 │\n",
              "│ (<span style=\"color: #0087ff; text-decoration-color: #0087ff\">InputLayer</span>)        │                   │            │                   │\n",
              "├─────────────────────┼───────────────────┼────────────┼───────────────────┤\n",
              "│ elink_input         │ (<span style=\"color: #00d7ff; text-decoration-color: #00d7ff\">None</span>, <span style=\"color: #00af00; text-decoration-color: #00af00\">1</span>)         │          <span style=\"color: #00af00; text-decoration-color: #00af00\">0</span> │ -                 │\n",
              "│ (<span style=\"color: #0087ff; text-decoration-color: #0087ff\">InputLayer</span>)        │                   │            │                   │\n",
              "├─────────────────────┼───────────────────┼────────────┼───────────────────┤\n",
              "│ numeric_input       │ (<span style=\"color: #00d7ff; text-decoration-color: #00d7ff\">None</span>, <span style=\"color: #00af00; text-decoration-color: #00af00\">2</span>)         │          <span style=\"color: #00af00; text-decoration-color: #00af00\">0</span> │ -                 │\n",
              "│ (<span style=\"color: #0087ff; text-decoration-color: #0087ff\">InputLayer</span>)        │                   │            │                   │\n",
              "├─────────────────────┼───────────────────┼────────────┼───────────────────┤\n",
              "│ channel_embedding   │ (<span style=\"color: #00d7ff; text-decoration-color: #00d7ff\">None</span>, <span style=\"color: #00af00; text-decoration-color: #00af00\">1</span>, <span style=\"color: #00af00; text-decoration-color: #00af00\">8</span>)      │        <span style=\"color: #00af00; text-decoration-color: #00af00\">256</span> │ channel_input[<span style=\"color: #00af00; text-decoration-color: #00af00\">0</span>]… │\n",
              "│ (<span style=\"color: #0087ff; text-decoration-color: #0087ff\">Embedding</span>)         │                   │            │                   │\n",
              "├─────────────────────┼───────────────────┼────────────┼───────────────────┤\n",
              "│ tac_embedding       │ (<span style=\"color: #00d7ff; text-decoration-color: #00d7ff\">None</span>, <span style=\"color: #00af00; text-decoration-color: #00af00\">1</span>, <span style=\"color: #00af00; text-decoration-color: #00af00\">4</span>)      │         <span style=\"color: #00af00; text-decoration-color: #00af00\">32</span> │ tac_input[<span style=\"color: #00af00; text-decoration-color: #00af00\">0</span>][<span style=\"color: #00af00; text-decoration-color: #00af00\">0</span>]   │\n",
              "│ (<span style=\"color: #0087ff; text-decoration-color: #0087ff\">Embedding</span>)         │                   │            │                   │\n",
              "├─────────────────────┼───────────────────┼────────────┼───────────────────┤\n",
              "│ elink_embedding     │ (<span style=\"color: #00d7ff; text-decoration-color: #00d7ff\">None</span>, <span style=\"color: #00af00; text-decoration-color: #00af00\">1</span>, <span style=\"color: #00af00; text-decoration-color: #00af00\">8</span>)      │        <span style=\"color: #00af00; text-decoration-color: #00af00\">192</span> │ elink_input[<span style=\"color: #00af00; text-decoration-color: #00af00\">0</span>][<span style=\"color: #00af00; text-decoration-color: #00af00\">0</span>] │\n",
              "│ (<span style=\"color: #0087ff; text-decoration-color: #0087ff\">Embedding</span>)         │                   │            │                   │\n",
              "├─────────────────────┼───────────────────┼────────────┼───────────────────┤\n",
              "│ numeric_fc (<span style=\"color: #0087ff; text-decoration-color: #0087ff\">Dense</span>)  │ (<span style=\"color: #00d7ff; text-decoration-color: #00d7ff\">None</span>, <span style=\"color: #00af00; text-decoration-color: #00af00\">16</span>)        │         <span style=\"color: #00af00; text-decoration-color: #00af00\">48</span> │ numeric_input[<span style=\"color: #00af00; text-decoration-color: #00af00\">0</span>]… │\n",
              "├─────────────────────┼───────────────────┼────────────┼───────────────────┤\n",
              "│ flatten (<span style=\"color: #0087ff; text-decoration-color: #0087ff\">Flatten</span>)   │ (<span style=\"color: #00d7ff; text-decoration-color: #00d7ff\">None</span>, <span style=\"color: #00af00; text-decoration-color: #00af00\">8</span>)         │          <span style=\"color: #00af00; text-decoration-color: #00af00\">0</span> │ channel_embeddin… │\n",
              "├─────────────────────┼───────────────────┼────────────┼───────────────────┤\n",
              "│ flatten_1 (<span style=\"color: #0087ff; text-decoration-color: #0087ff\">Flatten</span>) │ (<span style=\"color: #00d7ff; text-decoration-color: #00d7ff\">None</span>, <span style=\"color: #00af00; text-decoration-color: #00af00\">4</span>)         │          <span style=\"color: #00af00; text-decoration-color: #00af00\">0</span> │ tac_embedding[<span style=\"color: #00af00; text-decoration-color: #00af00\">0</span>]… │\n",
              "├─────────────────────┼───────────────────┼────────────┼───────────────────┤\n",
              "│ flatten_2 (<span style=\"color: #0087ff; text-decoration-color: #0087ff\">Flatten</span>) │ (<span style=\"color: #00d7ff; text-decoration-color: #00d7ff\">None</span>, <span style=\"color: #00af00; text-decoration-color: #00af00\">8</span>)         │          <span style=\"color: #00af00; text-decoration-color: #00af00\">0</span> │ elink_embedding[<span style=\"color: #00af00; text-decoration-color: #00af00\">…</span> │\n",
              "├─────────────────────┼───────────────────┼────────────┼───────────────────┤\n",
              "│ concatenate         │ (<span style=\"color: #00d7ff; text-decoration-color: #00d7ff\">None</span>, <span style=\"color: #00af00; text-decoration-color: #00af00\">36</span>)        │          <span style=\"color: #00af00; text-decoration-color: #00af00\">0</span> │ numeric_fc[<span style=\"color: #00af00; text-decoration-color: #00af00\">0</span>][<span style=\"color: #00af00; text-decoration-color: #00af00\">0</span>], │\n",
              "│ (<span style=\"color: #0087ff; text-decoration-color: #0087ff\">Concatenate</span>)       │                   │            │ flatten[<span style=\"color: #00af00; text-decoration-color: #00af00\">0</span>][<span style=\"color: #00af00; text-decoration-color: #00af00\">0</span>],    │\n",
              "│                     │                   │            │ flatten_1[<span style=\"color: #00af00; text-decoration-color: #00af00\">0</span>][<span style=\"color: #00af00; text-decoration-color: #00af00\">0</span>],  │\n",
              "│                     │                   │            │ flatten_2[<span style=\"color: #00af00; text-decoration-color: #00af00\">0</span>][<span style=\"color: #00af00; text-decoration-color: #00af00\">0</span>]   │\n",
              "├─────────────────────┼───────────────────┼────────────┼───────────────────┤\n",
              "│ dense (<span style=\"color: #0087ff; text-decoration-color: #0087ff\">Dense</span>)       │ (<span style=\"color: #00d7ff; text-decoration-color: #00d7ff\">None</span>, <span style=\"color: #00af00; text-decoration-color: #00af00\">128</span>)       │      <span style=\"color: #00af00; text-decoration-color: #00af00\">4,736</span> │ concatenate[<span style=\"color: #00af00; text-decoration-color: #00af00\">0</span>][<span style=\"color: #00af00; text-decoration-color: #00af00\">0</span>] │\n",
              "├─────────────────────┼───────────────────┼────────────┼───────────────────┤\n",
              "│ dropout (<span style=\"color: #0087ff; text-decoration-color: #0087ff\">Dropout</span>)   │ (<span style=\"color: #00d7ff; text-decoration-color: #00d7ff\">None</span>, <span style=\"color: #00af00; text-decoration-color: #00af00\">128</span>)       │          <span style=\"color: #00af00; text-decoration-color: #00af00\">0</span> │ dense[<span style=\"color: #00af00; text-decoration-color: #00af00\">0</span>][<span style=\"color: #00af00; text-decoration-color: #00af00\">0</span>]       │\n",
              "├─────────────────────┼───────────────────┼────────────┼───────────────────┤\n",
              "│ dense_1 (<span style=\"color: #0087ff; text-decoration-color: #0087ff\">Dense</span>)     │ (<span style=\"color: #00d7ff; text-decoration-color: #00d7ff\">None</span>, <span style=\"color: #00af00; text-decoration-color: #00af00\">64</span>)        │      <span style=\"color: #00af00; text-decoration-color: #00af00\">8,256</span> │ dropout[<span style=\"color: #00af00; text-decoration-color: #00af00\">0</span>][<span style=\"color: #00af00; text-decoration-color: #00af00\">0</span>]     │\n",
              "├─────────────────────┼───────────────────┼────────────┼───────────────────┤\n",
              "│ dropout_1 (<span style=\"color: #0087ff; text-decoration-color: #0087ff\">Dropout</span>) │ (<span style=\"color: #00d7ff; text-decoration-color: #00d7ff\">None</span>, <span style=\"color: #00af00; text-decoration-color: #00af00\">64</span>)        │          <span style=\"color: #00af00; text-decoration-color: #00af00\">0</span> │ dense_1[<span style=\"color: #00af00; text-decoration-color: #00af00\">0</span>][<span style=\"color: #00af00; text-decoration-color: #00af00\">0</span>]     │\n",
              "├─────────────────────┼───────────────────┼────────────┼───────────────────┤\n",
              "│ dense_2 (<span style=\"color: #0087ff; text-decoration-color: #0087ff\">Dense</span>)     │ (<span style=\"color: #00d7ff; text-decoration-color: #00d7ff\">None</span>, <span style=\"color: #00af00; text-decoration-color: #00af00\">32</span>)        │      <span style=\"color: #00af00; text-decoration-color: #00af00\">2,080</span> │ dropout_1[<span style=\"color: #00af00; text-decoration-color: #00af00\">0</span>][<span style=\"color: #00af00; text-decoration-color: #00af00\">0</span>]   │\n",
              "├─────────────────────┼───────────────────┼────────────┼───────────────────┤\n",
              "│ dropout_2 (<span style=\"color: #0087ff; text-decoration-color: #0087ff\">Dropout</span>) │ (<span style=\"color: #00d7ff; text-decoration-color: #00d7ff\">None</span>, <span style=\"color: #00af00; text-decoration-color: #00af00\">32</span>)        │          <span style=\"color: #00af00; text-decoration-color: #00af00\">0</span> │ dense_2[<span style=\"color: #00af00; text-decoration-color: #00af00\">0</span>][<span style=\"color: #00af00; text-decoration-color: #00af00\">0</span>]     │\n",
              "├─────────────────────┼───────────────────┼────────────┼───────────────────┤\n",
              "│ output (<span style=\"color: #0087ff; text-decoration-color: #0087ff\">Dense</span>)      │ (<span style=\"color: #00d7ff; text-decoration-color: #00d7ff\">None</span>, <span style=\"color: #00af00; text-decoration-color: #00af00\">4</span>)         │        <span style=\"color: #00af00; text-decoration-color: #00af00\">132</span> │ dropout_2[<span style=\"color: #00af00; text-decoration-color: #00af00\">0</span>][<span style=\"color: #00af00; text-decoration-color: #00af00\">0</span>]   │\n",
              "└─────────────────────┴───────────────────┴────────────┴───────────────────┘\n",
              "</pre>\n"
            ]
          },
          "metadata": {}
        },
        {
          "output_type": "display_data",
          "data": {
            "text/plain": [
              "\u001b[1m Total params: \u001b[0m\u001b[38;5;34m15,732\u001b[0m (61.45 KB)\n"
            ],
            "text/html": [
              "<pre style=\"white-space:pre;overflow-x:auto;line-height:normal;font-family:Menlo,'DejaVu Sans Mono',consolas,'Courier New',monospace\"><span style=\"font-weight: bold\"> Total params: </span><span style=\"color: #00af00; text-decoration-color: #00af00\">15,732</span> (61.45 KB)\n",
              "</pre>\n"
            ]
          },
          "metadata": {}
        },
        {
          "output_type": "display_data",
          "data": {
            "text/plain": [
              "\u001b[1m Trainable params: \u001b[0m\u001b[38;5;34m15,732\u001b[0m (61.45 KB)\n"
            ],
            "text/html": [
              "<pre style=\"white-space:pre;overflow-x:auto;line-height:normal;font-family:Menlo,'DejaVu Sans Mono',consolas,'Courier New',monospace\"><span style=\"font-weight: bold\"> Trainable params: </span><span style=\"color: #00af00; text-decoration-color: #00af00\">15,732</span> (61.45 KB)\n",
              "</pre>\n"
            ]
          },
          "metadata": {}
        },
        {
          "output_type": "display_data",
          "data": {
            "text/plain": [
              "\u001b[1m Non-trainable params: \u001b[0m\u001b[38;5;34m0\u001b[0m (0.00 B)\n"
            ],
            "text/html": [
              "<pre style=\"white-space:pre;overflow-x:auto;line-height:normal;font-family:Menlo,'DejaVu Sans Mono',consolas,'Courier New',monospace\"><span style=\"font-weight: bold\"> Non-trainable params: </span><span style=\"color: #00af00; text-decoration-color: #00af00\">0</span> (0.00 B)\n",
              "</pre>\n"
            ]
          },
          "metadata": {}
        }
      ]
    },
    {
      "cell_type": "markdown",
      "source": [
        "## Prepare Input Data:\n"
      ],
      "metadata": {
        "id": "OHBQjNfT9YEo"
      }
    },
    {
      "cell_type": "code",
      "source": [
        "test_inputs = {\n",
        "    'numeric_input': test_numeric_scaled,\n",
        "    'elink_input': df_test['Elink'].values,\n",
        "    'channel_input': df_test['channelID'].values,\n",
        "    # 'Link_ID_encoded': df_test['Link_ID_encoded'].values,\n",
        "    'tac_input': df_test['tacID'].values\n",
        "}\n",
        "\n",
        "# y_train_val=train_targets_scaled\n",
        "y_test=test_targets_scaled"
      ],
      "metadata": {
        "id": "QybKwdEg86yk"
      },
      "execution_count": 16,
      "outputs": []
    },
    {
      "cell_type": "code",
      "source": [
        "import keras\n",
        "from sklearn.model_selection import GroupKFold\n",
        "from keras import models, layers, regularizers, callbacks\n",
        "from sklearn.preprocessing import StandardScaler\n",
        "\n",
        "# Define GroupKFold\n",
        "n_splits=5\n",
        "gkf = GroupKFold(n_splits)\n",
        "groups = df_train_val['Elink']   # grouping by Elink\n",
        "#Storage for fold metrics\n",
        "fold_scores = []\n",
        "\n",
        "scaler_X = StandardScaler()\n",
        "scaler_y = StandardScaler()\n",
        "X_trainval=df_train_val[feature_cols]\n",
        "y_trainval=df_train_val[target_cols]\n",
        "\n",
        "# Loop through each fold\n",
        "for fold, (train_idx, val_idx) in enumerate(gkf.split(X_trainval, y_trainval, groups)):\n",
        "    print(f\"\\n=== Fold {fold+1}/{n_splits} ===\")\n",
        "    X_tr, X_val = X_trainval.iloc[train_idx], X_trainval.iloc[val_idx]\n",
        "    y_tr, y_val = y_trainval.iloc[train_idx], y_trainval.iloc[val_idx]\n",
        "    train_numeric_scaled_group = scaler_X.fit_transform(X_tr[numeric])\n",
        "    train_targets_scaled_group = scaler_y.fit_transform(y_tr[target_cols])\n",
        "\n",
        "    train_inputs = {\n",
        "    'numeric_input': train_numeric_scaled_group,\n",
        "    'elink_input': X_tr['Elink'].values,\n",
        "    'channel_input': X_tr['channelID'].values,\n",
        "    # 'Link_ID_encoded': df_train_val['Link_ID_encoded'].values,\n",
        "    'tac_input': X_tr['tacID'].values\n",
        "    }\n",
        "\n",
        "    history = model.fit(\n",
        "        train_inputs,\n",
        "        train_targets_scaled_group,\n",
        "        validation_data=(X_val, y_val),\n",
        "        epochs=100,\n",
        "        batch_size=64,\n",
        "        callbacks=[keras.callbacks.EarlyStopping(monitor='val_loss', patience=7, restore_best_weights=True)]\n",
        "    )\n",
        "\n",
        "    # --- Evaluate on validation fold ---\n",
        "    val_loss, val_mae = model.evaluate(X_val, y_val, verbose=0)\n",
        "    print(f\"Fold {fold+1} - Val Loss: {val_loss:.4f}, Val MAE: {val_mae:.4f}\")\n",
        "\n",
        "    fold_scores.append((val_loss, val_mae))\n",
        "\n",
        "# Average results\n",
        "avg_loss = np.mean([x[0] for x in fold_scores])\n",
        "avg_mae = np.mean([x[1] for x in fold_scores])\n",
        "print(f\"\\nAverage across folds - Loss: {avg_loss:.4f}, MAE: {avg_mae:.4f}\")\n"
      ],
      "metadata": {
        "id": "AT8hsReM41tK"
      },
      "execution_count": null,
      "outputs": []
    },
    {
      "cell_type": "code",
      "source": [
        "model.save(\"/content/drive/MyDrive/Colab Notebooks/Masters' Work/calibration_t1fine_nn_newtargets_dropout_regularization.h5\")\n"
      ],
      "metadata": {
        "id": "T90HV7tNN8kt"
      },
      "execution_count": null,
      "outputs": []
    },
    {
      "cell_type": "markdown",
      "source": [
        "### Prediction:\n"
      ],
      "metadata": {
        "id": "vwHS5072Nme5"
      }
    },
    {
      "cell_type": "code",
      "source": [
        "from sklearn.metrics import mean_squared_error\n",
        "y_pred = model.predict(test_inputs)\n",
        "y_pred_original = scaler_y.inverse_transform(y_pred)\n",
        "\n",
        "\n",
        "rmse = np.sqrt(mean_squared_error(df_test[target_cols].values, y_pred_original))\n",
        "print(f\"RMSE: {rmse:.4f}\")\n"
      ],
      "metadata": {
        "id": "tbnoGAdrNk_2"
      },
      "execution_count": null,
      "outputs": []
    },
    {
      "cell_type": "code",
      "source": [
        "test_loss, test_mae = model.evaluate(test_inputs, y_test, batch_size=32)\n",
        "print(f\"Test Loss: {test_loss:.6f}\")\n",
        "print(f\"Test MAE: {test_mae:.6f}\")\n"
      ],
      "metadata": {
        "id": "n5H5hzPoh2d8"
      },
      "execution_count": null,
      "outputs": []
    },
    {
      "cell_type": "code",
      "source": [
        "print(df_train_val[numeric + target_cols].describe())\n",
        "print(df_train_val[numeric + target_cols].isna().sum())\n"
      ],
      "metadata": {
        "id": "RzgiaUPoIscz"
      },
      "execution_count": null,
      "outputs": []
    },
    {
      "cell_type": "code",
      "source": [
        "import matplotlib.pyplot as plt\n",
        "\n",
        "# Plot Loss\n",
        "plt.figure(figsize=(8,5))\n",
        "plt.plot(history.history['loss'], label='Training Loss')\n",
        "plt.plot(history.history['val_loss'], label='Validation Loss')\n",
        "plt.xlabel('Epochs')\n",
        "plt.ylabel('MSE Loss')\n",
        "plt.title('Training and Validation Loss')\n",
        "plt.legend()\n",
        "plt.show()\n",
        "\n",
        "# Plot MAE\n",
        "plt.figure(figsize=(8,5))\n",
        "plt.plot(history.history['mae'], label='Training MAE')\n",
        "plt.plot(history.history['val_mae'], label='Validation MAE')\n",
        "plt.xlabel('Epochs')\n",
        "plt.ylabel('MAE')\n",
        "plt.title('Training and Validation MAE')\n",
        "plt.legend()\n",
        "plt.show()\n"
      ],
      "metadata": {
        "id": "V0TawXxvJHS8"
      },
      "execution_count": null,
      "outputs": []
    },
    {
      "cell_type": "code",
      "source": [
        "from tensorflow.keras.utils import plot_model\n",
        "\n",
        "# Suppose your model is named `model`\n",
        "plot_model(model, to_file='model_dropout_regularization.png', show_shapes=True, show_layer_names=True)\n",
        "from IPython.display import Image\n",
        "Image('model_dropout_regularization.png')\n"
      ],
      "metadata": {
        "id": "ZKKYLXWddqQq"
      },
      "execution_count": null,
      "outputs": []
    },
    {
      "cell_type": "markdown",
      "source": [
        "## Results:\n",
        "- Loss: training loss decreases smoothly as the model is being trained.\n",
        "\n",
        "- Validation loss: small fluctuations but is generally decreasing and showcases no severe overfitting.\n",
        "- MAE: training MAE and validation MAE are both very low (~0.012–0.015) → model predicts very accurately.\n",
        "\n",
        "\n",
        "However, when observing the MAE and RMSE for the test dataset, the metrics indicate that the model has overfit, and models the training/validation data perfectly but generalizes poorly on unseen test data."
      ],
      "metadata": {
        "id": "Ve3EZ7AbjVUH"
      }
    },
    {
      "cell_type": "markdown",
      "source": [
        "### Improvement Attempts:\n",
        "- L2 Regularization\n",
        "\n",
        "Added kernel_regularizer=l2(0.001) to dense layers → penalizes large weights.\n",
        "\n",
        "- Dropout\n",
        "\n",
        "Added Dropout(0.3) after each dense layer → randomly drops 30% of neurons during training.\n",
        "\n",
        "- Batch Normalization\n",
        "\n",
        "Added BatchNormalization() after each dense layer → stabilizes learning and reduces overfittin"
      ],
      "metadata": {
        "id": "WV6JWDe2jXSn"
      }
    },
    {
      "cell_type": "markdown",
      "source": [
        "Data Processing"
      ],
      "metadata": {
        "id": "Ie80i-EyPlDQ"
      }
    },
    {
      "cell_type": "code",
      "source": [
        "from sklearn.preprocessing import LabelEncoder\n",
        "#Create a new feature that combines both parameters that we seek to predict:\n",
        "df[\"Calibrated_t1fine\"]=df[\"t0\"]+df[\"qT1\"]\n",
        "\n",
        "feature_cols=['Elink', 'channelID','time_raw', \"t1fine\", \"tacID\", \"t1coarse_int\", \"Link_ID\"]\n",
        "# Y_cols=[\"t0\", \"a0\",\"a1\",\"a2\"]\n",
        "target_cols=[\"Calibrated_t1fine\"]\n",
        "\n",
        "categorical = ['Elink', 'channelID',\"tacID\",\"Link_ID\"]\n",
        "numeric = [c for c in feature_cols if c not in categorical]\n",
        "\n",
        "unique_elinks=df['Elink'].unique()\n",
        "\n",
        "# Split elinks into train and test (val+test)\n",
        "elinks_train_val, elinks_test = train_test_split(\n",
        "    unique_elinks, test_size=0.15, random_state=42\n",
        ")\n",
        "\n",
        "\n",
        "\n",
        "# Encode 'Link_ID' for train_val and test sets\n",
        "le = LabelEncoder()\n",
        "df['Link_ID_encoded'] = le.fit_transform(df['Link_ID'])\n",
        "numeric+=['Link_ID_encoded']\n",
        "print(\"Numeric Columns are\", numeric)\n",
        "#Split the dataset according to the eLink\n",
        "df_train_val = df[df['Elink'].isin(elinks_train_val)].copy()\n",
        "df_test     = df[df['Elink'].isin(elinks_test)].copy()\n",
        "\n",
        "### Scale Numeric Values:\n",
        "\n",
        "from sklearn.preprocessing import StandardScaler\n",
        "\n",
        "scaler_X = StandardScaler()\n",
        "scaler_y = StandardScaler()\n",
        "\n",
        "train_numeric_scaled = scaler_X.fit_transform(df_train_val[numeric])\n",
        "test_numeric_scaled = scaler_X.transform(df_test[numeric])\n",
        "\n",
        "train_targets_scaled = scaler_y.fit_transform(df_train_val[target_cols])\n",
        "test_targets_scaled = scaler_y.transform(df_test[target_cols])"
      ],
      "metadata": {
        "id": "TJkSs3gXNtAC"
      },
      "execution_count": null,
      "outputs": []
    },
    {
      "cell_type": "markdown",
      "source": [
        "Add numeric features:"
      ],
      "metadata": {
        "id": "qphSzeqJPfmX"
      }
    },
    {
      "cell_type": "code",
      "source": [
        "from keras.layers import Dense, Concatenate\n",
        "\n",
        "input_numeric = Input(shape=(len(numeric),), name=\"numeric_input\")\n",
        "input_numeric"
      ],
      "metadata": {
        "id": "_-8U47vaPfC1"
      },
      "execution_count": null,
      "outputs": []
    },
    {
      "cell_type": "markdown",
      "source": [
        "Modified Model Architecture"
      ],
      "metadata": {
        "id": "gwqT5bNVPiC3"
      }
    },
    {
      "cell_type": "code",
      "source": [
        "# Embedding layer for the 'eLink' feature\n",
        "from keras.layers import Input\n",
        "from keras.models import Model\n",
        "from keras.layers import Embedding\n",
        "from keras.layers import Reshape\n",
        "\n",
        "#N dimension\n",
        "n_unique_eLink = df['Elink'].nunique()\n",
        "n_dim_eLinks=int(np.sqrt(df['Elink'].nunique()))\n",
        "print(\"The dimension for embedding of elink is\", n_dim_eLinks)\n",
        "input_eLink = Input(shape=(1, ), name=\"Elink\")\n",
        "output_eLink = Embedding(input_dim=n_unique_eLink+1,\n",
        "                        output_dim=n_dim_eLinks, name=\"Elink_embedding\")(input_eLink)\n",
        "output_eLink = Reshape(target_shape=(n_dim_eLinks, ))(output_eLink)\n",
        "\n",
        "\n",
        "# Embedding layer for the 'channelID' feature\n",
        "n_unique_ch = df['channelID'].nunique()\n",
        "n_dim_ch = int(np.sqrt(n_unique_ch))\n",
        "input_ch = Input(shape=(1, ), name=\"channelID\")\n",
        "output_ch= Embedding(input_dim=n_unique_ch+1,\n",
        "                           output_dim=n_dim_ch,\n",
        "                           name=\"channelID_embedding\")(input_ch)\n",
        "output_ch = Reshape(target_shape=(n_dim_ch, ))(output_ch)\n",
        "\n",
        "\n",
        "\n",
        "#Embedding layer for the tacID:\n",
        "n_unique_tacs = df['tacID'].nunique()\n",
        "n_dim_tacs = int(np.sqrt(n_unique_tacs))\n",
        "input_tacs = Input(shape=(1, ),name=\"tacID\")\n",
        "output_tacs_embed= Embedding(input_dim=n_unique_tacs+1,\n",
        "                           output_dim=n_dim_tacs,\n",
        "                           name=\"tacID_embedding\")(input_tacs)\n",
        "output_tacs = Reshape(target_shape=(n_dim_tacs, ))(output_tacs_embed)"
      ],
      "metadata": {
        "id": "7ETRJBq0PGO8"
      },
      "execution_count": null,
      "outputs": []
    },
    {
      "cell_type": "code",
      "source": [
        "from tensorflow.keras.models import Model\n",
        "from tensorflow.keras.layers import Input, Embedding, Reshape, Concatenate, Dense, Dropout, BatchNormalization\n",
        "from tensorflow.keras.regularizers import l2\n",
        "\n",
        "\n",
        "x = Concatenate()([\n",
        "    output_eLink,\n",
        "    output_ch,\n",
        "    # output_links,\n",
        "    output_tacs,\n",
        "    input_numeric\n",
        "])\n",
        "# --- Dense layers with regularization ---\n",
        "\n",
        "\n",
        "dense1 = Dense(128, activation='relu', kernel_regularizer=l2(0.001))(x)\n",
        "bn1 = BatchNormalization()(dense1)\n",
        "drop1 = Dropout(0.3)(bn1)\n",
        "\n",
        "dense2 = Dense(32, activation='relu', kernel_regularizer=l2(0.001))(drop1)\n",
        "bn2 = BatchNormalization()(dense2)\n",
        "drop2 = Dropout(0.3)(bn2)\n",
        "\n",
        "# --- Output layer ---\n",
        "output_model2 = Dense(1, name='output')(drop2)\n",
        "\n",
        "# --- Model ---\n",
        "model_improvement = Model(   inputs=[input_eLink, input_ch,\n",
        "            # input_links,\n",
        "            input_tacs, input_numeric], outputs=output_model2)\n",
        "\n",
        "# --- Compile ---\n",
        "model_improvement.compile(optimizer='adam', loss='mse', metrics=['mae'])\n",
        "model_improvement.summary()"
      ],
      "metadata": {
        "id": "sd9jZm8OgyuR"
      },
      "execution_count": null,
      "outputs": []
    },
    {
      "cell_type": "markdown",
      "source": [
        "Prepare inputs for model:"
      ],
      "metadata": {
        "id": "We9qESGjPyH-"
      }
    },
    {
      "cell_type": "code",
      "source": [
        "train_inputs = {\n",
        "    'numeric_input': train_numeric_scaled,\n",
        "    'Elink': df_train_val['Elink'].values,\n",
        "    'channelID': df_train_val['channelID'].values,\n",
        "    'Link_ID_encoded': df_train_val['Link_ID_encoded'].values,\n",
        "    'tacID': df_train_val['tacID'].values\n",
        "}\n",
        "\n",
        "test_inputs = {\n",
        "    'numeric_input': test_numeric_scaled,\n",
        "    'Elink': df_test['Elink'].values,\n",
        "    'channelID': df_test['channelID'].values,\n",
        "    'Link_ID_encoded': df_test['Link_ID_encoded'].values,\n",
        "    'tacID': df_test['tacID'].values\n",
        "}\n",
        "\n",
        "y_train_val=train_targets_scaled\n",
        "y_test=test_targets_scaled"
      ],
      "metadata": {
        "id": "nz16RViLPx6Q"
      },
      "execution_count": null,
      "outputs": []
    },
    {
      "cell_type": "code",
      "source": [
        "from tensorflow.keras.callbacks import EarlyStopping\n",
        "\n",
        "early_stop = EarlyStopping(monitor='val_loss', patience=10, restore_best_weights=True)\n",
        "history_model_improvements = model_improvement.fit(train_inputs, y_train_val, epochs=60, batch_size=64, callbacks=[early_stop])\n"
      ],
      "metadata": {
        "id": "5CDRiURdkoLU"
      },
      "execution_count": null,
      "outputs": []
    },
    {
      "cell_type": "code",
      "source": [
        "model_improvement.save(\"/content/drive/MyDrive/Colab Notebooks/Masters' Work/calibration_t1fine_fineturned_nn_model.h5\")\n"
      ],
      "metadata": {
        "id": "obw9zlHalL9o"
      },
      "execution_count": null,
      "outputs": []
    },
    {
      "cell_type": "code",
      "source": [
        "test_loss, test_mae = model_improvement.evaluate(test_inputs, y_test, batch_size=64)\n",
        "print(f\"Test Loss: {test_loss:.6f}\")\n",
        "print(f\"Test MAE: {test_mae:.6f}\")"
      ],
      "metadata": {
        "id": "xErof8OsNHsW"
      },
      "execution_count": null,
      "outputs": []
    },
    {
      "cell_type": "code",
      "source": [],
      "metadata": {
        "id": "s-F5hr0iFJcP"
      },
      "execution_count": null,
      "outputs": []
    }
  ]
}